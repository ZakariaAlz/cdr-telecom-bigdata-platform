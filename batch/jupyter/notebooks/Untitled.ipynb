{
 "cells": [
  {
   "cell_type": "code",
   "execution_count": 1,
   "id": "86b085ee-44c8-4d3a-8ad9-dccc14c30552",
   "metadata": {},
   "outputs": [
    {
     "name": "stderr",
     "output_type": "stream",
     "text": [
      "Setting default log level to \"WARN\".\n",
      "To adjust logging level use sc.setLogLevel(newLevel). For SparkR, use setLogLevel(newLevel).\n",
      "25/05/06 03:06:35 WARN NativeCodeLoader: Unable to load native-hadoop library for your platform... using builtin-java classes where applicable\n"
     ]
    },
    {
     "name": "stdout",
     "output_type": "stream",
     "text": [
      "Error processing data: [PATH_NOT_FOUND] Path does not exist: file:/home/jovyan/work/data/converted.\n"
     ]
    }
   ],
   "source": [
    "from pyspark.sql import SparkSession\n",
    "\n",
    "# Initialize Spark session in local mode\n",
    "spark = SparkSession.builder \\\n",
    "    .appName(\"CDR Analysis\") \\\n",
    "    .master(\"local[*]\") \\\n",
    "    .getOrCreate()\n",
    "\n",
    "# Define the path to your data\n",
    "local_data_path = \"/home/jovyan/work/data/converted\"  # Adjust if needed\n",
    "\n",
    "# Read your data\n",
    "try:\n",
    "    # Try to read CSV data\n",
    "    cdr_data = spark.read.csv(local_data_path, header=True, inferSchema=True)\n",
    "    print(\"Successfully read data!\")\n",
    "    \n",
    "    # Show schema and sample\n",
    "    print(\"Data Schema:\")\n",
    "    cdr_data.printSchema()\n",
    "    \n",
    "    print(\"\\nSample data:\")\n",
    "    cdr_data.show(5)\n",
    "    \n",
    "    # Perform basic analysis\n",
    "    from pyspark.sql.functions import count, avg, sum\n",
    "    \n",
    "    # First check if 'call_type' column exists\n",
    "    columns = cdr_data.columns\n",
    "    print(f\"Available columns: {columns}\")\n",
    "    \n",
    "    # Choose an appropriate column for grouping (adjust based on your actual schema)\n",
    "    grouping_column = \"call_type\" if \"call_type\" in columns else columns[0]\n",
    "    \n",
    "    call_stats = cdr_data.groupBy(grouping_column) \\\n",
    "        .agg(\n",
    "            count(\"*\").alias(\"count\")\n",
    "        )\n",
    "    \n",
    "    print(\"\\nData statistics:\")\n",
    "    call_stats.show()\n",
    "    \n",
    "    # Save results locally\n",
    "    call_stats.write.mode(\"overwrite\").csv(\"/home/jovyan/work/results\")\n",
    "    print(\"Analysis complete and results saved!\")\n",
    "    \n",
    "except Exception as e:\n",
    "    print(f\"Error processing data: {e}\")"
   ]
  },
  {
   "cell_type": "code",
   "execution_count": null,
   "id": "5017e2d2-f3bf-4343-9abe-3fbcaa107520",
   "metadata": {},
   "outputs": [],
   "source": []
  }
 ],
 "metadata": {
  "kernelspec": {
   "display_name": "Python 3 (ipykernel)",
   "language": "python",
   "name": "python3"
  },
  "language_info": {
   "codemirror_mode": {
    "name": "ipython",
    "version": 3
   },
   "file_extension": ".py",
   "mimetype": "text/x-python",
   "name": "python",
   "nbconvert_exporter": "python",
   "pygments_lexer": "ipython3",
   "version": "3.11.6"
  }
 },
 "nbformat": 4,
 "nbformat_minor": 5
}
