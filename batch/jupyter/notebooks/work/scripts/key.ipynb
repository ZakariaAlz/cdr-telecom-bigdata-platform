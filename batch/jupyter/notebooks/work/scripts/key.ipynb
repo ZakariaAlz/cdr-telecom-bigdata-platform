{
 "cells": [
  {
   "cell_type": "code",
   "execution_count": 1,
   "id": "f921a223-e416-499a-b140-aef085210b3f",
   "metadata": {},
   "outputs": [
    {
     "ename": "SyntaxError",
     "evalue": "invalid syntax (2054497723.py, line 1)",
     "output_type": "error",
     "traceback": [
      "\u001b[0;36m  Cell \u001b[0;32mIn[1], line 1\u001b[0;36m\u001b[0m\n\u001b[0;31m    python3 -c \"from cryptography.fernet import Fernet; print(Fernet.generate_key().decode())\"\u001b[0m\n\u001b[0m               ^\u001b[0m\n\u001b[0;31mSyntaxError\u001b[0m\u001b[0;31m:\u001b[0m invalid syntax\n"
     ]
    }
   ],
   "source": [
    "python3 -c \"from cryptography.fernet import Fernet; print(Fernet.generate_key().decode())\"\n"
   ]
  },
  {
   "cell_type": "code",
   "execution_count": 1,
   "id": "25c52deb-1c34-4f9d-837e-a3c832d5e1d2",
   "metadata": {},
   "outputs": [
    {
     "name": "stdout",
     "output_type": "stream",
     "text": [
      "/home/jovyan/work/work/scripts\n"
     ]
    }
   ],
   "source": [
    "import os\n",
    "print(os.getcwd())\n"
   ]
  },
  {
   "cell_type": "code",
   "execution_count": null,
   "id": "cb18e1ab-ab16-4416-91ab-68375830d0a2",
   "metadata": {},
   "outputs": [],
   "source": []
  }
 ],
 "metadata": {
  "kernelspec": {
   "display_name": "Python 3 (ipykernel)",
   "language": "python",
   "name": "python3"
  },
  "language_info": {
   "codemirror_mode": {
    "name": "ipython",
    "version": 3
   },
   "file_extension": ".py",
   "mimetype": "text/x-python",
   "name": "python",
   "nbconvert_exporter": "python",
   "pygments_lexer": "ipython3",
   "version": "3.11.6"
  }
 },
 "nbformat": 4,
 "nbformat_minor": 5
}
