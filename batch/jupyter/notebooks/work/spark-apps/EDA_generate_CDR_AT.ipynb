{
 "cells": [
  {
   "cell_type": "markdown",
   "id": "3d07e0a1-7905-4834-bb17-b8c4e777667e",
   "metadata": {},
   "source": [
    "## EDA "
   ]
  },
  {
   "cell_type": "code",
   "execution_count": 1,
   "id": "d6ce7e93-7385-4788-b662-728c7e52007a",
   "metadata": {},
   "outputs": [
    {
     "name": "stderr",
     "output_type": "stream",
     "text": [
      "Setting default log level to \"WARN\".\n",
      "To adjust logging level use sc.setLogLevel(newLevel). For SparkR, use setLogLevel(newLevel).\n",
      "25/06/25 00:43:53 WARN NativeCodeLoader: Unable to load native-hadoop library for your platform... using builtin-java classes where applicable\n"
     ]
    },
    {
     "name": "stdout",
     "output_type": "stream",
     "text": [
      "✅ SparkSession initialized (App: EDA of the generated CDR AT - Complete Pipeline, Spark: 3.5.1)\n",
      "✅ Hive Warehouse: hdfs://namenode:9000/user/hive/warehouse\n",
      "✅ Hive Metastore URI: thrift://hive-metastore:9083\n",
      "✅ SparkSession initialized\n"
     ]
    }
   ],
   "source": [
    "import sys\n",
    "sys.path.append('/home/jovyan/work/work/scripts')\n",
    "from pyspark.sql import functions as F, types as T\n",
    "from pyspark.sql.types import *\n",
    "import pandas as pd\n",
    "import matplotlib.pyplot as plt\n",
    "import seaborn as sns\n",
    "from datetime import datetime\n",
    "# Initialize Spark\n",
    "from spark_init import init_spark\n",
    "\n",
    "# Initialize Spark with proper configuration\n",
    "spark = init_spark(\"EDA of the generated CDR AT - Complete Pipeline\")\n",
    "print(\"✅ SparkSession initialized\")"
   ]
  },
  {
   "cell_type": "code",
   "execution_count": null,
   "id": "c518747b-81a1-4c1c-9035-5d50aa6aabe7",
   "metadata": {},
   "outputs": [],
   "source": [
    "# ---- 2. Load Data ----\n",
    "CUSTOMERS_PATH = \"/mnt/generated_at_cdr/customers.parquet\"\n",
    "CDR_PATH = \"/mnt/generated_at_cdr/cdr_*.parquet\"   # use wildcard if many\n",
    "\n",
    "customers = spark.read.parquet(CUSTOMERS_PATH)\n",
    "cdr = spark.read.parquet(CDR_PATH)\n"
   ]
  },
  {
   "cell_type": "code",
   "execution_count": null,
   "id": "283d37ed-8b00-45db-b86c-4ff2dbd0b13d",
   "metadata": {},
   "outputs": [],
   "source": [
    "# ---- 3. Quick Schema & Row Counts ----\n",
    "customers.printSchema()\n",
    "cdr.printSchema()\n",
    "\n",
    "print(f\"Customers: {customers.count():,}\")\n",
    "print(f\"CDRs: {cdr.count():,}\")\n"
   ]
  },
  {
   "cell_type": "code",
   "execution_count": null,
   "id": "c049921e-de40-4e31-b25e-76ca91260edc",
   "metadata": {},
   "outputs": [],
   "source": [
    "# ---- 4. Data Preview ----\n",
    "customers.show(30, truncate=False)\n",
    "cdr.show(30, truncate=False)\n"
   ]
  },
  {
   "cell_type": "code",
   "execution_count": null,
   "id": "09be0b29-c711-4270-84ad-b0d4980c99a7",
   "metadata": {},
   "outputs": [],
   "source": [
    "# ---- 5. Anonymization Audit ----\n",
    "print(\"Sample anonymized fields:\")\n",
    "customers.select(\"customer_id\", \"phone_number\").show(30, truncate=False)\n",
    "cdr.select(\"customer_id\", \"phone_number\", \"b_number\").show(30, truncate=False)\n",
    "# Check for possible de-anonymization leaks (should be no integer-only or obvious formats)\n"
   ]
  },
  {
   "cell_type": "code",
   "execution_count": null,
   "id": "4a16c830-08c0-4ba8-a8d6-6366a3085035",
   "metadata": {},
   "outputs": [],
   "source": [
    "# ---- 6. Data Quality: NULL/Missing/Uniqueness ----\n",
    "from pyspark.sql.functions import col, count, isnan, countDistinct\n",
    "\n",
    "# Null count per column (customers)\n",
    "for colname in customers.columns:\n",
    "    nulls = customers.filter(col(colname).isNull()).count()\n",
    "    print(f\"{colname}: {nulls} NULLs\")\n",
    "\n",
    "# Unique customer_id\n",
    "print(\"Unique customer_id in customers:\", customers.select(\"customer_id\").distinct().count())\n",
    "print(\"Unique phone_number in customers:\", customers.select(\"phone_number\").distinct().count())\n"
   ]
  },
  {
   "cell_type": "code",
   "execution_count": null,
   "id": "9613776a-a439-4cd1-ae79-21f0d7f0a6cf",
   "metadata": {},
   "outputs": [],
   "source": [
    "# ---- 7. Customer Distribution by Segments ----\n",
    "customers.groupBy(\"customer_type\").count().show()\n",
    "customers.groupBy(\"service_type\").count().show()\n",
    "customers.groupBy(\"wilaya_name\").count().orderBy(F.desc(\"count\")).show(10)\n",
    "\n",
    "# Pie chart (optional, pandas)\n",
    "df_cust = customers.groupBy(\"service_type\").count().toPandas()\n",
    "df_cust.plot.pie(y=\"count\", labels=df_cust[\"service_type\"], legend=False, autopct=\"%.1f%%\")\n",
    "plt.title(\"Customer Distribution by Service Type\")\n",
    "plt.ylabel(\"\")\n",
    "plt.show()\n"
   ]
  },
  {
   "cell_type": "code",
   "execution_count": null,
   "id": "7d6293f8-ae88-4e0e-8057-45fb219e2d51",
   "metadata": {},
   "outputs": [],
   "source": [
    "# ---- 8. CDR Distribution: Types, Service, Wilaya ----\n",
    "cdr.groupBy(\"cdr_type\").count().show()\n",
    "cdr.groupBy(\"service_type\").count().show()\n",
    "cdr.groupBy(\"wilaya_name\").count().orderBy(F.desc(\"count\")).show(10)\n",
    "\n",
    "cdr.groupBy(\"cdr_type\", \"service_type\").count().orderBy(F.desc(\"count\")).show(12)\n"
   ]
  },
  {
   "cell_type": "code",
   "execution_count": null,
   "id": "a4e2f653-7586-4408-aab6-48eb11d7d0e2",
   "metadata": {},
   "outputs": [],
   "source": [
    "# ---- 9. Joinability Test & CDR Coverage ----\n",
    "joined = cdr.join(customers, \"customer_id\", \"left\")\n",
    "# % of CDRs with a matching customer\n",
    "matched = joined.filter(\"wilaya_name is not null\").count() / cdr.count()\n",
    "print(f\"CDRs with matching customer: {matched*100:.2f}%\")\n",
    "# Should be ~100% unless simulating churned/ghost customers.\n"
   ]
  },
  {
   "cell_type": "code",
   "execution_count": null,
   "id": "2b5c1b05-66ba-4d2c-bedf-ce0d570b1106",
   "metadata": {},
   "outputs": [],
   "source": [
    "# ---- 10. Churn/Activation Patterns ----\n",
    "customers.groupBy(\"is_active\").count().show()\n",
    "\n",
    "# Churn by service type/wilaya\n",
    "customers.groupBy(\"service_type\", \"is_active\").count().orderBy(\"service_type\", \"is_active\").show()\n",
    "\n",
    "# Time since activation\n",
    "import pyspark.sql.functions as F\n",
    "from datetime import datetime\n",
    "\n",
    "customers = customers.withColumn(\"activation_date_dt\", F.from_unixtime((F.col(\"activation_date\")/1000).cast(\"long\")))\n",
    "customers.select(F.min(\"activation_date_dt\"), F.max(\"activation_date_dt\")).show()\n"
   ]
  },
  {
   "cell_type": "code",
   "execution_count": null,
   "id": "82d6361c-e5b3-4d27-b742-afe894aed2e9",
   "metadata": {},
   "outputs": [],
   "source": [
    "# ---- 11. Business Logic Checks ----\n",
    "# Offer-price-bandwidth alignment\n",
    "customers.groupBy(\"offer_name\", \"offer_price\", \"bandwidth_mbps\").count().orderBy(F.desc(\"count\")).show(12)\n",
    "# Out-of-range/implausible checks\n",
    "customers.filter(\"offer_price < 100 or offer_price > 10000\").show()\n",
    "customers.filter(\"bandwidth_mbps > 2000\").show()\n",
    "cdr.filter(\"duration_seconds > 4*3600\").show()  # Calls > 4 hours? Outliers.\n"
   ]
  },
  {
   "cell_type": "code",
   "execution_count": null,
   "id": "05e83926-a2d3-4c54-89f2-27f654eea4a2",
   "metadata": {},
   "outputs": [],
   "source": [
    "# ---- 12. Basic Usage Stats ----\n",
    "cdr.groupBy(\"cdr_type\").agg(\n",
    "    F.count(\"*\").alias(\"count\"),\n",
    "    F.mean(\"duration_seconds\").alias(\"avg_duration_sec\"),\n",
    "    F.mean(\"cost_da\").alias(\"avg_cost_da\"),\n",
    "    F.sum(\"cost_da\").alias(\"total_revenue_da\")\n",
    ").show()\n"
   ]
  },
  {
   "cell_type": "code",
   "execution_count": null,
   "id": "d856ec5c-0026-4765-a6b2-13f5d262b2c5",
   "metadata": {},
   "outputs": [],
   "source": [
    "# ---- 13. Outage/Plan Change Events ----\n",
    "cdr.filter(\"cdr_type = 'OUTAGE'\").groupBy(\"wilaya_name\", \"outage_type\").count().orderBy(F.desc(\"count\")).show(10)\n",
    "cdr.filter(\"cdr_type = 'PLAN_CHANGE'\").groupBy(\"old_offer\", \"new_offer\").count().show(10)\n",
    "cdr.filter(\"cdr_type = 'RECHARGE'\").groupBy(\"payment_method\").count().show()\n"
   ]
  },
  {
   "cell_type": "code",
   "execution_count": null,
   "id": "bb5004b8-c4a0-440f-b45c-0d717abadd45",
   "metadata": {},
   "outputs": [],
   "source": [
    "# ---- 14. International & Special Event Patterns ----\n",
    "cdr.filter(\"cdr_type = 'VOICE' and call_type = 'INTERNATIONAL'\").groupBy(\"wilaya_name\").count().orderBy(F.desc(\"count\")).show(10)\n",
    "cdr.filter(\"cdr_type = 'VOICE' and call_type = 'FAVORI'\").groupBy(\"wilaya_name\").count().orderBy(F.desc(\"count\")).show(10)\n",
    "cdr.groupBy(F.dayofmonth(\"timestamp\").alias(\"day\")).count().orderBy(\"day\").show()\n"
   ]
  },
  {
   "cell_type": "code",
   "execution_count": null,
   "id": "af921b96-cba7-485c-b8e4-d389fe3d1091",
   "metadata": {},
   "outputs": [],
   "source": [
    "# ---- 15. Data Usage Patterns (by hour, day, wilaya, service) ----\n",
    "cdr_data = cdr.filter(\"cdr_type = 'DATA'\")\n",
    "cdr_data = cdr_data.withColumn(\"hour\", F.hour(\"timestamp\"))\n",
    "cdr_data.groupBy(\"hour\").agg(F.mean(\"data_volume_mb\").alias(\"avg_data_mb\")).orderBy(\"hour\").show(24)\n",
    "\n",
    "# Plot hourly average\n",
    "df_hour = cdr_data.groupBy(\"hour\").agg(F.mean(\"data_volume_mb\").alias(\"avg_data_mb\")).orderBy(\"hour\").toPandas()\n",
    "plt.plot(df_hour[\"hour\"], df_hour[\"avg_data_mb\"])\n",
    "plt.xlabel(\"Hour of Day\")\n",
    "plt.ylabel(\"Avg Data Usage (MB)\")\n",
    "plt.title(\"Hourly Avg Data Usage\")\n",
    "plt.show()\n"
   ]
  },
  {
   "cell_type": "code",
   "execution_count": null,
   "id": "4aaa65da-20ea-4a17-a1a7-2215b4684c44",
   "metadata": {},
   "outputs": [],
   "source": [
    "# ---- 16. Data Quality Red Flags: Anomaly Checks ----\n",
    "# Impossible/negative durations or costs\n",
    "cdr.filter(\"duration_seconds < 0 or cost_da < 0\").show()\n",
    "# Impossible data usage\n",
    "cdr_data.filter(\"data_volume_mb < 0\").show()\n",
    "# Duplicates\n",
    "dup_cdr = cdr.groupBy(\"cdr_id\").count().filter(\"count > 1\").count()\n",
    "print(f\"Duplicate CDR IDs: {dup_cdr}\")\n"
   ]
  },
  {
   "cell_type": "code",
   "execution_count": null,
   "id": "2ee17886-9d5b-48c6-83bc-819a3753bab9",
   "metadata": {},
   "outputs": [],
   "source": [
    "# ---- 17. Save Cleaned Data if Needed ----\n",
    "# Example: Remove rows with null customer_id or negative cost\n",
    "clean_cdr = cdr.filter(\"customer_id is not null and (cost_da is null or cost_da >= 0)\")\n",
    "clean_cdr.write.mode(\"overwrite\").parquet(\"/mnt/cleaned/cdr_cleaned.parquet\")\n"
   ]
  }
 ],
 "metadata": {
  "kernelspec": {
   "display_name": "Python 3 (ipykernel)",
   "language": "python",
   "name": "python3"
  },
  "language_info": {
   "codemirror_mode": {
    "name": "ipython",
    "version": 3
   },
   "file_extension": ".py",
   "mimetype": "text/x-python",
   "name": "python",
   "nbconvert_exporter": "python",
   "pygments_lexer": "ipython3",
   "version": "3.11.6"
  }
 },
 "nbformat": 4,
 "nbformat_minor": 5
}
