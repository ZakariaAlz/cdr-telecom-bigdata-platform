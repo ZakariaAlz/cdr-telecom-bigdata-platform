{
 "cells": [
  {
   "cell_type": "markdown",
   "id": "8a8e3dd7-b720-47a1-8b47-bfd014d5aa9a",
   "metadata": {},
   "source": [
    "- Algerie Telecom CDR Data Ingestion and Validation\n",
    "- Author: Zakaria Alizouaoui\n",
    "- Date: June 2025\n"
   ]
  },
  {
   "cell_type": "markdown",
   "id": "44cb15a7-1036-4ef8-abf8-26a7154bab81",
   "metadata": {},
   "source": [
    "\n",
    "# 📊 Data Ingestion and Validation\n",
    "\n",
    "This notebook validates the CDR data ingested into HDFS and performs initial quality checks.\n",
    "\n",
    "## Objectives:\n",
    "- Verify data completeness in HDFS\n",
    "- Validate schema consistency\n",
    "- Check data quality metrics\n",
    "- Generate ingestion report"
   ]
  },
  {
   "cell_type": "markdown",
   "id": "4eefe315-004f-425d-a9c1-22af88ffede2",
   "metadata": {},
   "source": [
    "## 1. Environment Setup"
   ]
  },
  {
   "cell_type": "code",
   "execution_count": 16,
   "id": "1d645c37-53a7-4d12-a540-9c71ea844751",
   "metadata": {},
   "outputs": [
    {
     "name": "stdout",
     "output_type": "stream",
     "text": [
      "dev-batch.sh\t  init-datanode.sh   setup\n",
      "dev-streaming.sh  logs-batch.sh      start-hdfs.sh\n",
      "hdfs\t\t  logs-streaming.sh  stop-all.sh\n"
     ]
    }
   ],
   "source": [
    "!ls /home/jovyan/work/scripts\n"
   ]
  },
  {
   "cell_type": "code",
   "execution_count": 4,
   "id": "96c0c06c-353f-4fba-a2f5-b006cea1a0b1",
   "metadata": {},
   "outputs": [
    {
     "name": "stdout",
     "output_type": "stream",
     "text": [
      "True\n"
     ]
    }
   ],
   "source": [
    "import os\n",
    "print(os.path.exists('/home/jovyan/work/batch/jupyter/notebooks/work/scripts/spark_init.py'))\n"
   ]
  },
  {
   "cell_type": "code",
   "execution_count": null,
   "id": "1f3fa620-131a-4d0d-b80d-a26b1948e94d",
   "metadata": {},
   "outputs": [],
   "source": []
  },
  {
   "cell_type": "code",
   "execution_count": 2,
   "id": "e5974d58-3876-452e-a83d-8ded7e6af49c",
   "metadata": {},
   "outputs": [
    {
     "name": "stdout",
     "output_type": "stream",
     "text": [
      "✅ SparkSession initialized (App: CDR Ingestion and Validation - Generated AT CDR, Spark: 3.5.1)\n",
      "✅ Hive Warehouse: hdfs://namenode:9000/user/hive/warehouse\n",
      "✅ Hive Metastore URI: thrift://hive-metastore:9083\n",
      "✅ SparkSession initialized\n"
     ]
    }
   ],
   "source": [
    "import sys\n",
    "sys.path.append('/home/jovyan/work/batch/jupyter/notebooks/work/scripts')\n",
    "from spark_init import init_spark\n",
    "import hashlib\n",
    "from pyspark.sql import functions as F, types as T\n",
    "from datetime import datetime\n",
    "import matplotlib.pyplot as plt\n",
    "import seaborn as sns\n",
    "import plotly.express as px\n",
    "\n",
    "\n",
    "# Initialize Spark with proper configuration\n",
    "spark = init_spark(\"CDR Ingestion and Validation - Generated AT CDR\")\n",
    "print(\"✅ SparkSession initialized\")"
   ]
  },
  {
   "cell_type": "code",
   "execution_count": 11,
   "id": "4f498b20-5525-4f34-9740-80752752795e",
   "metadata": {},
   "outputs": [
    {
     "name": "stdout",
     "output_type": "stream",
     "text": [
      "Requirement already satisfied: pyarrow in /opt/conda/lib/python3.11/site-packages (20.0.0)\n"
     ]
    }
   ],
   "source": [
    "!pip install pyarrow\n"
   ]
  },
  {
   "cell_type": "markdown",
   "id": "d0ff0545-ffde-4685-840d-e2a5aa503713",
   "metadata": {},
   "source": [
    "## 2. Define HDFS Paths and Load Generation Stats"
   ]
  },
  {
   "cell_type": "code",
   "execution_count": 3,
   "id": "dd3cac88-0982-4529-9b5a-6123f451f20c",
   "metadata": {},
   "outputs": [
    {
     "data": {
      "text/plain": [
       "'/home/jovyan/work/batch/jupyter/notebooks/work/spark-apps'"
      ]
     },
     "execution_count": 3,
     "metadata": {},
     "output_type": "execute_result"
    }
   ],
   "source": [
    "import os\n",
    "os.getcwd()\n"
   ]
  },
  {
   "cell_type": "code",
   "execution_count": 4,
   "id": "8636be10-c548-4317-98bf-a7e454524566",
   "metadata": {},
   "outputs": [
    {
     "name": "stdout",
     "output_type": "stream",
     "text": [
      "False\n"
     ]
    }
   ],
   "source": [
    "import os\n",
    "print(os.path.exists('../cdr-data-generator/data/generated_at_cdr_enhanced/generation_stats.json'))\n"
   ]
  },
  {
   "cell_type": "code",
   "execution_count": 9,
   "id": "a67e34cd-14b5-43c9-9276-b252782b2c93",
   "metadata": {},
   "outputs": [
    {
     "name": "stdout",
     "output_type": "stream",
     "text": [
      "False\n"
     ]
    }
   ],
   "source": [
    "import os\n",
    "print(os.path.exists('../../cdr-data-generator/data/generated_at_cdr_enhanced/generation_stats.json'))\n"
   ]
  },
  {
   "cell_type": "code",
   "execution_count": 10,
   "id": "1bd302c3-422e-41cd-ab13-42b5cdf88029",
   "metadata": {},
   "outputs": [
    {
     "name": "stdout",
     "output_type": "stream",
     "text": [
      "False\n"
     ]
    }
   ],
   "source": [
    "import os\n",
    "print(os.path.exists('/mnt/d/network_trend_analysis/cdr-data-generator/data/generated_at_cdr_enhanced/generation_stats.json'))\n"
   ]
  },
  {
   "cell_type": "code",
   "execution_count": 5,
   "id": "8b465589-28a3-4281-a2fc-8dbd76ec5dfd",
   "metadata": {},
   "outputs": [
    {
     "name": "stdout",
     "output_type": "stream",
     "text": [
      "Current notebook directory: /home/jovyan/work/batch/jupyter/notebooks/work/spark-apps\n"
     ]
    }
   ],
   "source": [
    "import os\n",
    "print(\"Current notebook directory:\", os.getcwd())\n"
   ]
  },
  {
   "cell_type": "code",
   "execution_count": 6,
   "id": "db9df479-83ad-4756-ba6e-0e2c229cf349",
   "metadata": {},
   "outputs": [
    {
     "name": "stdout",
     "output_type": "stream",
     "text": [
      "Generation Statistics Summary:\n",
      "Total Customers: 530,719\n",
      "Active Customers: 519,986\n",
      "Date Range: 2025-03-20 00:00:00 to 2025-07-19 00:00:00\n"
     ]
    }
   ],
   "source": [
    "import json\n",
    "# HDFS paths\n",
    "raw_data_path = \"/user/hive/warehouse/Raw/raw_cdr_enhanced/\"\n",
    "customer_data_path = \"/user/hive/warehouse/Raw/customer_dim_enhanced/\"\n",
    "\n",
    "# Load generation statistics\n",
    "with open('/home/jovyan/work/cdr-data-generator/data/generated_at_cdr_enhanced/generation_stats.json') as f:\n",
    "    generation_stats = json.load(f)\n",
    "\n",
    "print(\"Generation Statistics Summary:\")\n",
    "print(f\"Total Customers: {generation_stats['total_customers']:,}\")\n",
    "print(f\"Active Customers: {generation_stats['active_customers']:,}\")\n",
    "print(f\"Date Range: {generation_stats['date_range']['start']} to {generation_stats['date_range']['end']}\")\n"
   ]
  },
  {
   "cell_type": "markdown",
   "id": "e235d0ae-1e4b-4058-941c-d3509ea200c0",
   "metadata": {},
   "source": [
    "## 3. Validate HDFS Files"
   ]
  },
  {
   "cell_type": "code",
   "execution_count": 8,
   "id": "9837e546-3f1a-431d-9185-84d430551d0a",
   "metadata": {},
   "outputs": [
    {
     "name": "stdout",
     "output_type": "stream",
     "text": [
      "/bin/bash: line 1: hdfs: command not found\n"
     ]
    }
   ],
   "source": [
    "hdfs dfs -ls /user/hive/warehouse/Raw/raw_cdr_enhanced/\n"
   ]
  },
  {
   "cell_type": "code",
   "execution_count": 7,
   "id": "ec48ba2a-7203-44a8-9ff9-26146dd0990d",
   "metadata": {},
   "outputs": [
    {
     "name": "stdout",
     "output_type": "stream",
     "text": [
      "\n",
      "✅ Found 41 CDR files in HDFS:\n",
      "  - cdr_20250320_to_20250322.parquet (338.52 MB)\n",
      "  - cdr_20250323_to_20250325.parquet (340.27 MB)\n",
      "  - cdr_20250326_to_20250328.parquet (342.38 MB)\n",
      "  - cdr_20250329_to_20250331.parquet (326.06 MB)\n",
      "  - cdr_20250401_to_20250403.parquet (316.18 MB)\n",
      "  ...\n",
      "\n",
      "📦 Total CDR data size: 11.53 GB\n"
     ]
    }
   ],
   "source": [
    "# HDFS path to your CDR directory (NO wildcard!)\n",
    "raw_data_path = 'hdfs://namenode:9000/user/hive/warehouse/Raw/raw_cdr_enhanced/'\n",
    "\n",
    "# List all CDR files in HDFS\n",
    "def list_hdfs_files(path):\n",
    "    \"\"\"List files in HDFS directory\"\"\"\n",
    "    try:\n",
    "        # Using Spark's Hadoop configuration to access HDFS\n",
    "        hadoop_conf = spark._jsc.hadoopConfiguration()\n",
    "        fs = spark._jvm.org.apache.hadoop.fs.FileSystem.get(hadoop_conf)\n",
    "        hdfs_path = spark._jvm.org.apache.hadoop.fs.Path(path)\n",
    "        \n",
    "        files = []\n",
    "        if fs.exists(hdfs_path):\n",
    "            file_status = fs.listStatus(hdfs_path)\n",
    "            for status in file_status:\n",
    "                if status.isFile():  # skip folders\n",
    "                    file_path = status.getPath().toString()\n",
    "                    file_size = status.getLen() / (1024**2)  # Convert to MB\n",
    "                    files.append({\n",
    "                        'path': file_path,\n",
    "                        'name': file_path.split('/')[-1],\n",
    "                        'size_mb': round(file_size, 2)\n",
    "                    })\n",
    "        return files\n",
    "    except Exception as e:\n",
    "        print(f\"Error listing HDFS files: {str(e)}\")\n",
    "        return []\n",
    "\n",
    "# Run\n",
    "cdr_files = list_hdfs_files(raw_data_path)\n",
    "print(f\"\\n✅ Found {len(cdr_files)} CDR files in HDFS:\")\n",
    "for file in sorted(cdr_files, key=lambda x: x['name'])[:5]:\n",
    "    print(f\"  - {file['name']} ({file['size_mb']} MB)\")\n",
    "print(\"  ...\")\n",
    "\n",
    "# Total size\n",
    "total_size_gb = sum(f['size_mb'] for f in cdr_files) / 1024\n",
    "print(f\"\\n📦 Total CDR data size: {total_size_gb:.2f} GB\")\n"
   ]
  },
  {
   "cell_type": "markdown",
   "id": "66a2c6d7-9b07-498d-8c68-64482c755e00",
   "metadata": {},
   "source": [
    "## 4. Load and Validate Customer Data"
   ]
  },
  {
   "cell_type": "code",
   "execution_count": 16,
   "id": "29ee3791-d8b2-4ea7-ae17-74610703877f",
   "metadata": {},
   "outputs": [
    {
     "name": "stdout",
     "output_type": "stream",
     "text": [
      "Requirement already satisfied: fsspec in /opt/conda/lib/python3.11/site-packages (2025.5.1)\n",
      "Requirement already satisfied: hdfs in /opt/conda/lib/python3.11/site-packages (2.7.3)\n",
      "Requirement already satisfied: pyarrow in /opt/conda/lib/python3.11/site-packages (20.0.0)\n",
      "Requirement already satisfied: docopt in /opt/conda/lib/python3.11/site-packages (from hdfs) (0.6.2)\n",
      "Requirement already satisfied: requests>=2.7.0 in /opt/conda/lib/python3.11/site-packages (from hdfs) (2.31.0)\n",
      "Requirement already satisfied: six>=1.9.0 in /opt/conda/lib/python3.11/site-packages (from hdfs) (1.16.0)\n",
      "Requirement already satisfied: charset-normalizer<4,>=2 in /opt/conda/lib/python3.11/site-packages (from requests>=2.7.0->hdfs) (3.3.0)\n",
      "Requirement already satisfied: idna<4,>=2.5 in /opt/conda/lib/python3.11/site-packages (from requests>=2.7.0->hdfs) (3.4)\n",
      "Requirement already satisfied: urllib3<3,>=1.21.1 in /opt/conda/lib/python3.11/site-packages (from requests>=2.7.0->hdfs) (2.0.7)\n",
      "Requirement already satisfied: certifi>=2017.4.17 in /opt/conda/lib/python3.11/site-packages (from requests>=2.7.0->hdfs) (2023.7.22)\n",
      "Note: you may need to restart the kernel to use updated packages.\n"
     ]
    }
   ],
   "source": [
    "pip install fsspec hdfs pyarrow\n"
   ]
  },
  {
   "cell_type": "code",
   "execution_count": null,
   "id": "3b907690-8723-4dd2-bf4a-a98b109b4c6d",
   "metadata": {},
   "outputs": [],
   "source": [
    "import pyarrow.parquet as pq\n",
    "import pyarrow as pa\n",
    "import fsspec\n",
    "\n",
    "# Paramètres WebHDFS\n",
    "namenode_host = \"namenode\"  # ou \"localhost\" si tu testes en local\n",
    "webhdfs_port = 9870         # ou 50070 selon ta version/config\n",
    "webhdfs_url = f\"webhdfs://{namenode_host}:{webhdfs_port}\"\n",
    "\n",
    "# Chemins WebHDFS\n",
    "hdfs_input_path = f\"{webhdfs_url}/user/hive/warehouse/Raw/customer_dim_enhanced/customers.parquet\"\n",
    "hdfs_output_path = f\"{webhdfs_url}/user/hive/warehouse/Raw/customer_dim_enhanced/customers_fixed.parquet\"\n",
    "\n",
    "# FileSystem WebHDFS\n",
    "fs = fsspec.filesystem(\"hdfs\", host=namenode_host, port=webhdfs_port, use_ssl=False)\n",
    "\n",
    "# Lire le fichier Parquet depuis HDFS\n",
    "with fs.open(hdfs_input_path, \"rb\") as infile:\n",
    "    table = pq.read_table(infile)\n",
    "\n",
    "# Modifier le type des colonnes timestamp → timestamp(ms)\n",
    "new_fields = []\n",
    "for field in table.schema:\n",
    "    if pa.types.is_timestamp(field.type):\n",
    "        print(f\"⏱️ Converting column '{field.name}' from {field.type} → timestamp(ms)\")\n",
    "        new_fields.append(pa.field(field.name, pa.timestamp(\"ms\")))\n",
    "    else:\n",
    "        new_fields.append(field)\n",
    "\n",
    "new_schema = pa.schema(new_fields)\n",
    "converted_table = table.cast(new_schema)\n",
    "\n",
    "# Écriture du fichier Parquet corrigé dans WebHDFS\n",
    "with fs.open(hdfs_output_path, \"wb\") as outfile:\n",
    "    pq.write_table(converted_table, outfile)\n",
    "\n",
    "print(\"✅ Fichier corrigé et réécrit avec succès :\", hdfs_output_path)\n"
   ]
  },
  {
   "cell_type": "code",
   "execution_count": 9,
   "id": "3b2f2e43-954f-4c8c-92c6-8350e0f17c99",
   "metadata": {},
   "outputs": [
    {
     "name": "stdout",
     "output_type": "stream",
     "text": [
      "Customer Data Schema:\n",
      "root\n",
      " |-- customer_id: string (nullable = true)\n",
      " |-- connection_id: string (nullable = true)\n",
      " |-- wilaya_code: string (nullable = true)\n",
      " |-- wilaya_name: string (nullable = true)\n",
      " |-- customer_type: string (nullable = true)\n",
      " |-- service_type: string (nullable = true)\n",
      " |-- offer_name: string (nullable = true)\n",
      " |-- offer_price: long (nullable = true)\n",
      " |-- activation_date: timestamp_ntz (nullable = true)\n",
      " |-- is_active: boolean (nullable = true)\n",
      " |-- tech_adoption_score: double (nullable = true)\n",
      " |-- business_score: double (nullable = true)\n",
      " |-- network_quality_score: double (nullable = true)\n",
      " |-- usage_profile: string (nullable = true)\n",
      " |-- bandwidth_mbps: long (nullable = true)\n",
      " |-- boost_hours: string (nullable = true)\n",
      " |-- night_boost: boolean (nullable = true)\n",
      " |-- sla_percentage: double (nullable = true)\n",
      " |-- data_cap_gb: double (nullable = true)\n",
      " |-- upload_mbps: double (nullable = true)\n",
      " |-- days_active: long (nullable = true)\n",
      " |-- is_new_customer: boolean (nullable = true)\n",
      "\n",
      "\n",
      "Total Customers Loaded: 530,719\n",
      "Active Customers: 519,986\n",
      "\n",
      "Sample Customer Records:\n",
      "+-----------+-------------+-----------+-----------+-------------+------------+---------------+-----------+-------------------+---------+-------------------+--------------+---------------------+--------------+--------------+-----------+-----------+--------------+-----------+-----------+-----------+---------------+\n",
      "|customer_id|connection_id|wilaya_code|wilaya_name|customer_type|service_type|offer_name     |offer_price|activation_date    |is_active|tech_adoption_score|business_score|network_quality_score|usage_profile |bandwidth_mbps|boost_hours|night_boost|sla_percentage|data_cap_gb|upload_mbps|days_active|is_new_customer|\n",
      "+-----------+-------------+-----------+-----------+-------------+------------+---------------+-----------+-------------------+---------+-------------------+--------------+---------------------+--------------+--------------+-----------+-----------+--------------+-----------+-----------+-----------+---------------+\n",
      "|16FT3099C8 |FTH16365674  |16         |Alger      |STARTUP      |FTTH        |Startup 30Mbps |1550       |2024-03-17 00:00:00|true     |0.85               |0.75          |0.95                 |high_bandwidth|30            |NULL       |NULL       |NULL          |NULL       |NULL       |489        |false          |\n",
      "|16FT88F4DD |FTH16765015  |16         |Alger      |STARTUP      |FTTH        |Startup 15Mbps |1250       |2023-05-11 00:00:00|true     |0.85               |0.75          |0.95                 |high_bandwidth|15            |NULL       |NULL       |NULL          |NULL       |NULL       |800        |false          |\n",
      "|16FT47ECAC |FTH16395757  |16         |Alger      |STARTUP      |FTTH        |Startup 30Mbps |1550       |2024-06-19 00:00:00|true     |0.85               |0.75          |0.95                 |high_bandwidth|30            |NULL       |NULL       |NULL          |NULL       |NULL       |395        |false          |\n",
      "|16FT73E131 |FTH16704983  |16         |Alger      |STARTUP      |FTTH        |Startup 100Mbps|2050       |2024-12-25 00:00:00|true     |0.85               |0.75          |0.95                 |high_bandwidth|100           |NULL       |NULL       |NULL          |NULL       |NULL       |206        |false          |\n",
      "|16FT4D5C9A |FTH16192959  |16         |Alger      |STARTUP      |FTTH        |Startup 15Mbps |1250       |2023-08-28 00:00:00|true     |0.85               |0.75          |0.95                 |high_bandwidth|15            |NULL       |NULL       |NULL          |NULL       |NULL       |691        |false          |\n",
      "+-----------+-------------+-----------+-----------+-------------+------------+---------------+-----------+-------------------+---------+-------------------+--------------+---------------------+--------------+--------------+-----------+-----------+--------------+-----------+-----------+-----------+---------------+\n",
      "only showing top 5 rows\n",
      "\n"
     ]
    }
   ],
   "source": [
    "# Load customer data\n",
    "customer_path = 'hdfs://namenode:9000/user/hive/warehouse/Raw/customer_dim_enhanced/'\n",
    "customers_df = spark.read.parquet(customer_path)\n",
    "\n",
    "print(\"Customer Data Schema:\")\n",
    "customers_df.printSchema()\n",
    "\n",
    "# Basic statistics\n",
    "print(f\"\\nTotal Customers Loaded: {customers_df.count():,}\")\n",
    "print(f\"Active Customers: {customers_df.filter(col('is_active') == True).count():,}\")\n",
    "\n",
    "# Show sample\n",
    "print(\"\\nSample Customer Records:\")\n",
    "customers_df.show(5, truncate=False)"
   ]
  },
  {
   "cell_type": "code",
   "execution_count": null,
   "id": "7c3f1fa0-fb90-4cae-ad6c-0740230169ea",
   "metadata": {},
   "outputs": [],
   "source": []
  },
  {
   "cell_type": "markdown",
   "id": "96c19802-be9d-41f4-9ecf-c162f0206841",
   "metadata": {},
   "source": [
    "## 5. Validate Customer Data Quality"
   ]
  },
  {
   "cell_type": "code",
   "execution_count": 11,
   "id": "06f0e441-bd63-4b7d-a678-430cba612aef",
   "metadata": {},
   "outputs": [
    {
     "name": "stdout",
     "output_type": "stream",
     "text": [
      "Null Values Check:\n"
     ]
    },
    {
     "name": "stderr",
     "output_type": "stream",
     "text": [
      "                                                                                \r"
     ]
    },
    {
     "name": "stdout",
     "output_type": "stream",
     "text": [
      "  - boost_hours: 530348 nulls\n",
      "  - night_boost: 529845 nulls\n",
      "  - sla_percentage: 527136 nulls\n",
      "  - data_cap_gb: 427450 nulls\n",
      "  - upload_mbps: 484493 nulls\n"
     ]
    },
    {
     "name": "stderr",
     "output_type": "stream",
     "text": [
      "                                                                                \r"
     ]
    },
    {
     "name": "stdout",
     "output_type": "stream",
     "text": [
      "\n",
      "Duplicate Customer IDs: 75\n",
      "\n",
      "Customer Type Distribution:\n",
      "+-------------+------+\n",
      "|customer_type| count|\n",
      "+-------------+------+\n",
      "|  PARTICULIER|524913|\n",
      "|          PRO|  4471|\n",
      "|      STUDENT|   874|\n",
      "|   FREELANCER|   371|\n",
      "|      STARTUP|    90|\n",
      "+-------------+------+\n",
      "\n",
      "Service Type Distribution:\n",
      "+------------+------+\n",
      "|service_type| count|\n",
      "+------------+------+\n",
      "|        FTTH|244015|\n",
      "|        ADSL|180845|\n",
      "|       4GLTE|105859|\n",
      "+------------+------+\n",
      "\n"
     ]
    }
   ],
   "source": [
    "from pyspark.sql.functions import col, count, when\n",
    "\n",
    "# Check for nulls in critical fields\n",
    "print(\"Null Values Check:\")\n",
    "null_counts = customers_df.select([\n",
    "    count(when(col(c).isNull(), c)).alias(c) for c in customers_df.columns\n",
    "]).collect()[0].asDict()\n",
    "\n",
    "for col_name, null_count in null_counts.items():\n",
    "    if null_count > 0:\n",
    "        print(f\"  - {col_name}: {null_count} nulls\")\n",
    "\n",
    "# Check for duplicates\n",
    "duplicate_count = customers_df.groupBy(\"customer_id\").count().filter(col(\"count\") > 1).count()\n",
    "print(f\"\\nDuplicate Customer IDs: {duplicate_count}\")\n",
    "\n",
    "# Validate customer types\n",
    "print(\"\\nCustomer Type Distribution:\")\n",
    "customers_df.groupBy(\"customer_type\").count().orderBy(col(\"count\").desc()).show()\n",
    "\n",
    "# Validate service types\n",
    "print(\"Service Type Distribution:\")\n",
    "customers_df.groupBy(\"service_type\").count().orderBy(col(\"count\").desc()).show()"
   ]
  },
  {
   "cell_type": "markdown",
   "id": "0bdce177-81cd-40ed-8913-104cdd7188a2",
   "metadata": {},
   "source": [
    "## 6. Load and Validate CDR Data Sample"
   ]
  },
  {
   "cell_type": "code",
   "execution_count": 12,
   "id": "7cad964c-18de-47aa-90b0-a512a168879f",
   "metadata": {},
   "outputs": [
    {
     "name": "stdout",
     "output_type": "stream",
     "text": [
      "CDR Data Schema:\n",
      "root\n",
      " |-- cdr_id: string (nullable = true)\n",
      " |-- timestamp: timestamp_ntz (nullable = true)\n",
      " |-- customer_id: string (nullable = true)\n",
      " |-- connection_id: string (nullable = true)\n",
      " |-- wilaya_code: string (nullable = true)\n",
      " |-- wilaya_name: string (nullable = true)\n",
      " |-- cdr_type: string (nullable = true)\n",
      " |-- service_type: string (nullable = true)\n",
      " |-- data_volume_mb: double (nullable = true)\n",
      " |-- duration_minutes: double (nullable = true)\n",
      " |-- session_quality: string (nullable = true)\n",
      " |-- usage_type: string (nullable = true)\n",
      " |-- offer_name: string (nullable = true)\n",
      " |-- customer_type: string (nullable = true)\n",
      " |-- bandwidth_mbps: double (nullable = true)\n",
      " |-- anomaly_type: string (nullable = true)\n",
      " |-- severity: string (nullable = true)\n",
      " |-- old_offer: string (nullable = true)\n",
      " |-- new_offer: string (nullable = true)\n",
      " |-- old_price: double (nullable = true)\n",
      " |-- new_price: double (nullable = true)\n",
      " |-- change_reason: string (nullable = true)\n",
      " |-- data_cap_gb: double (nullable = true)\n",
      " |-- upgrade_type: string (nullable = true)\n",
      " |-- upgrade_price: double (nullable = true)\n",
      " |-- speed_multiplier: double (nullable = true)\n",
      " |-- duration_days: double (nullable = true)\n",
      " |-- original_bandwidth: double (nullable = true)\n",
      " |-- boosted_bandwidth: double (nullable = true)\n",
      " |-- outage_duration_hours: double (nullable = true)\n",
      " |-- outage_type: string (nullable = true)\n",
      " |-- impact_level: string (nullable = true)\n",
      " |-- estimated_loss_da: double (nullable = true)\n",
      " |-- affected_services: string (nullable = true)\n",
      "\n"
     ]
    },
    {
     "name": "stderr",
     "output_type": "stream",
     "text": [
      "[Stage 29:======================================================> (47 + 1) / 48]\r"
     ]
    },
    {
     "name": "stdout",
     "output_type": "stream",
     "text": [
      "\n",
      "Sample CDR Records: 7,688,970\n",
      "Estimated Total CDR Records: 768,897,000\n",
      "\n",
      "Sample CDR Records:\n",
      "+--------------------+-------------------+-----------+-------------+-----------+-----------+--------+------------+--------------+----------------+---------------+------------+--------------------+-------------+--------------+------------+--------+---------+---------+---------+---------+-------------+-----------+------------+-------------+----------------+-------------+------------------+-----------------+---------------------+-----------+------------+-----------------+-----------------+\n",
      "|cdr_id              |timestamp          |customer_id|connection_id|wilaya_code|wilaya_name|cdr_type|service_type|data_volume_mb|duration_minutes|session_quality|usage_type  |offer_name          |customer_type|bandwidth_mbps|anomaly_type|severity|old_offer|new_offer|old_price|new_price|change_reason|data_cap_gb|upgrade_type|upgrade_price|speed_multiplier|duration_days|original_bandwidth|boosted_bandwidth|outage_duration_hours|outage_type|impact_level|estimated_loss_da|affected_services|\n",
      "+--------------------+-------------------+-----------+-------------+-----------+-----------+--------+------------+--------------+----------------+---------------+------------+--------------------+-------------+--------------+------------+--------+---------+---------+---------+---------+-------------+-----------+------------+-------------+----------------+-------------+------------------+-----------------+---------------------+-----------+------------+-----------------+-----------------+\n",
      "|D2025032000000008080|2025-03-20 10:40:07|17FT8BFC2A |FTH17151610  |17         |Djelfa     |DATA    |FTTH        |56.86         |31.0            |FAIR           |LIGHT_USAGE |Fibre 30Mbps        |PARTICULIER  |30.0          |NULL        |NULL    |NULL     |NULL     |NULL     |NULL     |NULL         |NULL       |NULL        |NULL         |NULL            |NULL         |NULL              |NULL             |NULL                 |NULL       |NULL        |NULL             |NULL             |\n",
      "|D2025032000000002695|2025-03-20 20:27:15|17FTB09F6A |FTH17236338  |17         |Djelfa     |DATA    |FTTH        |214.9         |41.0            |FAIR           |WEB_BROWSING|Fibre 100Mbps Gamers|PARTICULIER  |100.0         |NULL        |NULL    |NULL     |NULL     |NULL     |NULL     |NULL         |NULL       |NULL        |NULL         |NULL            |NULL         |NULL              |NULL             |NULL                 |NULL       |NULL        |NULL             |NULL             |\n",
      "|D2025032000000000752|2025-03-20 14:58:15|17FTB09F6A |FTH17236338  |17         |Djelfa     |DATA    |FTTH        |465.35        |16.0            |FAIR           |WEB_BROWSING|Fibre 100Mbps Gamers|PARTICULIER  |100.0         |NULL        |NULL    |NULL     |NULL     |NULL     |NULL     |NULL         |NULL       |NULL        |NULL         |NULL            |NULL         |NULL              |NULL             |NULL                 |NULL       |NULL        |NULL             |NULL             |\n",
      "|D2025032000000002477|2025-03-20 10:51:46|17FT01F8F9 |FTH17917440  |17         |Djelfa     |DATA    |FTTH        |119.68        |26.0            |FAIR           |WEB_BROWSING|Fibre 100Mbps       |PARTICULIER  |100.0         |NULL        |NULL    |NULL     |NULL     |NULL     |NULL     |NULL         |NULL       |NULL        |NULL         |NULL            |NULL         |NULL              |NULL             |NULL                 |NULL       |NULL        |NULL             |NULL             |\n",
      "|D2025032000000001954|2025-03-20 13:31:30|17FT933873 |FTH17163168  |17         |Djelfa     |DATA    |FTTH        |83.72         |47.0            |FAIR           |LIGHT_USAGE |Fibre 60Mbps        |PARTICULIER  |60.0          |NULL        |NULL    |NULL     |NULL     |NULL     |NULL     |NULL         |NULL       |NULL        |NULL         |NULL            |NULL         |NULL              |NULL             |NULL                 |NULL       |NULL        |NULL             |NULL             |\n",
      "+--------------------+-------------------+-----------+-------------+-----------+-----------+--------+------------+--------------+----------------+---------------+------------+--------------------+-------------+--------------+------------+--------+---------+---------+---------+---------+-------------+-----------+------------+-------------+----------------+-------------+------------------+-----------------+---------------------+-----------+------------+-----------------+-----------------+\n",
      "only showing top 5 rows\n",
      "\n"
     ]
    },
    {
     "name": "stderr",
     "output_type": "stream",
     "text": [
      "25/07/05 16:36:44 WARN SparkStringUtils: Truncated the string representation of a plan since it was too large. This behavior can be adjusted by setting 'spark.sql.debug.maxToStringFields'.\n"
     ]
    }
   ],
   "source": [
    "# Load a sample of CDR data for validation\n",
    "sample_cdr_df = spark.read.parquet(raw_data_path).sample(0.01)  # 1% sample\n",
    "\n",
    "print(\"CDR Data Schema:\")\n",
    "sample_cdr_df.printSchema()\n",
    "\n",
    "# Record count estimation\n",
    "sample_count = sample_cdr_df.count()\n",
    "estimated_total = sample_count * 100\n",
    "print(f\"\\nSample CDR Records: {sample_count:,}\")\n",
    "print(f\"Estimated Total CDR Records: {estimated_total:,}\")\n",
    "\n",
    "# Show sample records\n",
    "print(\"\\nSample CDR Records:\")\n",
    "sample_cdr_df.show(5, truncate=False)"
   ]
  },
  {
   "cell_type": "code",
   "execution_count": 13,
   "id": "66c220f4-29c1-4336-95cd-1fcaf1d6a3bd",
   "metadata": {},
   "outputs": [
    {
     "name": "stdout",
     "output_type": "stream",
     "text": [
      "Null Values Check:\n",
      "  - boost_hours: 530348 nulls\n",
      "  - night_boost: 529845 nulls\n",
      "  - sla_percentage: 527136 nulls\n",
      "  - data_cap_gb: 427450 nulls\n",
      "  - upload_mbps: 484493 nulls\n",
      "\n",
      "Duplicate Customer IDs: 75\n",
      "\n",
      "Customer Type Distribution:\n",
      "+-------------+------+\n",
      "|customer_type| count|\n",
      "+-------------+------+\n",
      "|  PARTICULIER|524913|\n",
      "|          PRO|  4471|\n",
      "|      STUDENT|   874|\n",
      "|   FREELANCER|   371|\n",
      "|      STARTUP|    90|\n",
      "+-------------+------+\n",
      "\n",
      "Service Type Distribution:\n",
      "+------------+------+\n",
      "|service_type| count|\n",
      "+------------+------+\n",
      "|        FTTH|244015|\n",
      "|        ADSL|180845|\n",
      "|       4GLTE|105859|\n",
      "+------------+------+\n",
      "\n"
     ]
    }
   ],
   "source": [
    "from pyspark.sql.functions import col, when, count\n",
    "\n",
    "# 🔎 Vérifie les valeurs nulles\n",
    "print(\"Null Values Check:\")\n",
    "null_counts = customers_df.select([\n",
    "    count(when(col(c).isNull(), c)).alias(c) for c in customers_df.columns\n",
    "]).collect()[0].asDict()\n",
    "\n",
    "for col_name, null_count in null_counts.items():\n",
    "    if null_count > 0:\n",
    "        print(f\"  - {col_name}: {null_count} nulls\")\n",
    "\n",
    "# 🔁 Doublons sur customer_id\n",
    "duplicate_count = customers_df.groupBy(\"customer_id\").count().filter(col(\"count\") > 1).count()\n",
    "print(f\"\\nDuplicate Customer IDs: {duplicate_count}\")\n",
    "\n",
    "# 📊 Répartition des types de clients\n",
    "print(\"\\nCustomer Type Distribution:\")\n",
    "customers_df.groupBy(\"customer_type\").count().orderBy(col(\"count\").desc()).show()\n",
    "\n",
    "# 📊 Répartition des services\n",
    "print(\"Service Type Distribution:\")\n",
    "customers_df.groupBy(\"service_type\").count().orderBy(col(\"count\").desc()).show()\n"
   ]
  },
  {
   "cell_type": "markdown",
   "id": "6a10b94d-b196-44fe-ba80-ca634cae70c0",
   "metadata": {},
   "source": [
    "## 7. CDR Data Quality Validation"
   ]
  },
  {
   "cell_type": "code",
   "execution_count": 16,
   "id": "ba730f2b-1715-46d9-bf73-dc78bb5bfae6",
   "metadata": {},
   "outputs": [
    {
     "name": "stdout",
     "output_type": "stream",
     "text": [
      "CDR Type Distribution:\n"
     ]
    },
    {
     "name": "stderr",
     "output_type": "stream",
     "text": [
      "                                                                                \r"
     ]
    },
    {
     "name": "stdout",
     "output_type": "stream",
     "text": [
      "+------------+-------+\n",
      "|    cdr_type|  count|\n",
      "+------------+-------+\n",
      "|        DATA|7577173|\n",
      "|     ANOMALY| 106813|\n",
      "|      OUTAGE|   3765|\n",
      "| PLAN_CHANGE|    663|\n",
      "|TEMP_UPGRADE|    556|\n",
      "+------------+-------+\n",
      "\n"
     ]
    },
    {
     "name": "stderr",
     "output_type": "stream",
     "text": [
      "                                                                                \r"
     ]
    },
    {
     "name": "stdout",
     "output_type": "stream",
     "text": [
      "\n",
      "Timestamp Range:\n",
      "  - Earliest: 2025-03-20 00:00:33\n",
      "  - Latest: 2025-07-19 23:59:58\n",
      "\n",
      "Data Volume Statistics:\n"
     ]
    },
    {
     "name": "stderr",
     "output_type": "stream",
     "text": [
      "[Stage 60:==========================================>             (36 + 8) / 48]\r"
     ]
    },
    {
     "name": "stdout",
     "output_type": "stream",
     "text": [
      "  - Average: 164.90 MB\n",
      "  - Min: 10.00 MB\n",
      "  - Max: 4993.41 MB\n",
      "  - Std Dev: 196.27 MB\n"
     ]
    },
    {
     "name": "stderr",
     "output_type": "stream",
     "text": [
      "                                                                                \r"
     ]
    }
   ],
   "source": [
    "from pyspark.sql.functions import col, min, max, avg, stddev\n",
    "# Validate CDR types\n",
    "print(\"CDR Type Distribution:\")\n",
    "sample_cdr_df.groupBy(\"cdr_type\").count().orderBy(col(\"count\").desc()).show()\n",
    "\n",
    "# Check timestamp range\n",
    "timestamp_stats = sample_cdr_df.select(\n",
    "    min(\"timestamp\").alias(\"min_timestamp\"),\n",
    "    max(\"timestamp\").alias(\"max_timestamp\")\n",
    ").collect()[0]\n",
    "\n",
    "print(f\"\\nTimestamp Range:\")\n",
    "print(f\"  - Earliest: {timestamp_stats['min_timestamp']}\")\n",
    "print(f\"  - Latest: {timestamp_stats['max_timestamp']}\")\n",
    "\n",
    "# Validate data volumes\n",
    "print(\"\\nData Volume Statistics:\")\n",
    "data_cdrs = sample_cdr_df.filter(col(\"cdr_type\") == \"DATA\")\n",
    "data_stats = data_cdrs.select(\n",
    "    avg(\"data_volume_mb\").alias(\"avg_volume\"),\n",
    "    min(\"data_volume_mb\").alias(\"min_volume\"),\n",
    "    max(\"data_volume_mb\").alias(\"max_volume\"),\n",
    "    stddev(\"data_volume_mb\").alias(\"stddev_volume\")\n",
    ").collect()[0]\n",
    "\n",
    "print(f\"  - Average: {data_stats['avg_volume']:.2f} MB\")\n",
    "print(f\"  - Min: {data_stats['min_volume']:.2f} MB\")\n",
    "print(f\"  - Max: {data_stats['max_volume']:.2f} MB\")\n",
    "print(f\"  - Std Dev: {data_stats['stddev_volume']:.2f} MB\")"
   ]
  },
  {
   "cell_type": "markdown",
   "id": "80a2e052-4ba7-4fa4-9b3f-175be7b1f3f4",
   "metadata": {},
   "source": [
    "## 8. Cross-Validation: Customers vs CDRs"
   ]
  },
  {
   "cell_type": "code",
   "execution_count": 20,
   "id": "a400e78f-c2a9-46c2-bd93-1755b8fcb151",
   "metadata": {},
   "outputs": [
    {
     "name": "stderr",
     "output_type": "stream",
     "text": [
      "                                                                                \r"
     ]
    },
    {
     "name": "stdout",
     "output_type": "stream",
     "text": [
      "Cross-Validation Results:\n",
      "  - Unique customers in CDR sample: 519,910\n",
      "  - Matched with customer dimension: 519,910\n",
      "  - Unmatched customers: 0\n",
      "  - Match rate: 100.00%\n"
     ]
    },
    {
     "data": {
      "text/plain": [
       "DataFrame[customer_id: string]"
      ]
     },
     "execution_count": 20,
     "metadata": {},
     "output_type": "execute_result"
    }
   ],
   "source": [
    "# Section 8: Cross-Validation: Customers vs CDRs\n",
    "\n",
    "from pyspark.sql.functions import col\n",
    "\n",
    "# Step 1: Get unique customers from CDR sample\n",
    "cdr_customers = sample_cdr_df.select(\"customer_id\") \\\n",
    "    .where(col(\"customer_id\").isNotNull()) \\\n",
    "    .distinct()\n",
    "\n",
    "# Cache the small dataset for performance\n",
    "cdr_customers.cache()\n",
    "cdr_customer_count = cdr_customers.count()\n",
    "\n",
    "# Step 2: Get unique customer IDs from dimension table\n",
    "customer_ids_df = customers_df.select(\"customer_id\") \\\n",
    "    .where(col(\"customer_id\").isNotNull()) \\\n",
    "    .distinct()\n",
    "\n",
    "# Step 3: Perform inner join to find matches\n",
    "matched_customers_df = cdr_customers.join(\n",
    "    customer_ids_df,\n",
    "    on=\"customer_id\",\n",
    "    how=\"inner\"\n",
    ")\n",
    "\n",
    "# Count matches\n",
    "matched_customers = matched_customers_df.count()\n",
    "\n",
    "# Step 4: Calculate unmatched customers\n",
    "unmatched_customers = cdr_customer_count - matched_customers\n",
    "\n",
    "# Display results\n",
    "print(\"Cross-Validation Results:\")\n",
    "print(f\"  - Unique customers in CDR sample: {cdr_customer_count:,}\")\n",
    "print(f\"  - Matched with customer dimension: {matched_customers:,}\")\n",
    "print(f\"  - Unmatched customers: {unmatched_customers:,}\")\n",
    "print(f\"  - Match rate: {(matched_customers / cdr_customer_count) * 100:.2f}%\")\n",
    "\n",
    "# Show sample of unmatched customers if any exist\n",
    "if unmatched_customers > 0:\n",
    "    print(\"\\nSample of unmatched customer IDs:\")\n",
    "    unmatched_df = cdr_customers.join(\n",
    "        customer_ids_df,\n",
    "        on=\"customer_id\",\n",
    "        how=\"left_anti\"\n",
    "    )\n",
    "    unmatched_df.show(10, truncate=False)\n",
    "\n",
    "# Unpersist cached data\n",
    "cdr_customers.unpersist()"
   ]
  },
  {
   "cell_type": "markdown",
   "id": "d9301b7e-df79-4adf-881c-2a8d558ec1f4",
   "metadata": {},
   "source": [
    "## 9. Data Distribution Analysis\n"
   ]
  },
  {
   "cell_type": "code",
   "execution_count": 21,
   "id": "34113a61-10b1-4e23-bdd9-7cd52eae3d4c",
   "metadata": {},
   "outputs": [
    {
     "data": {
      "image/png": "[encoded data removed]",
      "text/plain": [
       "<Figure size 1200x600 with 2 Axes>"
      ]
     },
     "metadata": {},
     "output_type": "display_data"
    }
   ],
   "source": [
    "# Wilaya distribution in customers\n",
    "wilaya_dist = customers_df.groupBy(\"wilaya_name\").count() \\\n",
    "    .orderBy(col(\"count\").desc()) \\\n",
    "    .limit(15) \\\n",
    "    .toPandas()\n",
    "\n",
    "# Visualization\n",
    "plt.figure(figsize=(12, 6))\n",
    "plt.subplot(1, 2, 1)\n",
    "plt.bar(wilaya_dist['wilaya_name'], wilaya_dist['count'])\n",
    "plt.xticks(rotation=45, ha='right')\n",
    "plt.title('Top 15 Wilayas by Customer Count')\n",
    "plt.xlabel('Wilaya')\n",
    "plt.ylabel('Number of Customers')\n",
    "\n",
    "# Service type distribution\n",
    "service_dist = customers_df.groupBy(\"service_type\").count().toPandas()\n",
    "\n",
    "plt.subplot(1, 2, 2)\n",
    "plt.pie(service_dist['count'], labels=service_dist['service_type'], autopct='%1.1f%%')\n",
    "plt.title('Service Type Distribution')\n",
    "\n",
    "plt.tight_layout()\n",
    "plt.show()"
   ]
  },
  {
   "cell_type": "markdown",
   "id": "27a7f05a-e3f6-4ce2-af6b-0949e3857f09",
   "metadata": {},
   "source": [
    "## 10. Generate Ingestion Report"
   ]
  },
  {
   "cell_type": "code",
   "execution_count": 22,
   "id": "42a4987e-5078-413f-9add-a7fd7c3d7b8f",
   "metadata": {},
   "outputs": [
    {
     "name": "stderr",
     "output_type": "stream",
     "text": [
      "[Stage 117:=============================================>         (40 + 8) / 48]\r"
     ]
    },
    {
     "name": "stdout",
     "output_type": "stream",
     "text": [
      "\n",
      "==================================================\n",
      "INGESTION VALIDATION REPORT\n",
      "==================================================\n",
      "{\n",
      "  \"timestamp\": \"2025-07-06 12:54:11\",\n",
      "  \"hdfs_validation\": {\n",
      "    \"cdr_files_count\": 41,\n",
      "    \"total_size_gb\": 11.53,\n",
      "    \"customer_file_exists\": true,\n",
      "    \"path_validation\": \"PASSED\"\n",
      "  },\n",
      "  \"customer_data\": {\n",
      "    \"total_records\": 530719,\n",
      "    \"active_customers\": 519986,\n",
      "    \"schema_fields\": 22,\n",
      "    \"duplicate_ids\": 75,\n",
      "    \"null_critical_fields\": 5\n",
      "  },\n",
      "  \"cdr_data\": {\n",
      "    \"estimated_total_records\": 768897000,\n",
      "    \"sample_size\": 7688970,\n",
      "    \"timestamp_range_valid\": true,\n",
      "    \"cdr_types_found\": 5\n",
      "  },\n",
      "  \"cross_validation\": {\n",
      "    \"customer_match_rate\": 100.0\n",
      "  },\n",
      "  \"overall_status\": \"PASSED_WITH_WARNINGS\"\n",
      "}\n"
     ]
    },
    {
     "name": "stderr",
     "output_type": "stream",
     "text": [
      "                                                                                \r"
     ]
    }
   ],
   "source": [
    "# Create ingestion report\n",
    "ingestion_report = {\n",
    "    \"timestamp\": datetime.now().strftime(\"%Y-%m-%d %H:%M:%S\"),\n",
    "    \"hdfs_validation\": {\n",
    "        \"cdr_files_count\": len(cdr_files),\n",
    "        \"total_size_gb\": round(total_size_gb, 2),\n",
    "        \"customer_file_exists\": True,\n",
    "        \"path_validation\": \"PASSED\"\n",
    "    },\n",
    "    \"customer_data\": {\n",
    "        \"total_records\": int(customers_df.count()),\n",
    "        \"active_customers\": int(customers_df.filter(col('is_active') == True).count()),\n",
    "        \"schema_fields\": len(customers_df.columns),\n",
    "        \"duplicate_ids\": duplicate_count,\n",
    "        \"null_critical_fields\": sum(1 for v in null_counts.values() if v > 0)\n",
    "    },\n",
    "    \"cdr_data\": {\n",
    "        \"estimated_total_records\": estimated_total,\n",
    "        \"sample_size\": sample_count,\n",
    "        \"timestamp_range_valid\": True,\n",
    "        \"cdr_types_found\": int(sample_cdr_df.select(\"cdr_type\").distinct().count())\n",
    "    },\n",
    "    \"cross_validation\": {\n",
    "        \"customer_match_rate\": round((matched_customers/cdr_customer_count)*100, 2)\n",
    "    },\n",
    "    \"overall_status\": \"PASSED\" if duplicate_count == 0 and matched_customers == cdr_customer_count else \"PASSED_WITH_WARNINGS\"\n",
    "}\n",
    "\n",
    "print(\"\\n\" + \"=\"*50)\n",
    "print(\"INGESTION VALIDATION REPORT\")\n",
    "print(\"=\"*50)\n",
    "print(json.dumps(ingestion_report, indent=2))\n",
    "\n",
    "# Save report\n",
    "with open('ingestion_validation_report.json', 'w') as f:\n",
    "    json.dump(ingestion_report, f, indent=2)"
   ]
  },
  {
   "cell_type": "markdown",
   "id": "6c1abd8b-ca12-4978-a630-a7e6673bba86",
   "metadata": {},
   "source": [
    "## 11. Recommendations and Next Steps"
   ]
  },
  {
   "cell_type": "markdown",
   "id": "11817f07-ea3e-41c0-a3dd-5c03d6a3cfab",
   "metadata": {},
   "source": [
    "### ✅ Validation Results:\n",
    "- All CDR files successfully ingested into HDFS\n",
    "- Customer dimension loaded with expected schema\n",
    "- Data quality checks passed with minor warnings\n",
    "- Cross-validation shows high match rate"
   ]
  },
  {
   "cell_type": "markdown",
   "id": "40aa56f2-011f-4e26-a4ff-4e0a1b61402f",
   "metadata": {},
   "source": [
    "### 📋 Next Steps:\n",
    "1. Create Hive external tables for efficient querying\n",
    "2. Implement partitioning strategy for CDR data\n",
    "3. Set up regular data quality monitoring\n",
    "4. Proceed with customer dimension analysis\n"
   ]
  },
  {
   "cell_type": "markdown",
   "id": "585c3978-d965-4915-b303-a1ad7f7eb9e5",
   "metadata": {},
   "source": [
    "### ⚠️ Warnings to Address:\n",
    "- Monitor any unmatched customer IDs\n",
    "- Investigate any data quality anomalies\n",
    "- Set up alerts for future ingestion issues\n",
    "\n"
   ]
  },
  {
   "cell_type": "markdown",
   "id": "f8016817-953d-464f-b08f-9fb02684a37d",
   "metadata": {},
   "source": [
    "### Clean up"
   ]
  },
  {
   "cell_type": "code",
   "execution_count": 23,
   "id": "ba0721e5-296a-4a19-902d-d9d0e1295e4c",
   "metadata": {},
   "outputs": [],
   "source": [
    "spark.stop()"
   ]
  },
  {
   "cell_type": "code",
   "execution_count": null,
   "id": "2edfcc7f-b46c-45af-989a-a2fec8d71ddf",
   "metadata": {},
   "outputs": [],
   "source": []
  }
 ],
 "metadata": {
  "kernelspec": {
   "display_name": "Python 3 (ipykernel)",
   "language": "python",
   "name": "python3"
  },
  "language_info": {
   "codemirror_mode": {
    "name": "ipython",
    "version": 3
   },
   "file_extension": ".py",
   "mimetype": "text/x-python",
   "name": "python",
   "nbconvert_exporter": "python",
   "pygments_lexer": "ipython3",
   "version": "3.11.6"
  }
 },
 "nbformat": 4,
 "nbformat_minor": 5
}
