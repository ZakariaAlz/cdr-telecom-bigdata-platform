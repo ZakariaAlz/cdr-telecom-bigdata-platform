{
 "cells": [
  {
   "cell_type": "markdown",
   "id": "56a3a448-07ca-472b-903d-b343dc3816b6",
   "metadata": {},
   "source": [
    "# 01. EDA, CDR Anonymization & Data Quality Notebook \n"
   ]
  },
  {
   "cell_type": "markdown",
   "id": "7b6cd848-db5a-4924-9a71-7841dfab1a56",
   "metadata": {},
   "source": [
    "## Setup - Imports and SparkSession"
   ]
  },
  {
   "cell_type": "code",
   "execution_count": 4,
   "id": "0e65cce7-7f4f-4a9b-99e4-e74dc75858ed",
   "metadata": {},
   "outputs": [
    {
     "name": "stderr",
     "output_type": "stream",
     "text": [
      "Setting default log level to \"WARN\".\n",
      "To adjust logging level use sc.setLogLevel(newLevel). For SparkR, use setLogLevel(newLevel).\n",
      "25/06/29 20:14:45 WARN NativeCodeLoader: Unable to load native-hadoop library for your platform... using builtin-java classes where applicable\n"
     ]
    },
    {
     "name": "stdout",
     "output_type": "stream",
     "text": [
      "✅ SparkSession initialized (App: CDR Anonymization - Complete Pipeline, Spark: 3.5.1)\n",
      "✅ Hive Warehouse: hdfs://namenode:9000/user/hive/warehouse\n",
      "✅ Hive Metastore URI: thrift://hive-metastore:9083\n",
      "✅ SparkSession initialized\n"
     ]
    }
   ],
   "source": [
    "import sys\n",
    "sys.path.append('/home/jovyan/work/work/scripts')\n",
    "from spark_init import init_spark\n",
    "import hashlib\n",
    "from pyspark.sql import functions as F, types as T\n",
    "from datetime import datetime\n",
    "import matplotlib.pyplot as plt\n",
    "import seaborn as sns\n",
    "import plotly.express as px\n",
    "\n",
    "# Initialize Spark with proper configuration\n",
    "spark = init_spark(\"CDR Anonymization - Complete Pipeline\")\n",
    "print(\"✅ SparkSession initialized\")"
   ]
  },
  {
   "cell_type": "markdown",
   "id": "35fdcc09-b119-427e-a83f-279def5186d6",
   "metadata": {},
   "source": [
    "### 1. Load Raw CDR Data and Inspect"
   ]
  },
  {
   "cell_type": "code",
   "execution_count": 7,
   "id": "60729eb2-a6fe-4e51-8922-b5e51558e56e",
   "metadata": {},
   "outputs": [
    {
     "name": "stderr",
     "output_type": "stream",
     "text": [
      "[Stage 3:==============================================>          (13 + 3) / 16]\r"
     ]
    },
    {
     "name": "stdout",
     "output_type": "stream",
     "text": [
      "\n",
      "📊 RAW DATA STATISTICS:\n",
      "   Total rows loaded: 89,911\n",
      "   Total columns: 429\n",
      "\n",
      "   Available columns:\n",
      "     1. CDR_ID\n",
      "     2. CDR_SUB_ID\n",
      "     3. CDR_TYPE\n",
      "     4. SPLIT_CDR_REASON\n",
      "     5. CDR_BATCH_ID\n",
      "     6. SRC_REC_LINE_NO\n",
      "     7. SRC_CDR_ID\n",
      "     8. SRC_CDR_NO\n",
      "     9. STATUS\n",
      "    10. RE_RATING_TIMES\n",
      "    11. CREATE_DATE\n",
      "    12. START_DATE\n",
      "    13. END_DATE\n",
      "    14. CUST_LOCAL_START_DATE\n",
      "    15. CUST_LOCAL_END_DATE\n",
      "    16. STD_EVT_TYPE_ID\n",
      "    17. EVT_SOURCE_CATEGORY\n",
      "    18. OBJ_TYPE\n",
      "    19. OBJ_ID\n",
      "    20. OWNER_CUST_ID\n",
      "    21. DEFAULT_ACCT_ID\n",
      "    22. PRI_IDENTITY\n",
      "    23. BILL_CYCLE_ID\n",
      "    24. SERVICE_CATEGORY\n",
      "    25. USAGE_SERVICE_TYPE\n",
      "    26. SESSION_ID\n",
      "    27. RESULT_CODE\n",
      "    28. RESULT_REASON\n",
      "    29. BE_ID\n",
      "    30. HOT_SEQ\n",
      "    31. CP_ID\n",
      "    32. RECIPIENT_NUMBER\n",
      "    33. USAGE_MEASURE_ID\n",
      "    34. ACTUAL_USAGE\n",
      "    35. RATE_USAGE\n",
      "    36. SERVICE_UNIT_TYPE\n",
      "    37. USAGE_MEASURE_ID2\n",
      "    38. ACTUAL_USAGE2\n",
      "    39. RATE_USAGE2\n",
      "    40. SERVICE_UNIT_TYPE2\n",
      "    41. DEBIT_AMOUNT\n",
      "    42. UN_DEBIT_AMOUNT\n",
      "    43. DEBIT_FROM_PREPAID\n",
      "    44. DEBIT_FROM_ADVANCE_PREPAID\n",
      "    45. DEBIT_FROM_POSTPAID\n",
      "    46. DEBIT_FROM_ADVANCE_POSTPAID\n",
      "    47. DEBIT_FROM_CREDIT_POSTPAID\n",
      "    48. TOTAL_TAX\n",
      "    49. FREE_UNIT_AMOUNT_OF_TIMES\n",
      "    50. FREE_UNIT_AMOUNT_OF_DURATION\n",
      "    51. FREE_UNIT_AMOUNT_OF_FLUX\n",
      "    52. ACCT_ID\n",
      "    53. ACCT_BALANCE_ID\n",
      "    54. BALANCE_TYPE\n",
      "    55. CUR_BALANCE\n",
      "    56. CHG_BALANCE\n",
      "    57. CURRENCY_ID\n",
      "    58. OPER_TYPE\n",
      "    59. ACCT_ID.1\n",
      "    60. ACCT_BALANCE_ID.1\n",
      "    61. BALANCE_TYPE.1\n",
      "    62. CUR_BALANCE.1\n",
      "    63. CHG_BALANCE.1\n",
      "    64. CURRENCY_ID.1\n",
      "    65. OPER_TYPE.1\n",
      "    66. ACCT_ID.2\n",
      "    67. ACCT_BALANCE_ID.2\n",
      "    68. BALANCE_TYPE.2\n",
      "    69. CUR_BALANCE.2\n",
      "    70. CHG_BALANCE.2\n",
      "    71. CURRENCY_ID.2\n",
      "    72. OPER_TYPE.2\n",
      "    73. ACCT_ID.3\n",
      "    74. ACCT_BALANCE_ID.3\n",
      "    75. BALANCE_TYPE.3\n",
      "    76. CUR_BALANCE.3\n",
      "    77. CHG_BALANCE.3\n",
      "    78. CURRENCY_ID.3\n",
      "    79. OPER_TYPE.3\n",
      "    80. ACCT_ID.4\n",
      "    81. ACCT_BALANCE_ID.4\n",
      "    82. BALANCE_TYPE.4\n",
      "    83. CUR_BALANCE.4\n",
      "    84. CHG_BALANCE.4\n",
      "    85. CURRENCY_ID.4\n",
      "    86. OPER_TYPE.4\n",
      "    87. ACCT_ID.5\n",
      "    88. ACCT_BALANCE_ID.5\n",
      "    89. BALANCE_TYPE.5\n",
      "    90. CUR_BALANCE.5\n",
      "    91. CHG_BALANCE.5\n",
      "    92. CURRENCY_ID.5\n",
      "    93. OPER_TYPE.5\n",
      "    94. ACCT_ID.6\n",
      "    95. ACCT_BALANCE_ID.6\n",
      "    96. BALANCE_TYPE.6\n",
      "    97. CUR_BALANCE.6\n",
      "    98. CHG_BALANCE.6\n",
      "    99. CURRENCY_ID.6\n",
      "   100. OPER_TYPE.6\n",
      "   101. ACCT_ID.7\n",
      "   102. ACCT_BALANCE_ID.7\n",
      "   103. BALANCE_TYPE.7\n",
      "   104. CUR_BALANCE.7\n",
      "   105. CHG_BALANCE.7\n",
      "   106. CURRENCY_ID.7\n",
      "   107. OPER_TYPE.7\n",
      "   108. ACCT_ID.8\n",
      "   109. ACCT_BALANCE_ID.8\n",
      "   110. BALANCE_TYPE.8\n",
      "   111. CUR_BALANCE.8\n",
      "   112. CHG_BALANCE.8\n",
      "   113. CURRENCY_ID.8\n",
      "   114. OPER_TYPE.8\n",
      "   115. ACCT_ID.9\n",
      "   116. ACCT_BALANCE_ID.9\n",
      "   117. BALANCE_TYPE.9\n",
      "   118. CUR_BALANCE.9\n",
      "   119. CHG_BALANCE.9\n",
      "   120. CURRENCY_ID.9\n",
      "   121. OPER_TYPE.9\n",
      "   122. FU_OWN_TYPE\n",
      "   123. FU_OWN_ID\n",
      "   124. FREE_UNIT_ID\n",
      "   125. FREE_UNIT_TYPE\n",
      "   126. CUR_AMOUNT\n",
      "   127. CHG_AMOUNT\n",
      "   128. FU_MEASURE_ID\n",
      "   129. OPER_TYPE.10\n",
      "   130. FU_OWN_TYPE.1\n",
      "   131. FU_OWN_ID.1\n",
      "   132. FREE_UNIT_ID.1\n",
      "   133. FREE_UNIT_TYPE.1\n",
      "   134. CUR_AMOUNT.1\n",
      "   135. CHG_AMOUNT.1\n",
      "   136. FU_MEASURE_ID.1\n",
      "   137. OPER_TYPE.11\n",
      "   138. FU_OWN_TYPE.2\n",
      "   139. FU_OWN_ID.2\n",
      "   140. FREE_UNIT_ID.2\n",
      "   141. FREE_UNIT_TYPE.2\n",
      "   142. CUR_AMOUNT.2\n",
      "   143. CHG_AMOUNT.2\n",
      "   144. FU_MEASURE_ID.2\n",
      "   145. OPER_TYPE.12\n",
      "   146. FU_OWN_TYPE.3\n",
      "   147. FU_OWN_ID.3\n",
      "   148. FREE_UNIT_ID.3\n",
      "   149. FREE_UNIT_TYPE.3\n",
      "   150. CUR_AMOUNT.3\n",
      "   151. CHG_AMOUNT.3\n",
      "   152. FU_MEASURE_ID.3\n",
      "   153. OPER_TYPE.13\n",
      "   154. FU_OWN_TYPE.4\n",
      "   155. FU_OWN_ID.4\n",
      "   156. FREE_UNIT_ID.4\n",
      "   157. FREE_UNIT_TYPE.4\n",
      "   158. CUR_AMOUNT.4\n",
      "   159. CHG_AMOUNT.4\n",
      "   160. FU_MEASURE_ID.4\n",
      "   161. OPER_TYPE.14\n",
      "   162. FU_OWN_TYPE.5\n",
      "   163. FU_OWN_ID.5\n",
      "   164. FREE_UNIT_ID.5\n",
      "   165. FREE_UNIT_TYPE.5\n",
      "   166. CUR_AMOUNT.5\n",
      "   167. CHG_AMOUNT.5\n",
      "   168. FU_MEASURE_ID.5\n",
      "   169. OPER_TYPE.15\n",
      "   170. FU_OWN_TYPE.6\n",
      "   171. FU_OWN_ID.6\n",
      "   172. FREE_UNIT_ID.6\n",
      "   173. FREE_UNIT_TYPE.6\n",
      "   174. CUR_AMOUNT.6\n",
      "   175. CHG_AMOUNT.6\n",
      "   176. FU_MEASURE_ID.6\n",
      "   177. OPER_TYPE.16\n",
      "   178. FU_OWN_TYPE.7\n",
      "   179. FU_OWN_ID.7\n",
      "   180. FREE_UNIT_ID.7\n",
      "   181. FREE_UNIT_TYPE.7\n",
      "   182. CUR_AMOUNT.7\n",
      "   183. CHG_AMOUNT.7\n",
      "   184. FU_MEASURE_ID.7\n",
      "   185. OPER_TYPE.17\n",
      "   186. FU_OWN_TYPE.8\n",
      "   187. FU_OWN_ID.8\n",
      "   188. FREE_UNIT_ID.8\n",
      "   189. FREE_UNIT_TYPE.8\n",
      "   190. CUR_AMOUNT.8\n",
      "   191. CHG_AMOUNT.8\n",
      "   192. FU_MEASURE_ID.8\n",
      "   193. OPER_TYPE.18\n",
      "   194. FU_OWN_TYPE.9\n",
      "   195. FU_OWN_ID.9\n",
      "   196. FREE_UNIT_ID.9\n",
      "   197. FREE_UNIT_TYPE.9\n",
      "   198. CUR_AMOUNT.9\n",
      "   199. CHG_AMOUNT.9\n",
      "   200. FU_MEASURE_ID.9\n",
      "   201. OPER_TYPE.19\n",
      "   202. ACCT_ID.10\n",
      "   203. ACCT_BALANCE_ID.10\n",
      "   204. BALANCE_TYPE.10\n",
      "   205. BONUS_AMOUNT\n",
      "   206. CURRENT_BALANCE\n",
      "   207. CURRENCY_ID.10\n",
      "   208. OPER_TYPE.20\n",
      "   209. ACCT_ID.11\n",
      "   210. ACCT_BALANCE_ID.11\n",
      "   211. BALANCE_TYPE.11\n",
      "   212. BONUS_AMOUNT.1\n",
      "   213. CURRENT_BALANCE.1\n",
      "   214. CURRENCY_ID.11\n",
      "   215. OPER_TYPE.21\n",
      "   216. ACCT_ID.12\n",
      "   217. ACCT_BALANCE_ID.12\n",
      "   218. BALANCE_TYPE.12\n",
      "   219. BONUS_AMOUNT.2\n",
      "   220. CURRENT_BALANCE.2\n",
      "   221. CURRENCY_ID.12\n",
      "   222. OPER_TYPE.22\n",
      "   223. ACCT_ID.13\n",
      "   224. ACCT_BALANCE_ID.13\n",
      "   225. BALANCE_TYPE.13\n",
      "   226. BONUS_AMOUNT.3\n",
      "   227. CURRENT_BALANCE.3\n",
      "   228. CURRENCY_ID.13\n",
      "   229. OPER_TYPE.23\n",
      "   230. ACCT_ID.14\n",
      "   231. ACCT_BALANCE_ID.14\n",
      "   232. BALANCE_TYPE.14\n",
      "   233. BONUS_AMOUNT.4\n",
      "   234. CURRENT_BALANCE.4\n",
      "   235. CURRENCY_ID.14\n",
      "   236. OPER_TYPE.24\n",
      "   237. ACCT_ID.15\n",
      "   238. ACCT_BALANCE_ID.15\n",
      "   239. BALANCE_TYPE.15\n",
      "   240. BONUS_AMOUNT.5\n",
      "   241. CURRENT_BALANCE.5\n",
      "   242. CURRENCY_ID.15\n",
      "   243. OPER_TYPE.25\n",
      "   244. ACCT_ID.16\n",
      "   245. ACCT_BALANCE_ID.16\n",
      "   246. BALANCE_TYPE.16\n",
      "   247. BONUS_AMOUNT.6\n",
      "   248. CURRENT_BALANCE.6\n",
      "   249. CURRENCY_ID.16\n",
      "   250. OPER_TYPE.26\n",
      "   251. ACCT_ID.17\n",
      "   252. ACCT_BALANCE_ID.17\n",
      "   253. BALANCE_TYPE.17\n",
      "   254. BONUS_AMOUNT.7\n",
      "   255. CURRENT_BALANCE.7\n",
      "   256. CURRENCY_ID.17\n",
      "   257. OPER_TYPE.27\n",
      "   258. ACCT_ID.18\n",
      "   259. ACCT_BALANCE_ID.18\n",
      "   260. BALANCE_TYPE.18\n",
      "   261. BONUS_AMOUNT.8\n",
      "   262. CURRENT_BALANCE.8\n",
      "   263. CURRENCY_ID.18\n",
      "   264. OPER_TYPE.28\n",
      "   265. ACCT_ID.19\n",
      "   266. ACCT_BALANCE_ID.19\n",
      "   267. BALANCE_TYPE.19\n",
      "   268. BONUS_AMOUNT.9\n",
      "   269. CURRENT_BALANCE.9\n",
      "   270. CURRENCY_ID.19\n",
      "   271. OPER_TYPE.29\n",
      "   272. FU_OWN_TYPE.10\n",
      "   273. FU_OWN_ID.10\n",
      "   274. FREE_UNIT_TYPE.10\n",
      "   275. FREE_UNIT_ID.10\n",
      "   276. BONUS_AMOUNT.10\n",
      "   277. CURRENT_AMOUNT\n",
      "   278. FU_MEASURE_ID.10\n",
      "   279. OPER_TYPE.30\n",
      "   280. FU_OWN_TYPE.11\n",
      "   281. FU_OWN_ID.11\n",
      "   282. FREE_UNIT_TYPE.11\n",
      "   283. FREE_UNIT_ID.11\n",
      "   284. BONUS_AMOUNT.11\n",
      "   285. CURRENT_AMOUNT.1\n",
      "   286. FU_MEASURE_ID.11\n",
      "   287. OPER_TYPE.31\n",
      "   288. FU_OWN_TYPE.12\n",
      "   289. FU_OWN_ID.12\n",
      "   290. FREE_UNIT_TYPE.12\n",
      "   291. FREE_UNIT_ID.12\n",
      "   292. BONUS_AMOUNT.12\n",
      "   293. CURRENT_AMOUNT.2\n",
      "   294. FU_MEASURE_ID.12\n",
      "   295. OPER_TYPE.32\n",
      "   296. FU_OWN_TYPE.13\n",
      "   297. FU_OWN_ID.13\n",
      "   298. FREE_UNIT_TYPE.13\n",
      "   299. FREE_UNIT_ID.13\n",
      "   300. BONUS_AMOUNT.13\n",
      "   301. CURRENT_AMOUNT.3\n",
      "   302. FU_MEASURE_ID.13\n",
      "   303. OPER_TYPE.33\n",
      "   304. FU_OWN_TYPE.14\n",
      "   305. FU_OWN_ID.14\n",
      "   306. FREE_UNIT_TYPE.14\n",
      "   307. FREE_UNIT_ID.14\n",
      "   308. BONUS_AMOUNT.14\n",
      "   309. CURRENT_AMOUNT.4\n",
      "   310. FU_MEASURE_ID.14\n",
      "   311. OPER_TYPE.34\n",
      "   312. FU_OWN_TYPE.15\n",
      "   313. FU_OWN_ID.15\n",
      "   314. FREE_UNIT_TYPE.15\n",
      "   315. FREE_UNIT_ID.15\n",
      "   316. BONUS_AMOUNT.15\n",
      "   317. CURRENT_AMOUNT.5\n",
      "   318. FU_MEASURE_ID.15\n",
      "   319. OPER_TYPE.35\n",
      "   320. FU_OWN_TYPE.16\n",
      "   321. FU_OWN_ID.16\n",
      "   322. FREE_UNIT_TYPE.16\n",
      "   323. FREE_UNIT_ID.16\n",
      "   324. BONUS_AMOUNT.16\n",
      "   325. CURRENT_AMOUNT.6\n",
      "   326. FU_MEASURE_ID.16\n",
      "   327. OPER_TYPE.36\n",
      "   328. FU_OWN_TYPE.17\n",
      "   329. FU_OWN_ID.17\n",
      "   330. FREE_UNIT_TYPE.17\n",
      "   331. FREE_UNIT_ID.17\n",
      "   332. BONUS_AMOUNT.17\n",
      "   333. CURRENT_AMOUNT.7\n",
      "   334. FU_MEASURE_ID.17\n",
      "   335. OPER_TYPE.37\n",
      "   336. FU_OWN_TYPE.18\n",
      "   337. FU_OWN_ID.18\n",
      "   338. FREE_UNIT_TYPE.18\n",
      "   339. FREE_UNIT_ID.18\n",
      "   340. BONUS_AMOUNT.18\n",
      "   341. CURRENT_AMOUNT.8\n",
      "   342. FU_MEASURE_ID.18\n",
      "   343. OPER_TYPE.38\n",
      "   344. FU_OWN_TYPE.19\n",
      "   345. FU_OWN_ID.19\n",
      "   346. FREE_UNIT_TYPE.19\n",
      "   347. FREE_UNIT_ID.19\n",
      "   348. BONUS_AMOUNT.19\n",
      "   349. CURRENT_AMOUNT.9\n",
      "   350. FU_MEASURE_ID.19\n",
      "   351. OPER_TYPE.39\n",
      "   352. CallingPartyNumber\n",
      "   353. CalledPartyNumber\n",
      "   354. CallingPartyIMSI\n",
      "   355. CalledPartyIMSI\n",
      "   356. DialedNumber\n",
      "   357. OriginalCalledParty\n",
      "   358. ServiceFlow\n",
      "   359. CallForwardIndicator\n",
      "   360. CallingRoamInfo\n",
      "   361. CallingCellID\n",
      "   362. CalledRoamInfo\n",
      "   363. CalledCellID\n",
      "   364. TimeStampOfSSP\n",
      "   365. TimeZoneOfSSP\n",
      "   366. BearerCapability\n",
      "   367. ChargingTime\n",
      "   368. WaitDuration\n",
      "   369. TerminationReason\n",
      "   370. CallReferenceNumber\n",
      "   371. IMEI\n",
      "   372. AccessPrefix\n",
      "   373. RoutingPrefix\n",
      "   374. RedirectingPartyID\n",
      "   375. MSCAddress\n",
      "   376. BrandID\n",
      "   377. MainOfferingID\n",
      "   378. ChargingPartyNumber\n",
      "   379. ChargePartyIndicator\n",
      "   380. PayType\n",
      "   381. ChargingType\n",
      "   382. CallType\n",
      "   383. RoamState\n",
      "   384. CallingHomeCountryCode\n",
      "   385. CallingHomeAreaNumber\n",
      "   386. CallingHomeNetworkCode\n",
      "   387. CallingRoamCountryCode\n",
      "   388. CallingRoamAreaNumber\n",
      "   389. CallingRoamNetworkCode\n",
      "   390. CalledHomeCountryCode\n",
      "   391. CalledHomeAreaNumber\n",
      "   392. CalledHomeNetworkCode\n",
      "   393. CalledRoamCountryCode\n",
      "   394. CalledRoamAreaNumber\n",
      "   395. CalledRoamNetworkCode\n",
      "   396. ServiceType\n",
      "   397. HotLineIndicator\n",
      "   398. HomeZoneID\n",
      "   399. SpecialZoneID\n",
      "   400. NPFlag\n",
      "   401. NPPrefix\n",
      "   402. CallingCUGNo\n",
      "   403. CalledCUGNo\n",
      "   404. OpposeNumberType\n",
      "   405. CallingNetworkType\n",
      "   406. CalledNetworkType\n",
      "   407. CallingVPNTopGroupNumber\n",
      "   408. CallingVPNGroupNumber\n",
      "   409. CallingVPNShortNumber\n",
      "   410. CalledVPNTopGroupNumber\n",
      "   411. CalledVPNGroupNumber\n",
      "   412. CalledVPNShortNumber\n",
      "   413. GroupCallType\n",
      "   414. OnlineChargingFlag\n",
      "   415. StartTimeOfBillCycle\n",
      "   416. LastEffectOffering\n",
      "   417. DTDiscount\n",
      "   418. OpposeMainOfferingID\n",
      "   419. MainBalanceInfo\n",
      "   420. ChgBalanceInfo\n",
      "   421. ChgFreeUnitInfo\n",
      "   422. UserState\n",
      "   423. GroupPayFlag\n",
      "   424. RoamingZoneID\n",
      "   425. PrimaryOfferChgAmt\n",
      "   426. OriginatingIOI\n",
      "   427. TerminatingIOI\n",
      "   428. IMSChargingIdentifier\n",
      "   429. TFTFlag\n"
     ]
    },
    {
     "name": "stderr",
     "output_type": "stream",
     "text": [
      "                                                                                \r"
     ]
    }
   ],
   "source": [
    "RAW_PATH = \"/user/hive/warehouse/raw/*.csv\"\n",
    "ANONYMIZED_PATH = \"/user/hive/warehouse/cdr_anonymized/\"\n",
    "\n",
    "# Load raw data\n",
    "df_raw = spark.read.option(\"header\", True).csv(RAW_PATH)\n",
    "total_rows = df_raw.count()\n",
    "print(f\"\\n📊 RAW DATA STATISTICS:\")\n",
    "print(f\"   Total rows loaded: {total_rows:,}\")\n",
    "print(f\"   Total columns: {len(df_raw.columns)}\")\n",
    "print(f\"\\n   Available columns:\")\n",
    "for i, col in enumerate(df_raw.columns, 1):\n",
    "    print(f\"   {i:3d}. {col}\")"
   ]
  },
  {
   "cell_type": "markdown",
   "id": "b6c3a565-2ffe-406f-979a-e25a1759b20f",
   "metadata": {},
   "source": [
    "Avant d’entrer dans l’anonymisation et la transformation des données CDR, il est essentiel de bien comprendre la structure, la qualité et la distribution de la donnée brute. Cette étape permet de garantir que le pipeline respecte les meilleures pratiques d’ingénierie de la donnée, tout en assurant la transparence et la reproductibilité des analyses pour les équipes techniques et métier.\n",
    "\n",
    "J'ai donc réalisé une analyse exploratoire détaillée (EDA) sur le jeu de données CDR, en mettant l’accent sur la couverture temporelle, les valeurs aberrantes, la complétude et la diversité des usages, afin d’optimiser la suite du pipeline."
   ]
  },
  {
   "cell_type": "markdown",
   "id": "9caad0b9-2512-4153-84b1-c57a544f3d33",
   "metadata": {},
   "source": [
    "### Analyse exploratoire des données (EDA)"
   ]
  },
  {
   "cell_type": "markdown",
   "id": "a6997335-b8b7-4c1d-be69-0e534142e1b6",
   "metadata": {},
   "source": [
    "#### Objectifs"
   ]
  },
  {
   "cell_type": "markdown",
   "id": "6dff1872-afda-4c11-b725-716a2b63a876",
   "metadata": {},
   "source": [
    "Cette étape vise à :\n",
    "\n",
    "- Comprendre la structure globale et les principales statistiques du dataset brut\n",
    "\n",
    "- Repérer les valeurs manquantes, les incohérences et les anomalies potentielles\n",
    "\n",
    "- Explorer la répartition temporelle et les usages pour la période couverte\n",
    "\n",
    "- Valider la qualité du dataset avant anonymisation et transformation"
   ]
  },
  {
   "cell_type": "markdown",
   "id": "2766a82b-b1f7-410f-ab2a-3b789e33a479",
   "metadata": {},
   "source": [
    "### 2.1. Vue d’ensemble du jeu de données\n",
    "\n",
    "Nous commençons par charger les données brutes et afficher les premières informations :"
   ]
  },
  {
   "cell_type": "code",
   "execution_count": 8,
   "id": "c1144859-8a44-4acc-b007-82b2484873aa",
   "metadata": {},
   "outputs": [
    {
     "name": "stderr",
     "output_type": "stream",
     "text": [
      "                                                                                \r"
     ]
    },
    {
     "name": "stdout",
     "output_type": "stream",
     "text": [
      "Lignes : 89,911\n",
      "Colonnes : 429\n",
      "root\n",
      " |-- CDR_ID: string (nullable = true)\n",
      " |-- CDR_SUB_ID: string (nullable = true)\n",
      " |-- CDR_TYPE: string (nullable = true)\n",
      " |-- SPLIT_CDR_REASON: string (nullable = true)\n",
      " |-- CDR_BATCH_ID: string (nullable = true)\n",
      " |-- SRC_REC_LINE_NO: string (nullable = true)\n",
      " |-- SRC_CDR_ID: string (nullable = true)\n",
      " |-- SRC_CDR_NO: string (nullable = true)\n",
      " |-- STATUS: string (nullable = true)\n",
      " |-- RE_RATING_TIMES: string (nullable = true)\n",
      " |-- CREATE_DATE: string (nullable = true)\n",
      " |-- START_DATE: string (nullable = true)\n",
      " |-- END_DATE: string (nullable = true)\n",
      " |-- CUST_LOCAL_START_DATE: string (nullable = true)\n",
      " |-- CUST_LOCAL_END_DATE: string (nullable = true)\n",
      " |-- STD_EVT_TYPE_ID: string (nullable = true)\n",
      " |-- EVT_SOURCE_CATEGORY: string (nullable = true)\n",
      " |-- OBJ_TYPE: string (nullable = true)\n",
      " |-- OBJ_ID: string (nullable = true)\n",
      " |-- OWNER_CUST_ID: string (nullable = true)\n",
      " |-- DEFAULT_ACCT_ID: string (nullable = true)\n",
      " |-- PRI_IDENTITY: string (nullable = true)\n",
      " |-- BILL_CYCLE_ID: string (nullable = true)\n",
      " |-- SERVICE_CATEGORY: string (nullable = true)\n",
      " |-- USAGE_SERVICE_TYPE: string (nullable = true)\n",
      " |-- SESSION_ID: string (nullable = true)\n",
      " |-- RESULT_CODE: string (nullable = true)\n",
      " |-- RESULT_REASON: string (nullable = true)\n",
      " |-- BE_ID: string (nullable = true)\n",
      " |-- HOT_SEQ: string (nullable = true)\n",
      " |-- CP_ID: string (nullable = true)\n",
      " |-- RECIPIENT_NUMBER: string (nullable = true)\n",
      " |-- USAGE_MEASURE_ID: string (nullable = true)\n",
      " |-- ACTUAL_USAGE: string (nullable = true)\n",
      " |-- RATE_USAGE: string (nullable = true)\n",
      " |-- SERVICE_UNIT_TYPE: string (nullable = true)\n",
      " |-- USAGE_MEASURE_ID2: string (nullable = true)\n",
      " |-- ACTUAL_USAGE2: string (nullable = true)\n",
      " |-- RATE_USAGE2: string (nullable = true)\n",
      " |-- SERVICE_UNIT_TYPE2: string (nullable = true)\n",
      " |-- DEBIT_AMOUNT: string (nullable = true)\n",
      " |-- UN_DEBIT_AMOUNT: string (nullable = true)\n",
      " |-- DEBIT_FROM_PREPAID: string (nullable = true)\n",
      " |-- DEBIT_FROM_ADVANCE_PREPAID: string (nullable = true)\n",
      " |-- DEBIT_FROM_POSTPAID: string (nullable = true)\n",
      " |-- DEBIT_FROM_ADVANCE_POSTPAID: string (nullable = true)\n",
      " |-- DEBIT_FROM_CREDIT_POSTPAID: string (nullable = true)\n",
      " |-- TOTAL_TAX: string (nullable = true)\n",
      " |-- FREE_UNIT_AMOUNT_OF_TIMES: string (nullable = true)\n",
      " |-- FREE_UNIT_AMOUNT_OF_DURATION: string (nullable = true)\n",
      " |-- FREE_UNIT_AMOUNT_OF_FLUX: string (nullable = true)\n",
      " |-- ACCT_ID: string (nullable = true)\n",
      " |-- ACCT_BALANCE_ID: string (nullable = true)\n",
      " |-- BALANCE_TYPE: string (nullable = true)\n",
      " |-- CUR_BALANCE: string (nullable = true)\n",
      " |-- CHG_BALANCE: string (nullable = true)\n",
      " |-- CURRENCY_ID: string (nullable = true)\n",
      " |-- OPER_TYPE: string (nullable = true)\n",
      " |-- ACCT_ID.1: string (nullable = true)\n",
      " |-- ACCT_BALANCE_ID.1: string (nullable = true)\n",
      " |-- BALANCE_TYPE.1: string (nullable = true)\n",
      " |-- CUR_BALANCE.1: string (nullable = true)\n",
      " |-- CHG_BALANCE.1: string (nullable = true)\n",
      " |-- CURRENCY_ID.1: string (nullable = true)\n",
      " |-- OPER_TYPE.1: string (nullable = true)\n",
      " |-- ACCT_ID.2: string (nullable = true)\n",
      " |-- ACCT_BALANCE_ID.2: string (nullable = true)\n",
      " |-- BALANCE_TYPE.2: string (nullable = true)\n",
      " |-- CUR_BALANCE.2: string (nullable = true)\n",
      " |-- CHG_BALANCE.2: string (nullable = true)\n",
      " |-- CURRENCY_ID.2: string (nullable = true)\n",
      " |-- OPER_TYPE.2: string (nullable = true)\n",
      " |-- ACCT_ID.3: string (nullable = true)\n",
      " |-- ACCT_BALANCE_ID.3: string (nullable = true)\n",
      " |-- BALANCE_TYPE.3: string (nullable = true)\n",
      " |-- CUR_BALANCE.3: string (nullable = true)\n",
      " |-- CHG_BALANCE.3: string (nullable = true)\n",
      " |-- CURRENCY_ID.3: string (nullable = true)\n",
      " |-- OPER_TYPE.3: string (nullable = true)\n",
      " |-- ACCT_ID.4: string (nullable = true)\n",
      " |-- ACCT_BALANCE_ID.4: string (nullable = true)\n",
      " |-- BALANCE_TYPE.4: string (nullable = true)\n",
      " |-- CUR_BALANCE.4: string (nullable = true)\n",
      " |-- CHG_BALANCE.4: string (nullable = true)\n",
      " |-- CURRENCY_ID.4: string (nullable = true)\n",
      " |-- OPER_TYPE.4: string (nullable = true)\n",
      " |-- ACCT_ID.5: string (nullable = true)\n",
      " |-- ACCT_BALANCE_ID.5: string (nullable = true)\n",
      " |-- BALANCE_TYPE.5: string (nullable = true)\n",
      " |-- CUR_BALANCE.5: string (nullable = true)\n",
      " |-- CHG_BALANCE.5: string (nullable = true)\n",
      " |-- CURRENCY_ID.5: string (nullable = true)\n",
      " |-- OPER_TYPE.5: string (nullable = true)\n",
      " |-- ACCT_ID.6: string (nullable = true)\n",
      " |-- ACCT_BALANCE_ID.6: string (nullable = true)\n",
      " |-- BALANCE_TYPE.6: string (nullable = true)\n",
      " |-- CUR_BALANCE.6: string (nullable = true)\n",
      " |-- CHG_BALANCE.6: string (nullable = true)\n",
      " |-- CURRENCY_ID.6: string (nullable = true)\n",
      " |-- OPER_TYPE.6: string (nullable = true)\n",
      " |-- ACCT_ID.7: string (nullable = true)\n",
      " |-- ACCT_BALANCE_ID.7: string (nullable = true)\n",
      " |-- BALANCE_TYPE.7: string (nullable = true)\n",
      " |-- CUR_BALANCE.7: string (nullable = true)\n",
      " |-- CHG_BALANCE.7: string (nullable = true)\n",
      " |-- CURRENCY_ID.7: string (nullable = true)\n",
      " |-- OPER_TYPE.7: string (nullable = true)\n",
      " |-- ACCT_ID.8: string (nullable = true)\n",
      " |-- ACCT_BALANCE_ID.8: string (nullable = true)\n",
      " |-- BALANCE_TYPE.8: string (nullable = true)\n",
      " |-- CUR_BALANCE.8: string (nullable = true)\n",
      " |-- CHG_BALANCE.8: string (nullable = true)\n",
      " |-- CURRENCY_ID.8: string (nullable = true)\n",
      " |-- OPER_TYPE.8: string (nullable = true)\n",
      " |-- ACCT_ID.9: string (nullable = true)\n",
      " |-- ACCT_BALANCE_ID.9: string (nullable = true)\n",
      " |-- BALANCE_TYPE.9: string (nullable = true)\n",
      " |-- CUR_BALANCE.9: string (nullable = true)\n",
      " |-- CHG_BALANCE.9: string (nullable = true)\n",
      " |-- CURRENCY_ID.9: string (nullable = true)\n",
      " |-- OPER_TYPE.9: string (nullable = true)\n",
      " |-- FU_OWN_TYPE: string (nullable = true)\n",
      " |-- FU_OWN_ID: string (nullable = true)\n",
      " |-- FREE_UNIT_ID: string (nullable = true)\n",
      " |-- FREE_UNIT_TYPE: string (nullable = true)\n",
      " |-- CUR_AMOUNT: string (nullable = true)\n",
      " |-- CHG_AMOUNT: string (nullable = true)\n",
      " |-- FU_MEASURE_ID: string (nullable = true)\n",
      " |-- OPER_TYPE.10: string (nullable = true)\n",
      " |-- FU_OWN_TYPE.1: string (nullable = true)\n",
      " |-- FU_OWN_ID.1: string (nullable = true)\n",
      " |-- FREE_UNIT_ID.1: string (nullable = true)\n",
      " |-- FREE_UNIT_TYPE.1: string (nullable = true)\n",
      " |-- CUR_AMOUNT.1: string (nullable = true)\n",
      " |-- CHG_AMOUNT.1: string (nullable = true)\n",
      " |-- FU_MEASURE_ID.1: string (nullable = true)\n",
      " |-- OPER_TYPE.11: string (nullable = true)\n",
      " |-- FU_OWN_TYPE.2: string (nullable = true)\n",
      " |-- FU_OWN_ID.2: string (nullable = true)\n",
      " |-- FREE_UNIT_ID.2: string (nullable = true)\n",
      " |-- FREE_UNIT_TYPE.2: string (nullable = true)\n",
      " |-- CUR_AMOUNT.2: string (nullable = true)\n",
      " |-- CHG_AMOUNT.2: string (nullable = true)\n",
      " |-- FU_MEASURE_ID.2: string (nullable = true)\n",
      " |-- OPER_TYPE.12: string (nullable = true)\n",
      " |-- FU_OWN_TYPE.3: string (nullable = true)\n",
      " |-- FU_OWN_ID.3: string (nullable = true)\n",
      " |-- FREE_UNIT_ID.3: string (nullable = true)\n",
      " |-- FREE_UNIT_TYPE.3: string (nullable = true)\n",
      " |-- CUR_AMOUNT.3: string (nullable = true)\n",
      " |-- CHG_AMOUNT.3: string (nullable = true)\n",
      " |-- FU_MEASURE_ID.3: string (nullable = true)\n",
      " |-- OPER_TYPE.13: string (nullable = true)\n",
      " |-- FU_OWN_TYPE.4: string (nullable = true)\n",
      " |-- FU_OWN_ID.4: string (nullable = true)\n",
      " |-- FREE_UNIT_ID.4: string (nullable = true)\n",
      " |-- FREE_UNIT_TYPE.4: string (nullable = true)\n",
      " |-- CUR_AMOUNT.4: string (nullable = true)\n",
      " |-- CHG_AMOUNT.4: string (nullable = true)\n",
      " |-- FU_MEASURE_ID.4: string (nullable = true)\n",
      " |-- OPER_TYPE.14: string (nullable = true)\n",
      " |-- FU_OWN_TYPE.5: string (nullable = true)\n",
      " |-- FU_OWN_ID.5: string (nullable = true)\n",
      " |-- FREE_UNIT_ID.5: string (nullable = true)\n",
      " |-- FREE_UNIT_TYPE.5: string (nullable = true)\n",
      " |-- CUR_AMOUNT.5: string (nullable = true)\n",
      " |-- CHG_AMOUNT.5: string (nullable = true)\n",
      " |-- FU_MEASURE_ID.5: string (nullable = true)\n",
      " |-- OPER_TYPE.15: string (nullable = true)\n",
      " |-- FU_OWN_TYPE.6: string (nullable = true)\n",
      " |-- FU_OWN_ID.6: string (nullable = true)\n",
      " |-- FREE_UNIT_ID.6: string (nullable = true)\n",
      " |-- FREE_UNIT_TYPE.6: string (nullable = true)\n",
      " |-- CUR_AMOUNT.6: string (nullable = true)\n",
      " |-- CHG_AMOUNT.6: string (nullable = true)\n",
      " |-- FU_MEASURE_ID.6: string (nullable = true)\n",
      " |-- OPER_TYPE.16: string (nullable = true)\n",
      " |-- FU_OWN_TYPE.7: string (nullable = true)\n",
      " |-- FU_OWN_ID.7: string (nullable = true)\n",
      " |-- FREE_UNIT_ID.7: string (nullable = true)\n",
      " |-- FREE_UNIT_TYPE.7: string (nullable = true)\n",
      " |-- CUR_AMOUNT.7: string (nullable = true)\n",
      " |-- CHG_AMOUNT.7: string (nullable = true)\n",
      " |-- FU_MEASURE_ID.7: string (nullable = true)\n",
      " |-- OPER_TYPE.17: string (nullable = true)\n",
      " |-- FU_OWN_TYPE.8: string (nullable = true)\n",
      " |-- FU_OWN_ID.8: string (nullable = true)\n",
      " |-- FREE_UNIT_ID.8: string (nullable = true)\n",
      " |-- FREE_UNIT_TYPE.8: string (nullable = true)\n",
      " |-- CUR_AMOUNT.8: string (nullable = true)\n",
      " |-- CHG_AMOUNT.8: string (nullable = true)\n",
      " |-- FU_MEASURE_ID.8: string (nullable = true)\n",
      " |-- OPER_TYPE.18: string (nullable = true)\n",
      " |-- FU_OWN_TYPE.9: string (nullable = true)\n",
      " |-- FU_OWN_ID.9: string (nullable = true)\n",
      " |-- FREE_UNIT_ID.9: string (nullable = true)\n",
      " |-- FREE_UNIT_TYPE.9: string (nullable = true)\n",
      " |-- CUR_AMOUNT.9: string (nullable = true)\n",
      " |-- CHG_AMOUNT.9: string (nullable = true)\n",
      " |-- FU_MEASURE_ID.9: string (nullable = true)\n",
      " |-- OPER_TYPE.19: string (nullable = true)\n",
      " |-- ACCT_ID.10: string (nullable = true)\n",
      " |-- ACCT_BALANCE_ID.10: string (nullable = true)\n",
      " |-- BALANCE_TYPE.10: string (nullable = true)\n",
      " |-- BONUS_AMOUNT: string (nullable = true)\n",
      " |-- CURRENT_BALANCE: string (nullable = true)\n",
      " |-- CURRENCY_ID.10: string (nullable = true)\n",
      " |-- OPER_TYPE.20: string (nullable = true)\n",
      " |-- ACCT_ID.11: string (nullable = true)\n",
      " |-- ACCT_BALANCE_ID.11: string (nullable = true)\n",
      " |-- BALANCE_TYPE.11: string (nullable = true)\n",
      " |-- BONUS_AMOUNT.1: string (nullable = true)\n",
      " |-- CURRENT_BALANCE.1: string (nullable = true)\n",
      " |-- CURRENCY_ID.11: string (nullable = true)\n",
      " |-- OPER_TYPE.21: string (nullable = true)\n",
      " |-- ACCT_ID.12: string (nullable = true)\n",
      " |-- ACCT_BALANCE_ID.12: string (nullable = true)\n",
      " |-- BALANCE_TYPE.12: string (nullable = true)\n",
      " |-- BONUS_AMOUNT.2: string (nullable = true)\n",
      " |-- CURRENT_BALANCE.2: string (nullable = true)\n",
      " |-- CURRENCY_ID.12: string (nullable = true)\n",
      " |-- OPER_TYPE.22: string (nullable = true)\n",
      " |-- ACCT_ID.13: string (nullable = true)\n",
      " |-- ACCT_BALANCE_ID.13: string (nullable = true)\n",
      " |-- BALANCE_TYPE.13: string (nullable = true)\n",
      " |-- BONUS_AMOUNT.3: string (nullable = true)\n",
      " |-- CURRENT_BALANCE.3: string (nullable = true)\n",
      " |-- CURRENCY_ID.13: string (nullable = true)\n",
      " |-- OPER_TYPE.23: string (nullable = true)\n",
      " |-- ACCT_ID.14: string (nullable = true)\n",
      " |-- ACCT_BALANCE_ID.14: string (nullable = true)\n",
      " |-- BALANCE_TYPE.14: string (nullable = true)\n",
      " |-- BONUS_AMOUNT.4: string (nullable = true)\n",
      " |-- CURRENT_BALANCE.4: string (nullable = true)\n",
      " |-- CURRENCY_ID.14: string (nullable = true)\n",
      " |-- OPER_TYPE.24: string (nullable = true)\n",
      " |-- ACCT_ID.15: string (nullable = true)\n",
      " |-- ACCT_BALANCE_ID.15: string (nullable = true)\n",
      " |-- BALANCE_TYPE.15: string (nullable = true)\n",
      " |-- BONUS_AMOUNT.5: string (nullable = true)\n",
      " |-- CURRENT_BALANCE.5: string (nullable = true)\n",
      " |-- CURRENCY_ID.15: string (nullable = true)\n",
      " |-- OPER_TYPE.25: string (nullable = true)\n",
      " |-- ACCT_ID.16: string (nullable = true)\n",
      " |-- ACCT_BALANCE_ID.16: string (nullable = true)\n",
      " |-- BALANCE_TYPE.16: string (nullable = true)\n",
      " |-- BONUS_AMOUNT.6: string (nullable = true)\n",
      " |-- CURRENT_BALANCE.6: string (nullable = true)\n",
      " |-- CURRENCY_ID.16: string (nullable = true)\n",
      " |-- OPER_TYPE.26: string (nullable = true)\n",
      " |-- ACCT_ID.17: string (nullable = true)\n",
      " |-- ACCT_BALANCE_ID.17: string (nullable = true)\n",
      " |-- BALANCE_TYPE.17: string (nullable = true)\n",
      " |-- BONUS_AMOUNT.7: string (nullable = true)\n",
      " |-- CURRENT_BALANCE.7: string (nullable = true)\n",
      " |-- CURRENCY_ID.17: string (nullable = true)\n",
      " |-- OPER_TYPE.27: string (nullable = true)\n",
      " |-- ACCT_ID.18: string (nullable = true)\n",
      " |-- ACCT_BALANCE_ID.18: string (nullable = true)\n",
      " |-- BALANCE_TYPE.18: string (nullable = true)\n",
      " |-- BONUS_AMOUNT.8: string (nullable = true)\n",
      " |-- CURRENT_BALANCE.8: string (nullable = true)\n",
      " |-- CURRENCY_ID.18: string (nullable = true)\n",
      " |-- OPER_TYPE.28: string (nullable = true)\n",
      " |-- ACCT_ID.19: string (nullable = true)\n",
      " |-- ACCT_BALANCE_ID.19: string (nullable = true)\n",
      " |-- BALANCE_TYPE.19: string (nullable = true)\n",
      " |-- BONUS_AMOUNT.9: string (nullable = true)\n",
      " |-- CURRENT_BALANCE.9: string (nullable = true)\n",
      " |-- CURRENCY_ID.19: string (nullable = true)\n",
      " |-- OPER_TYPE.29: string (nullable = true)\n",
      " |-- FU_OWN_TYPE.10: string (nullable = true)\n",
      " |-- FU_OWN_ID.10: string (nullable = true)\n",
      " |-- FREE_UNIT_TYPE.10: string (nullable = true)\n",
      " |-- FREE_UNIT_ID.10: string (nullable = true)\n",
      " |-- BONUS_AMOUNT.10: string (nullable = true)\n",
      " |-- CURRENT_AMOUNT: string (nullable = true)\n",
      " |-- FU_MEASURE_ID.10: string (nullable = true)\n",
      " |-- OPER_TYPE.30: string (nullable = true)\n",
      " |-- FU_OWN_TYPE.11: string (nullable = true)\n",
      " |-- FU_OWN_ID.11: string (nullable = true)\n",
      " |-- FREE_UNIT_TYPE.11: string (nullable = true)\n",
      " |-- FREE_UNIT_ID.11: string (nullable = true)\n",
      " |-- BONUS_AMOUNT.11: string (nullable = true)\n",
      " |-- CURRENT_AMOUNT.1: string (nullable = true)\n",
      " |-- FU_MEASURE_ID.11: string (nullable = true)\n",
      " |-- OPER_TYPE.31: string (nullable = true)\n",
      " |-- FU_OWN_TYPE.12: string (nullable = true)\n",
      " |-- FU_OWN_ID.12: string (nullable = true)\n",
      " |-- FREE_UNIT_TYPE.12: string (nullable = true)\n",
      " |-- FREE_UNIT_ID.12: string (nullable = true)\n",
      " |-- BONUS_AMOUNT.12: string (nullable = true)\n",
      " |-- CURRENT_AMOUNT.2: string (nullable = true)\n",
      " |-- FU_MEASURE_ID.12: string (nullable = true)\n",
      " |-- OPER_TYPE.32: string (nullable = true)\n",
      " |-- FU_OWN_TYPE.13: string (nullable = true)\n",
      " |-- FU_OWN_ID.13: string (nullable = true)\n",
      " |-- FREE_UNIT_TYPE.13: string (nullable = true)\n",
      " |-- FREE_UNIT_ID.13: string (nullable = true)\n",
      " |-- BONUS_AMOUNT.13: string (nullable = true)\n",
      " |-- CURRENT_AMOUNT.3: string (nullable = true)\n",
      " |-- FU_MEASURE_ID.13: string (nullable = true)\n",
      " |-- OPER_TYPE.33: string (nullable = true)\n",
      " |-- FU_OWN_TYPE.14: string (nullable = true)\n",
      " |-- FU_OWN_ID.14: string (nullable = true)\n",
      " |-- FREE_UNIT_TYPE.14: string (nullable = true)\n",
      " |-- FREE_UNIT_ID.14: string (nullable = true)\n",
      " |-- BONUS_AMOUNT.14: string (nullable = true)\n",
      " |-- CURRENT_AMOUNT.4: string (nullable = true)\n",
      " |-- FU_MEASURE_ID.14: string (nullable = true)\n",
      " |-- OPER_TYPE.34: string (nullable = true)\n",
      " |-- FU_OWN_TYPE.15: string (nullable = true)\n",
      " |-- FU_OWN_ID.15: string (nullable = true)\n",
      " |-- FREE_UNIT_TYPE.15: string (nullable = true)\n",
      " |-- FREE_UNIT_ID.15: string (nullable = true)\n",
      " |-- BONUS_AMOUNT.15: string (nullable = true)\n",
      " |-- CURRENT_AMOUNT.5: string (nullable = true)\n",
      " |-- FU_MEASURE_ID.15: string (nullable = true)\n",
      " |-- OPER_TYPE.35: string (nullable = true)\n",
      " |-- FU_OWN_TYPE.16: string (nullable = true)\n",
      " |-- FU_OWN_ID.16: string (nullable = true)\n",
      " |-- FREE_UNIT_TYPE.16: string (nullable = true)\n",
      " |-- FREE_UNIT_ID.16: string (nullable = true)\n",
      " |-- BONUS_AMOUNT.16: string (nullable = true)\n",
      " |-- CURRENT_AMOUNT.6: string (nullable = true)\n",
      " |-- FU_MEASURE_ID.16: string (nullable = true)\n",
      " |-- OPER_TYPE.36: string (nullable = true)\n",
      " |-- FU_OWN_TYPE.17: string (nullable = true)\n",
      " |-- FU_OWN_ID.17: string (nullable = true)\n",
      " |-- FREE_UNIT_TYPE.17: string (nullable = true)\n",
      " |-- FREE_UNIT_ID.17: string (nullable = true)\n",
      " |-- BONUS_AMOUNT.17: string (nullable = true)\n",
      " |-- CURRENT_AMOUNT.7: string (nullable = true)\n",
      " |-- FU_MEASURE_ID.17: string (nullable = true)\n",
      " |-- OPER_TYPE.37: string (nullable = true)\n",
      " |-- FU_OWN_TYPE.18: string (nullable = true)\n",
      " |-- FU_OWN_ID.18: string (nullable = true)\n",
      " |-- FREE_UNIT_TYPE.18: string (nullable = true)\n",
      " |-- FREE_UNIT_ID.18: string (nullable = true)\n",
      " |-- BONUS_AMOUNT.18: string (nullable = true)\n",
      " |-- CURRENT_AMOUNT.8: string (nullable = true)\n",
      " |-- FU_MEASURE_ID.18: string (nullable = true)\n",
      " |-- OPER_TYPE.38: string (nullable = true)\n",
      " |-- FU_OWN_TYPE.19: string (nullable = true)\n",
      " |-- FU_OWN_ID.19: string (nullable = true)\n",
      " |-- FREE_UNIT_TYPE.19: string (nullable = true)\n",
      " |-- FREE_UNIT_ID.19: string (nullable = true)\n",
      " |-- BONUS_AMOUNT.19: string (nullable = true)\n",
      " |-- CURRENT_AMOUNT.9: string (nullable = true)\n",
      " |-- FU_MEASURE_ID.19: string (nullable = true)\n",
      " |-- OPER_TYPE.39: string (nullable = true)\n",
      " |-- CallingPartyNumber: string (nullable = true)\n",
      " |-- CalledPartyNumber: string (nullable = true)\n",
      " |-- CallingPartyIMSI: string (nullable = true)\n",
      " |-- CalledPartyIMSI: string (nullable = true)\n",
      " |-- DialedNumber: string (nullable = true)\n",
      " |-- OriginalCalledParty: string (nullable = true)\n",
      " |-- ServiceFlow: string (nullable = true)\n",
      " |-- CallForwardIndicator: string (nullable = true)\n",
      " |-- CallingRoamInfo: string (nullable = true)\n",
      " |-- CallingCellID: string (nullable = true)\n",
      " |-- CalledRoamInfo: string (nullable = true)\n",
      " |-- CalledCellID: string (nullable = true)\n",
      " |-- TimeStampOfSSP: string (nullable = true)\n",
      " |-- TimeZoneOfSSP: string (nullable = true)\n",
      " |-- BearerCapability: string (nullable = true)\n",
      " |-- ChargingTime: string (nullable = true)\n",
      " |-- WaitDuration: string (nullable = true)\n",
      " |-- TerminationReason: string (nullable = true)\n",
      " |-- CallReferenceNumber: string (nullable = true)\n",
      " |-- IMEI: string (nullable = true)\n",
      " |-- AccessPrefix: string (nullable = true)\n",
      " |-- RoutingPrefix: string (nullable = true)\n",
      " |-- RedirectingPartyID: string (nullable = true)\n",
      " |-- MSCAddress: string (nullable = true)\n",
      " |-- BrandID: string (nullable = true)\n",
      " |-- MainOfferingID: string (nullable = true)\n",
      " |-- ChargingPartyNumber: string (nullable = true)\n",
      " |-- ChargePartyIndicator: string (nullable = true)\n",
      " |-- PayType: string (nullable = true)\n",
      " |-- ChargingType: string (nullable = true)\n",
      " |-- CallType: string (nullable = true)\n",
      " |-- RoamState: string (nullable = true)\n",
      " |-- CallingHomeCountryCode: string (nullable = true)\n",
      " |-- CallingHomeAreaNumber: string (nullable = true)\n",
      " |-- CallingHomeNetworkCode: string (nullable = true)\n",
      " |-- CallingRoamCountryCode: string (nullable = true)\n",
      " |-- CallingRoamAreaNumber: string (nullable = true)\n",
      " |-- CallingRoamNetworkCode: string (nullable = true)\n",
      " |-- CalledHomeCountryCode: string (nullable = true)\n",
      " |-- CalledHomeAreaNumber: string (nullable = true)\n",
      " |-- CalledHomeNetworkCode: string (nullable = true)\n",
      " |-- CalledRoamCountryCode: string (nullable = true)\n",
      " |-- CalledRoamAreaNumber: string (nullable = true)\n",
      " |-- CalledRoamNetworkCode: string (nullable = true)\n",
      " |-- ServiceType: string (nullable = true)\n",
      " |-- HotLineIndicator: string (nullable = true)\n",
      " |-- HomeZoneID: string (nullable = true)\n",
      " |-- SpecialZoneID: string (nullable = true)\n",
      " |-- NPFlag: string (nullable = true)\n",
      " |-- NPPrefix: string (nullable = true)\n",
      " |-- CallingCUGNo: string (nullable = true)\n",
      " |-- CalledCUGNo: string (nullable = true)\n",
      " |-- OpposeNumberType: string (nullable = true)\n",
      " |-- CallingNetworkType: string (nullable = true)\n",
      " |-- CalledNetworkType: string (nullable = true)\n",
      " |-- CallingVPNTopGroupNumber: string (nullable = true)\n",
      " |-- CallingVPNGroupNumber: string (nullable = true)\n",
      " |-- CallingVPNShortNumber: string (nullable = true)\n",
      " |-- CalledVPNTopGroupNumber: string (nullable = true)\n",
      " |-- CalledVPNGroupNumber: string (nullable = true)\n",
      " |-- CalledVPNShortNumber: string (nullable = true)\n",
      " |-- GroupCallType: string (nullable = true)\n",
      " |-- OnlineChargingFlag: string (nullable = true)\n",
      " |-- StartTimeOfBillCycle: string (nullable = true)\n",
      " |-- LastEffectOffering: string (nullable = true)\n",
      " |-- DTDiscount: string (nullable = true)\n",
      " |-- OpposeMainOfferingID: string (nullable = true)\n",
      " |-- MainBalanceInfo: string (nullable = true)\n",
      " |-- ChgBalanceInfo: string (nullable = true)\n",
      " |-- ChgFreeUnitInfo: string (nullable = true)\n",
      " |-- UserState: string (nullable = true)\n",
      " |-- GroupPayFlag: string (nullable = true)\n",
      " |-- RoamingZoneID: string (nullable = true)\n",
      " |-- PrimaryOfferChgAmt: string (nullable = true)\n",
      " |-- OriginatingIOI: string (nullable = true)\n",
      " |-- TerminatingIOI: string (nullable = true)\n",
      " |-- IMSChargingIdentifier: string (nullable = true)\n",
      " |-- TFTFlag: string (nullable = true)\n",
      "\n"
     ]
    },
    {
     "name": "stderr",
     "output_type": "stream",
     "text": [
      "25/06/29 20:18:34 WARN SparkStringUtils: Truncated the string representation of a plan since it was too large. This behavior can be adjusted by setting 'spark.sql.debug.maxToStringFields'.\n"
     ]
    },
    {
     "name": "stdout",
     "output_type": "stream",
     "text": [
      "+------------------+----------+--------+----------------+------------------+---------------+----------+------------------+------+---------------+--------------+--------------+--------------+---------------------+-------------------+---------------+-------------------+--------+------------------+------------------+------------------+------------+-------------+----------------+------------------+--------------------------------------------------------------+-----------+-------------+-----+-------+-----+----------------+----------------+------------+----------+-----------------+-----------------+-------------+-----------+------------------+------------+---------------+------------------+--------------------------+-------------------+---------------------------+--------------------------+---------+-------------------------+----------------------------+------------------------+---------------------+---------------------+------------+------------+-----------+-----------+---------+---------+-----------------+--------------+-------------+-------------+-------------+-----------+---------+-----------------+--------------+-------------+-------------+-------------+-----------+---------+-----------------+--------------+-------------+-------------+-------------+-----------+---------+-----------------+--------------+-------------+-------------+-------------+-----------+---------+-----------------+--------------+-------------+-------------+-------------+-----------+---------+-----------------+--------------+-------------+-------------+-------------+-----------+---------+-----------------+--------------+-------------+-------------+-------------+-----------+---------+-----------------+--------------+-------------+-------------+-------------+-----------+---------+-----------------+--------------+-------------+-------------+-------------+-----------+-----------+---------+------------+--------------+----------+----------+-------------+------------+-------------+-----------+--------------+----------------+------------+------------+---------------+------------+-------------+-----------+--------------+----------------+------------+------------+---------------+------------+-------------+-----------+--------------+----------------+------------+------------+---------------+------------+-------------+-----------+--------------+----------------+------------+------------+---------------+------------+-------------+-----------+--------------+----------------+------------+------------+---------------+------------+-------------+-----------+--------------+----------------+------------+------------+---------------+------------+-------------+-----------+--------------+----------------+------------+------------+---------------+------------+-------------+-----------+--------------+----------------+------------+------------+---------------+------------+-------------+-----------+--------------+----------------+------------+------------+---------------+------------+----------+------------------+---------------+------------+---------------+--------------+------------+----------+------------------+---------------+--------------+-----------------+--------------+------------+----------+------------------+---------------+--------------+-----------------+--------------+------------+----------+------------------+---------------+--------------+-----------------+--------------+------------+----------+------------------+---------------+--------------+-----------------+--------------+------------+----------+------------------+---------------+--------------+-----------------+--------------+------------+----------+------------------+---------------+--------------+-----------------+--------------+------------+----------+------------------+---------------+--------------+-----------------+--------------+------------+----------+------------------+---------------+--------------+-----------------+--------------+------------+----------+------------------+---------------+--------------+-----------------+--------------+------------+--------------+------------+-----------------+---------------+---------------+--------------+----------------+------------+--------------+------------+-----------------+---------------+---------------+----------------+----------------+------------+--------------+------------+-----------------+---------------+---------------+----------------+----------------+------------+--------------+------------+-----------------+---------------+---------------+----------------+----------------+------------+--------------+------------+-----------------+---------------+---------------+----------------+----------------+------------+--------------+------------+-----------------+---------------+---------------+----------------+----------------+------------+--------------+------------+-----------------+---------------+---------------+----------------+----------------+------------+--------------+------------+-----------------+---------------+---------------+----------------+----------------+------------+--------------+------------+-----------------+---------------+---------------+----------------+----------------+------------+--------------+------------+-----------------+---------------+---------------+----------------+----------------+------------+------------------+-----------------+----------------+---------------+------------+-------------------+-----------+--------------------+---------------+-------------+--------------+------------+--------------+-------------+----------------+--------------+------------+-----------------+-------------------+----+------------+-------------+------------------+----------+-------+--------------+-------------------+--------------------+-------+------------+--------+---------+----------------------+---------------------+----------------------+----------------------+---------------------+----------------------+---------------------+--------------------+---------------------+---------------------+--------------------+---------------------+-----------+----------------+----------+-------------+------+--------+------------+-----------+----------------+------------------+-----------------+------------------------+---------------------+---------------------+-----------------------+--------------------+--------------------+-------------+------------------+--------------------+------------------+----------+--------------------+---------------+--------------+---------------+---------+------------+-------------+------------------+--------------+--------------+---------------------+-------+\n",
      "|CDR_ID            |CDR_SUB_ID|CDR_TYPE|SPLIT_CDR_REASON|CDR_BATCH_ID      |SRC_REC_LINE_NO|SRC_CDR_ID|SRC_CDR_NO        |STATUS|RE_RATING_TIMES|CREATE_DATE   |START_DATE    |END_DATE      |CUST_LOCAL_START_DATE|CUST_LOCAL_END_DATE|STD_EVT_TYPE_ID|EVT_SOURCE_CATEGORY|OBJ_TYPE|OBJ_ID            |OWNER_CUST_ID     |DEFAULT_ACCT_ID   |PRI_IDENTITY|BILL_CYCLE_ID|SERVICE_CATEGORY|USAGE_SERVICE_TYPE|SESSION_ID                                                    |RESULT_CODE|RESULT_REASON|BE_ID|HOT_SEQ|CP_ID|RECIPIENT_NUMBER|USAGE_MEASURE_ID|ACTUAL_USAGE|RATE_USAGE|SERVICE_UNIT_TYPE|USAGE_MEASURE_ID2|ACTUAL_USAGE2|RATE_USAGE2|SERVICE_UNIT_TYPE2|DEBIT_AMOUNT|UN_DEBIT_AMOUNT|DEBIT_FROM_PREPAID|DEBIT_FROM_ADVANCE_PREPAID|DEBIT_FROM_POSTPAID|DEBIT_FROM_ADVANCE_POSTPAID|DEBIT_FROM_CREDIT_POSTPAID|TOTAL_TAX|FREE_UNIT_AMOUNT_OF_TIMES|FREE_UNIT_AMOUNT_OF_DURATION|FREE_UNIT_AMOUNT_OF_FLUX|ACCT_ID              |ACCT_BALANCE_ID      |BALANCE_TYPE|CUR_BALANCE |CHG_BALANCE|CURRENCY_ID|OPER_TYPE|ACCT_ID.1|ACCT_BALANCE_ID.1|BALANCE_TYPE.1|CUR_BALANCE.1|CHG_BALANCE.1|CURRENCY_ID.1|OPER_TYPE.1|ACCT_ID.2|ACCT_BALANCE_ID.2|BALANCE_TYPE.2|CUR_BALANCE.2|CHG_BALANCE.2|CURRENCY_ID.2|OPER_TYPE.2|ACCT_ID.3|ACCT_BALANCE_ID.3|BALANCE_TYPE.3|CUR_BALANCE.3|CHG_BALANCE.3|CURRENCY_ID.3|OPER_TYPE.3|ACCT_ID.4|ACCT_BALANCE_ID.4|BALANCE_TYPE.4|CUR_BALANCE.4|CHG_BALANCE.4|CURRENCY_ID.4|OPER_TYPE.4|ACCT_ID.5|ACCT_BALANCE_ID.5|BALANCE_TYPE.5|CUR_BALANCE.5|CHG_BALANCE.5|CURRENCY_ID.5|OPER_TYPE.5|ACCT_ID.6|ACCT_BALANCE_ID.6|BALANCE_TYPE.6|CUR_BALANCE.6|CHG_BALANCE.6|CURRENCY_ID.6|OPER_TYPE.6|ACCT_ID.7|ACCT_BALANCE_ID.7|BALANCE_TYPE.7|CUR_BALANCE.7|CHG_BALANCE.7|CURRENCY_ID.7|OPER_TYPE.7|ACCT_ID.8|ACCT_BALANCE_ID.8|BALANCE_TYPE.8|CUR_BALANCE.8|CHG_BALANCE.8|CURRENCY_ID.8|OPER_TYPE.8|ACCT_ID.9|ACCT_BALANCE_ID.9|BALANCE_TYPE.9|CUR_BALANCE.9|CHG_BALANCE.9|CURRENCY_ID.9|OPER_TYPE.9|FU_OWN_TYPE|FU_OWN_ID|FREE_UNIT_ID|FREE_UNIT_TYPE|CUR_AMOUNT|CHG_AMOUNT|FU_MEASURE_ID|OPER_TYPE.10|FU_OWN_TYPE.1|FU_OWN_ID.1|FREE_UNIT_ID.1|FREE_UNIT_TYPE.1|CUR_AMOUNT.1|CHG_AMOUNT.1|FU_MEASURE_ID.1|OPER_TYPE.11|FU_OWN_TYPE.2|FU_OWN_ID.2|FREE_UNIT_ID.2|FREE_UNIT_TYPE.2|CUR_AMOUNT.2|CHG_AMOUNT.2|FU_MEASURE_ID.2|OPER_TYPE.12|FU_OWN_TYPE.3|FU_OWN_ID.3|FREE_UNIT_ID.3|FREE_UNIT_TYPE.3|CUR_AMOUNT.3|CHG_AMOUNT.3|FU_MEASURE_ID.3|OPER_TYPE.13|FU_OWN_TYPE.4|FU_OWN_ID.4|FREE_UNIT_ID.4|FREE_UNIT_TYPE.4|CUR_AMOUNT.4|CHG_AMOUNT.4|FU_MEASURE_ID.4|OPER_TYPE.14|FU_OWN_TYPE.5|FU_OWN_ID.5|FREE_UNIT_ID.5|FREE_UNIT_TYPE.5|CUR_AMOUNT.5|CHG_AMOUNT.5|FU_MEASURE_ID.5|OPER_TYPE.15|FU_OWN_TYPE.6|FU_OWN_ID.6|FREE_UNIT_ID.6|FREE_UNIT_TYPE.6|CUR_AMOUNT.6|CHG_AMOUNT.6|FU_MEASURE_ID.6|OPER_TYPE.16|FU_OWN_TYPE.7|FU_OWN_ID.7|FREE_UNIT_ID.7|FREE_UNIT_TYPE.7|CUR_AMOUNT.7|CHG_AMOUNT.7|FU_MEASURE_ID.7|OPER_TYPE.17|FU_OWN_TYPE.8|FU_OWN_ID.8|FREE_UNIT_ID.8|FREE_UNIT_TYPE.8|CUR_AMOUNT.8|CHG_AMOUNT.8|FU_MEASURE_ID.8|OPER_TYPE.18|FU_OWN_TYPE.9|FU_OWN_ID.9|FREE_UNIT_ID.9|FREE_UNIT_TYPE.9|CUR_AMOUNT.9|CHG_AMOUNT.9|FU_MEASURE_ID.9|OPER_TYPE.19|ACCT_ID.10|ACCT_BALANCE_ID.10|BALANCE_TYPE.10|BONUS_AMOUNT|CURRENT_BALANCE|CURRENCY_ID.10|OPER_TYPE.20|ACCT_ID.11|ACCT_BALANCE_ID.11|BALANCE_TYPE.11|BONUS_AMOUNT.1|CURRENT_BALANCE.1|CURRENCY_ID.11|OPER_TYPE.21|ACCT_ID.12|ACCT_BALANCE_ID.12|BALANCE_TYPE.12|BONUS_AMOUNT.2|CURRENT_BALANCE.2|CURRENCY_ID.12|OPER_TYPE.22|ACCT_ID.13|ACCT_BALANCE_ID.13|BALANCE_TYPE.13|BONUS_AMOUNT.3|CURRENT_BALANCE.3|CURRENCY_ID.13|OPER_TYPE.23|ACCT_ID.14|ACCT_BALANCE_ID.14|BALANCE_TYPE.14|BONUS_AMOUNT.4|CURRENT_BALANCE.4|CURRENCY_ID.14|OPER_TYPE.24|ACCT_ID.15|ACCT_BALANCE_ID.15|BALANCE_TYPE.15|BONUS_AMOUNT.5|CURRENT_BALANCE.5|CURRENCY_ID.15|OPER_TYPE.25|ACCT_ID.16|ACCT_BALANCE_ID.16|BALANCE_TYPE.16|BONUS_AMOUNT.6|CURRENT_BALANCE.6|CURRENCY_ID.16|OPER_TYPE.26|ACCT_ID.17|ACCT_BALANCE_ID.17|BALANCE_TYPE.17|BONUS_AMOUNT.7|CURRENT_BALANCE.7|CURRENCY_ID.17|OPER_TYPE.27|ACCT_ID.18|ACCT_BALANCE_ID.18|BALANCE_TYPE.18|BONUS_AMOUNT.8|CURRENT_BALANCE.8|CURRENCY_ID.18|OPER_TYPE.28|ACCT_ID.19|ACCT_BALANCE_ID.19|BALANCE_TYPE.19|BONUS_AMOUNT.9|CURRENT_BALANCE.9|CURRENCY_ID.19|OPER_TYPE.29|FU_OWN_TYPE.10|FU_OWN_ID.10|FREE_UNIT_TYPE.10|FREE_UNIT_ID.10|BONUS_AMOUNT.10|CURRENT_AMOUNT|FU_MEASURE_ID.10|OPER_TYPE.30|FU_OWN_TYPE.11|FU_OWN_ID.11|FREE_UNIT_TYPE.11|FREE_UNIT_ID.11|BONUS_AMOUNT.11|CURRENT_AMOUNT.1|FU_MEASURE_ID.11|OPER_TYPE.31|FU_OWN_TYPE.12|FU_OWN_ID.12|FREE_UNIT_TYPE.12|FREE_UNIT_ID.12|BONUS_AMOUNT.12|CURRENT_AMOUNT.2|FU_MEASURE_ID.12|OPER_TYPE.32|FU_OWN_TYPE.13|FU_OWN_ID.13|FREE_UNIT_TYPE.13|FREE_UNIT_ID.13|BONUS_AMOUNT.13|CURRENT_AMOUNT.3|FU_MEASURE_ID.13|OPER_TYPE.33|FU_OWN_TYPE.14|FU_OWN_ID.14|FREE_UNIT_TYPE.14|FREE_UNIT_ID.14|BONUS_AMOUNT.14|CURRENT_AMOUNT.4|FU_MEASURE_ID.14|OPER_TYPE.34|FU_OWN_TYPE.15|FU_OWN_ID.15|FREE_UNIT_TYPE.15|FREE_UNIT_ID.15|BONUS_AMOUNT.15|CURRENT_AMOUNT.5|FU_MEASURE_ID.15|OPER_TYPE.35|FU_OWN_TYPE.16|FU_OWN_ID.16|FREE_UNIT_TYPE.16|FREE_UNIT_ID.16|BONUS_AMOUNT.16|CURRENT_AMOUNT.6|FU_MEASURE_ID.16|OPER_TYPE.36|FU_OWN_TYPE.17|FU_OWN_ID.17|FREE_UNIT_TYPE.17|FREE_UNIT_ID.17|BONUS_AMOUNT.17|CURRENT_AMOUNT.7|FU_MEASURE_ID.17|OPER_TYPE.37|FU_OWN_TYPE.18|FU_OWN_ID.18|FREE_UNIT_TYPE.18|FREE_UNIT_ID.18|BONUS_AMOUNT.18|CURRENT_AMOUNT.8|FU_MEASURE_ID.18|OPER_TYPE.38|FU_OWN_TYPE.19|FU_OWN_ID.19|FREE_UNIT_TYPE.19|FREE_UNIT_ID.19|BONUS_AMOUNT.19|CURRENT_AMOUNT.9|FU_MEASURE_ID.19|OPER_TYPE.39|CallingPartyNumber|CalledPartyNumber|CallingPartyIMSI|CalledPartyIMSI|DialedNumber|OriginalCalledParty|ServiceFlow|CallForwardIndicator|CallingRoamInfo|CallingCellID|CalledRoamInfo|CalledCellID|TimeStampOfSSP|TimeZoneOfSSP|BearerCapability|ChargingTime  |WaitDuration|TerminationReason|CallReferenceNumber|IMEI|AccessPrefix|RoutingPrefix|RedirectingPartyID|MSCAddress|BrandID|MainOfferingID|ChargingPartyNumber|ChargePartyIndicator|PayType|ChargingType|CallType|RoamState|CallingHomeCountryCode|CallingHomeAreaNumber|CallingHomeNetworkCode|CallingRoamCountryCode|CallingRoamAreaNumber|CallingRoamNetworkCode|CalledHomeCountryCode|CalledHomeAreaNumber|CalledHomeNetworkCode|CalledRoamCountryCode|CalledRoamAreaNumber|CalledRoamNetworkCode|ServiceType|HotLineIndicator|HomeZoneID|SpecialZoneID|NPFlag|NPPrefix|CallingCUGNo|CalledCUGNo|OpposeNumberType|CallingNetworkType|CalledNetworkType|CallingVPNTopGroupNumber|CallingVPNGroupNumber|CallingVPNShortNumber|CalledVPNTopGroupNumber|CalledVPNGroupNumber|CalledVPNShortNumber|GroupCallType|OnlineChargingFlag|StartTimeOfBillCycle|LastEffectOffering|DTDiscount|OpposeMainOfferingID|MainBalanceInfo|ChgBalanceInfo|ChgFreeUnitInfo|UserState|GroupPayFlag|RoamingZoneID|PrimaryOfferChgAmt|OriginatingIOI|TerminatingIOI|IMSChargingIdentifier|TFTFlag|\n",
      "+------------------+----------+--------+----------------+------------------+---------------+----------+------------------+------+---------------+--------------+--------------+--------------+---------------------+-------------------+---------------+-------------------+--------+------------------+------------------+------------------+------------+-------------+----------------+------------------+--------------------------------------------------------------+-----------+-------------+-----+-------+-----+----------------+----------------+------------+----------+-----------------+-----------------+-------------+-----------+------------------+------------+---------------+------------------+--------------------------+-------------------+---------------------------+--------------------------+---------+-------------------------+----------------------------+------------------------+---------------------+---------------------+------------+------------+-----------+-----------+---------+---------+-----------------+--------------+-------------+-------------+-------------+-----------+---------+-----------------+--------------+-------------+-------------+-------------+-----------+---------+-----------------+--------------+-------------+-------------+-------------+-----------+---------+-----------------+--------------+-------------+-------------+-------------+-----------+---------+-----------------+--------------+-------------+-------------+-------------+-----------+---------+-----------------+--------------+-------------+-------------+-------------+-----------+---------+-----------------+--------------+-------------+-------------+-------------+-----------+---------+-----------------+--------------+-------------+-------------+-------------+-----------+---------+-----------------+--------------+-------------+-------------+-------------+-----------+-----------+---------+------------+--------------+----------+----------+-------------+------------+-------------+-----------+--------------+----------------+------------+------------+---------------+------------+-------------+-----------+--------------+----------------+------------+------------+---------------+------------+-------------+-----------+--------------+----------------+------------+------------+---------------+------------+-------------+-----------+--------------+----------------+------------+------------+---------------+------------+-------------+-----------+--------------+----------------+------------+------------+---------------+------------+-------------+-----------+--------------+----------------+------------+------------+---------------+------------+-------------+-----------+--------------+----------------+------------+------------+---------------+------------+-------------+-----------+--------------+----------------+------------+------------+---------------+------------+-------------+-----------+--------------+----------------+------------+------------+---------------+------------+----------+------------------+---------------+------------+---------------+--------------+------------+----------+------------------+---------------+--------------+-----------------+--------------+------------+----------+------------------+---------------+--------------+-----------------+--------------+------------+----------+------------------+---------------+--------------+-----------------+--------------+------------+----------+------------------+---------------+--------------+-----------------+--------------+------------+----------+------------------+---------------+--------------+-----------------+--------------+------------+----------+------------------+---------------+--------------+-----------------+--------------+------------+----------+------------------+---------------+--------------+-----------------+--------------+------------+----------+------------------+---------------+--------------+-----------------+--------------+------------+----------+------------------+---------------+--------------+-----------------+--------------+------------+--------------+------------+-----------------+---------------+---------------+--------------+----------------+------------+--------------+------------+-----------------+---------------+---------------+----------------+----------------+------------+--------------+------------+-----------------+---------------+---------------+----------------+----------------+------------+--------------+------------+-----------------+---------------+---------------+----------------+----------------+------------+--------------+------------+-----------------+---------------+---------------+----------------+----------------+------------+--------------+------------+-----------------+---------------+---------------+----------------+----------------+------------+--------------+------------+-----------------+---------------+---------------+----------------+----------------+------------+--------------+------------+-----------------+---------------+---------------+----------------+----------------+------------+--------------+------------+-----------------+---------------+---------------+----------------+----------------+------------+--------------+------------+-----------------+---------------+---------------+----------------+----------------+------------+------------------+-----------------+----------------+---------------+------------+-------------------+-----------+--------------------+---------------+-------------+--------------+------------+--------------+-------------+----------------+--------------+------------+-----------------+-------------------+----+------------+-------------+------------------+----------+-------+--------------+-------------------+--------------------+-------+------------+--------+---------+----------------------+---------------------+----------------------+----------------------+---------------------+----------------------+---------------------+--------------------+---------------------+---------------------+--------------------+---------------------+-----------+----------------+----------+-------------+------+--------+------------+-----------+----------------+------------------+-----------------+------------------------+---------------------+---------------------+-----------------------+--------------------+--------------------+-------------+------------------+--------------------+------------------+----------+--------------------+---------------+--------------+---------------+---------+------------+-------------+------------------+--------------+--------------+---------------------+-------+\n",
      "|184600000351493312|0         |N       |N               |186200000000170208|885            |0         |184600000351493312|A     |0              |20250101110054|20250101100952|20250101101202|20250101110952       |20250101111202     |11001          |C                  |S       |141049000008415808|141047000001384704|141048000008403904|34501105    |20250112     |1               |10                |00186200000000170255;00001735729254199124;00184600000004601487|0          |99           |101  |0      |14104|21300055673     |1003            |130         |180       |1                |0                |0            |0          |0                 |0           |0              |0                 |0                         |0                  |0                          |0                         |0        |0                        |0                           |0                       |NULL                 |NULL                 |NULL        |NULL        |NULL       |NULL       |NULL     |NULL     |NULL             |NULL          |NULL         |NULL         |NULL         |NULL       |NULL     |NULL             |NULL          |NULL         |NULL         |NULL         |NULL       |NULL     |NULL             |NULL          |NULL         |NULL         |NULL         |NULL       |NULL     |NULL             |NULL          |NULL         |NULL         |NULL         |NULL       |NULL     |NULL             |NULL          |NULL         |NULL         |NULL         |NULL       |NULL     |NULL             |NULL          |NULL         |NULL         |NULL         |NULL       |NULL     |NULL             |NULL          |NULL         |NULL         |NULL         |NULL       |NULL     |NULL             |NULL          |NULL         |NULL         |NULL         |NULL       |NULL     |NULL             |NULL          |NULL         |NULL         |NULL         |NULL       |NULL       |NULL     |NULL        |NULL          |NULL      |NULL      |NULL         |NULL        |NULL         |NULL       |NULL          |NULL            |NULL        |NULL        |NULL           |NULL        |NULL         |NULL       |NULL          |NULL            |NULL        |NULL        |NULL           |NULL        |NULL         |NULL       |NULL          |NULL            |NULL        |NULL        |NULL           |NULL        |NULL         |NULL       |NULL          |NULL            |NULL        |NULL        |NULL           |NULL        |NULL         |NULL       |NULL          |NULL            |NULL        |NULL        |NULL           |NULL        |NULL         |NULL       |NULL          |NULL            |NULL        |NULL        |NULL           |NULL        |NULL         |NULL       |NULL          |NULL            |NULL        |NULL        |NULL           |NULL        |NULL         |NULL       |NULL          |NULL            |NULL        |NULL        |NULL           |NULL        |NULL         |NULL       |NULL          |NULL            |NULL        |NULL        |NULL           |NULL        |NULL      |NULL              |NULL           |NULL        |NULL           |NULL          |NULL        |NULL      |NULL              |NULL           |NULL          |NULL             |NULL          |NULL        |NULL      |NULL              |NULL           |NULL          |NULL             |NULL          |NULL        |NULL      |NULL              |NULL           |NULL          |NULL             |NULL          |NULL        |NULL      |NULL              |NULL           |NULL          |NULL             |NULL          |NULL        |NULL      |NULL              |NULL           |NULL          |NULL             |NULL          |NULL        |NULL      |NULL              |NULL           |NULL          |NULL             |NULL          |NULL        |NULL      |NULL              |NULL           |NULL          |NULL             |NULL          |NULL        |NULL      |NULL              |NULL           |NULL          |NULL             |NULL          |NULL        |NULL      |NULL              |NULL           |NULL          |NULL             |NULL          |NULL        |NULL          |NULL        |NULL             |NULL           |NULL           |NULL          |NULL            |NULL        |NULL          |NULL        |NULL             |NULL           |NULL           |NULL            |NULL            |NULL        |NULL          |NULL        |NULL             |NULL           |NULL           |NULL            |NULL            |NULL        |NULL          |NULL        |NULL             |NULL           |NULL           |NULL            |NULL            |NULL        |NULL          |NULL        |NULL             |NULL           |NULL           |NULL            |NULL            |NULL        |NULL          |NULL        |NULL             |NULL           |NULL           |NULL            |NULL            |NULL        |NULL          |NULL        |NULL             |NULL           |NULL           |NULL            |NULL            |NULL        |NULL          |NULL        |NULL             |NULL           |NULL           |NULL            |NULL            |NULL        |NULL          |NULL        |NULL             |NULL           |NULL           |NULL            |NULL            |NULL        |NULL          |NULL        |NULL             |NULL           |NULL           |NULL            |NULL            |NULL        |21300055674       |21300055673      |NULL            |NULL           |21300055673 |NULL               |1          |0                   |NULL           |NULL         |NULL          |NULL        |20250101110952|0            |0               |20250101100952|0           |0                |NULL               |NULL|NULL        |NULL         |NULL              |NULL      |2      |10000003      |34501105           |N                   |1      |0           |0       |0        |213                   |159                  |518                   |213                   |159                  |518                   |213                  |159                 |518                  |213                  |159                 |518                  |NULL       |0               |0         |0            |0     |NULL    |0           |0          |0               |0                 |0                |NULL                    |NULL                 |NULL                 |NULL                   |NULL                |NULL                |0            |1                 |20241231230000      |11000000          |0         |10000003            |NULL           |NULL          |NULL           |100000   |0           |NULL         |0                 |NULL          |NULL          |NULL                 |0      |\n",
      "|184600000351493312|0         |N       |N               |186200000000170208|297            |0         |184600000351493312|A     |0              |20250101110054|20250101095539|20250101100230|20250101105539       |20250101110230     |11001          |C                  |S       |132169000005506000|132167000002156096|132168000004080800|33226172    |20250112     |1               |11                |00186200000000170255;00001735729254477897;00184600000004601488|0          |99           |101  |0      |13216|21300055675     |1003            |411         |420       |1                |0                |0            |0          |0                 |6300        |0              |0                 |0                         |6300               |0                          |6300                      |0        |0                        |0                           |0                       |1.321680000040808e+17|9.000000000001067e+18|3000.0      |9999960900.0|6300.0     |1044.0     |1.0      |NULL     |NULL             |NULL          |NULL         |NULL         |NULL         |NULL       |NULL     |NULL             |NULL          |NULL         |NULL         |NULL         |NULL       |NULL     |NULL             |NULL          |NULL         |NULL         |NULL         |NULL       |NULL     |NULL             |NULL          |NULL         |NULL         |NULL         |NULL       |NULL     |NULL             |NULL          |NULL         |NULL         |NULL         |NULL       |NULL     |NULL             |NULL          |NULL         |NULL         |NULL         |NULL       |NULL     |NULL             |NULL          |NULL         |NULL         |NULL         |NULL       |NULL     |NULL             |NULL          |NULL         |NULL         |NULL         |NULL       |NULL     |NULL             |NULL          |NULL         |NULL         |NULL         |NULL       |NULL       |NULL     |NULL        |NULL          |NULL      |NULL      |NULL         |NULL        |NULL         |NULL       |NULL          |NULL            |NULL        |NULL        |NULL           |NULL        |NULL         |NULL       |NULL          |NULL            |NULL        |NULL        |NULL           |NULL        |NULL         |NULL       |NULL          |NULL            |NULL        |NULL        |NULL           |NULL        |NULL         |NULL       |NULL          |NULL            |NULL        |NULL        |NULL           |NULL        |NULL         |NULL       |NULL          |NULL            |NULL        |NULL        |NULL           |NULL        |NULL         |NULL       |NULL          |NULL            |NULL        |NULL        |NULL           |NULL        |NULL         |NULL       |NULL          |NULL            |NULL        |NULL        |NULL           |NULL        |NULL         |NULL       |NULL          |NULL            |NULL        |NULL        |NULL           |NULL        |NULL         |NULL       |NULL          |NULL            |NULL        |NULL        |NULL           |NULL        |NULL      |NULL              |NULL           |NULL        |NULL           |NULL          |NULL        |NULL      |NULL              |NULL           |NULL          |NULL             |NULL          |NULL        |NULL      |NULL              |NULL           |NULL          |NULL             |NULL          |NULL        |NULL      |NULL              |NULL           |NULL          |NULL             |NULL          |NULL        |NULL      |NULL              |NULL           |NULL          |NULL             |NULL          |NULL        |NULL      |NULL              |NULL           |NULL          |NULL             |NULL          |NULL        |NULL      |NULL              |NULL           |NULL          |NULL             |NULL          |NULL        |NULL      |NULL              |NULL           |NULL          |NULL             |NULL          |NULL        |NULL      |NULL              |NULL           |NULL          |NULL             |NULL          |NULL        |NULL      |NULL              |NULL           |NULL          |NULL             |NULL          |NULL        |NULL          |NULL        |NULL             |NULL           |NULL           |NULL          |NULL            |NULL        |NULL          |NULL        |NULL             |NULL           |NULL           |NULL            |NULL            |NULL        |NULL          |NULL        |NULL             |NULL           |NULL           |NULL            |NULL            |NULL        |NULL          |NULL        |NULL             |NULL           |NULL           |NULL            |NULL            |NULL        |NULL          |NULL        |NULL             |NULL           |NULL           |NULL            |NULL            |NULL        |NULL          |NULL        |NULL             |NULL           |NULL           |NULL            |NULL            |NULL        |NULL          |NULL        |NULL             |NULL           |NULL           |NULL            |NULL            |NULL        |NULL          |NULL        |NULL             |NULL           |NULL           |NULL            |NULL            |NULL        |NULL          |NULL        |NULL             |NULL           |NULL           |NULL            |NULL            |NULL        |NULL          |NULL        |NULL             |NULL           |NULL           |NULL            |NULL            |NULL        |21300048286       |21300055675      |NULL            |NULL           |21300055675 |NULL               |1          |0                   |NULL           |NULL         |NULL          |NULL        |20250101105539|0            |0               |20250101095539|0           |0                |NULL               |NULL|NULL        |NULL         |NULL              |NULL      |2      |10000087      |33226172           |1                   |1      |0           |1       |0        |213                   |159                  |505                   |213                   |159                  |505                   |213                  |160                 |1                    |213                  |160                 |1                    |NULL       |0               |0         |0            |0     |NULL    |0           |0          |1               |0                 |1                |NULL                    |NULL                 |NULL                 |NULL                   |NULL                |NULL                |0            |1                 |20241231230000      |0                 |0         |0                   |NULL           |NULL          |NULL           |100000   |0           |NULL         |0                 |NULL          |NULL          |NULL                 |0      |\n",
      "|184600000351493312|0         |N       |N               |186200000000170208|1638           |0         |184600000351493312|A     |0              |20250101110054|20250101102227|20250101102347|20250101112227       |20250101112347     |11001          |C                  |S       |142969000008388096|142967000005637696|142968000005869408|31429138    |20250112     |1               |11                |00186200000000170255;00001735729254697805;00184600000004601489|0          |99           |101  |0      |14296|21300000053     |1003            |80          |80        |1                |0                |0            |0          |0                 |0           |0              |0                 |0                         |0                  |0                          |0                         |0        |0                        |0                           |0                       |NULL                 |NULL                 |NULL        |NULL        |NULL       |NULL       |NULL     |NULL     |NULL             |NULL          |NULL         |NULL         |NULL         |NULL       |NULL     |NULL             |NULL          |NULL         |NULL         |NULL         |NULL       |NULL     |NULL             |NULL          |NULL         |NULL         |NULL         |NULL       |NULL     |NULL             |NULL          |NULL         |NULL         |NULL         |NULL       |NULL     |NULL             |NULL          |NULL         |NULL         |NULL         |NULL       |NULL     |NULL             |NULL          |NULL         |NULL         |NULL         |NULL       |NULL     |NULL             |NULL          |NULL         |NULL         |NULL         |NULL       |NULL     |NULL             |NULL          |NULL         |NULL         |NULL         |NULL       |NULL     |NULL             |NULL          |NULL         |NULL         |NULL         |NULL       |NULL       |NULL     |NULL        |NULL          |NULL      |NULL      |NULL         |NULL        |NULL         |NULL       |NULL          |NULL            |NULL        |NULL        |NULL           |NULL        |NULL         |NULL       |NULL          |NULL            |NULL        |NULL        |NULL           |NULL        |NULL         |NULL       |NULL          |NULL            |NULL        |NULL        |NULL           |NULL        |NULL         |NULL       |NULL          |NULL            |NULL        |NULL        |NULL           |NULL        |NULL         |NULL       |NULL          |NULL            |NULL        |NULL        |NULL           |NULL        |NULL         |NULL       |NULL          |NULL            |NULL        |NULL        |NULL           |NULL        |NULL         |NULL       |NULL          |NULL            |NULL        |NULL        |NULL           |NULL        |NULL         |NULL       |NULL          |NULL            |NULL        |NULL        |NULL           |NULL        |NULL         |NULL       |NULL          |NULL            |NULL        |NULL        |NULL           |NULL        |NULL      |NULL              |NULL           |NULL        |NULL           |NULL          |NULL        |NULL      |NULL              |NULL           |NULL          |NULL             |NULL          |NULL        |NULL      |NULL              |NULL           |NULL          |NULL             |NULL          |NULL        |NULL      |NULL              |NULL           |NULL          |NULL             |NULL          |NULL        |NULL      |NULL              |NULL           |NULL          |NULL             |NULL          |NULL        |NULL      |NULL              |NULL           |NULL          |NULL             |NULL          |NULL        |NULL      |NULL              |NULL           |NULL          |NULL             |NULL          |NULL        |NULL      |NULL              |NULL           |NULL          |NULL             |NULL          |NULL        |NULL      |NULL              |NULL           |NULL          |NULL             |NULL          |NULL        |NULL      |NULL              |NULL           |NULL          |NULL             |NULL          |NULL        |NULL          |NULL        |NULL             |NULL           |NULL           |NULL          |NULL            |NULL        |NULL          |NULL        |NULL             |NULL           |NULL           |NULL            |NULL            |NULL        |NULL          |NULL        |NULL             |NULL           |NULL           |NULL            |NULL            |NULL        |NULL          |NULL        |NULL             |NULL           |NULL           |NULL            |NULL            |NULL        |NULL          |NULL        |NULL             |NULL           |NULL           |NULL            |NULL            |NULL        |NULL          |NULL        |NULL             |NULL           |NULL           |NULL            |NULL            |NULL        |NULL          |NULL        |NULL             |NULL           |NULL           |NULL            |NULL            |NULL        |NULL          |NULL        |NULL             |NULL           |NULL           |NULL            |NULL            |NULL        |NULL          |NULL        |NULL             |NULL           |NULL           |NULL            |NULL            |NULL        |NULL          |NULL        |NULL             |NULL           |NULL           |NULL            |NULL            |NULL        |21300055676       |21300000053      |NULL            |NULL           |21300000053 |NULL               |1          |0                   |NULL           |NULL         |NULL          |NULL        |20250101112227|0            |0               |20250101102227|0           |0                |NULL               |NULL|NULL        |NULL         |NULL              |NULL      |2      |10000060      |31429138           |N                   |1      |0           |1       |0        |213                   |159                  |543                   |213                   |159                  |543                   |213                  |118                 |5                    |213                  |118                 |5                    |NULL       |3               |0         |0            |0     |NULL    |0           |0          |1               |0                 |1                |NULL                    |NULL                 |NULL                 |NULL                   |NULL                |NULL                |0            |1                 |20241231230000      |0                 |0         |0                   |NULL           |NULL          |NULL           |100000   |0           |NULL         |0                 |NULL          |NULL          |NULL                 |0      |\n",
      "|184600000351493312|0         |N       |N               |186200000000170208|1890           |0         |184600000351493312|A     |0              |20250101110054|20250101102731|20250101102811|20250101112731       |20250101112811     |11001          |C                  |S       |139969000007288992|139967000002490592|139968000001820992|34474156    |20250112     |1               |10                |00186200000000170255;00001735729254708605;00184600000004601490|0          |99           |101  |0      |13996|21300055677     |1003            |40          |60        |1                |0                |0            |0          |0                 |0           |0              |0                 |0                         |0                  |0                          |0                         |0        |0                        |0                           |0                       |NULL                 |NULL                 |NULL        |NULL        |NULL       |NULL       |NULL     |NULL     |NULL             |NULL          |NULL         |NULL         |NULL         |NULL       |NULL     |NULL             |NULL          |NULL         |NULL         |NULL         |NULL       |NULL     |NULL             |NULL          |NULL         |NULL         |NULL         |NULL       |NULL     |NULL             |NULL          |NULL         |NULL         |NULL         |NULL       |NULL     |NULL             |NULL          |NULL         |NULL         |NULL         |NULL       |NULL     |NULL             |NULL          |NULL         |NULL         |NULL         |NULL       |NULL     |NULL             |NULL          |NULL         |NULL         |NULL         |NULL       |NULL     |NULL             |NULL          |NULL         |NULL         |NULL         |NULL       |NULL     |NULL             |NULL          |NULL         |NULL         |NULL         |NULL       |NULL       |NULL     |NULL        |NULL          |NULL      |NULL      |NULL         |NULL        |NULL         |NULL       |NULL          |NULL            |NULL        |NULL        |NULL           |NULL        |NULL         |NULL       |NULL          |NULL            |NULL        |NULL        |NULL           |NULL        |NULL         |NULL       |NULL          |NULL            |NULL        |NULL        |NULL           |NULL        |NULL         |NULL       |NULL          |NULL            |NULL        |NULL        |NULL           |NULL        |NULL         |NULL       |NULL          |NULL            |NULL        |NULL        |NULL           |NULL        |NULL         |NULL       |NULL          |NULL            |NULL        |NULL        |NULL           |NULL        |NULL         |NULL       |NULL          |NULL            |NULL        |NULL        |NULL           |NULL        |NULL         |NULL       |NULL          |NULL            |NULL        |NULL        |NULL           |NULL        |NULL         |NULL       |NULL          |NULL            |NULL        |NULL        |NULL           |NULL        |NULL      |NULL              |NULL           |NULL        |NULL           |NULL          |NULL        |NULL      |NULL              |NULL           |NULL          |NULL             |NULL          |NULL        |NULL      |NULL              |NULL           |NULL          |NULL             |NULL          |NULL        |NULL      |NULL              |NULL           |NULL          |NULL             |NULL          |NULL        |NULL      |NULL              |NULL           |NULL          |NULL             |NULL          |NULL        |NULL      |NULL              |NULL           |NULL          |NULL             |NULL          |NULL        |NULL      |NULL              |NULL           |NULL          |NULL             |NULL          |NULL        |NULL      |NULL              |NULL           |NULL          |NULL             |NULL          |NULL        |NULL      |NULL              |NULL           |NULL          |NULL             |NULL          |NULL        |NULL      |NULL              |NULL           |NULL          |NULL             |NULL          |NULL        |NULL          |NULL        |NULL             |NULL           |NULL           |NULL          |NULL            |NULL        |NULL          |NULL        |NULL             |NULL           |NULL           |NULL            |NULL            |NULL        |NULL          |NULL        |NULL             |NULL           |NULL           |NULL            |NULL            |NULL        |NULL          |NULL        |NULL             |NULL           |NULL           |NULL            |NULL            |NULL        |NULL          |NULL        |NULL             |NULL           |NULL           |NULL            |NULL            |NULL        |NULL          |NULL        |NULL             |NULL           |NULL           |NULL            |NULL            |NULL        |NULL          |NULL        |NULL             |NULL           |NULL           |NULL            |NULL            |NULL        |NULL          |NULL        |NULL             |NULL           |NULL           |NULL            |NULL            |NULL        |NULL          |NULL        |NULL             |NULL           |NULL           |NULL            |NULL            |NULL        |NULL          |NULL        |NULL             |NULL           |NULL           |NULL            |NULL            |NULL        |21300055678       |21300055677      |NULL            |NULL           |21300055677 |NULL               |1          |0                   |NULL           |NULL         |NULL          |NULL        |20250101112731|0            |0               |20250101102731|0           |0                |NULL               |NULL|NULL        |NULL         |NULL              |NULL      |2      |10000003      |34474156           |N                   |1      |0           |0       |0        |213                   |159                  |518                   |213                   |159                  |518                   |213                  |159                 |518                  |213                  |159                 |518                  |NULL       |0               |0         |0            |0     |NULL    |0           |0          |0               |0                 |0                |NULL                    |NULL                 |NULL                 |NULL                   |NULL                |NULL                |0            |1                 |20241231230000      |11000000          |0         |10000003            |NULL           |NULL          |NULL           |100000   |0           |NULL         |0                 |NULL          |NULL          |NULL                 |0      |\n",
      "|184600000351493312|0         |N       |N               |186200000000170208|1126           |0         |184600000351493312|A     |0              |20250101110054|20250101101232|20250101101553|20250101111232       |20250101111553     |11001          |C                  |S       |136849000003058896|136847000007870496|136848000006022704|34495932    |20250112     |1               |10                |00186200000000170255;00001735729254799291;00184600000004601491|0          |99           |101  |0      |13684|21300036195     |1003            |201         |240       |1                |0                |0            |0          |0                 |0           |0              |0                 |0                         |0                  |0                          |0                         |0        |0                        |0                           |0                       |NULL                 |NULL                 |NULL        |NULL        |NULL       |NULL       |NULL     |NULL     |NULL             |NULL          |NULL         |NULL         |NULL         |NULL       |NULL     |NULL             |NULL          |NULL         |NULL         |NULL         |NULL       |NULL     |NULL             |NULL          |NULL         |NULL         |NULL         |NULL       |NULL     |NULL             |NULL          |NULL         |NULL         |NULL         |NULL       |NULL     |NULL             |NULL          |NULL         |NULL         |NULL         |NULL       |NULL     |NULL             |NULL          |NULL         |NULL         |NULL         |NULL       |NULL     |NULL             |NULL          |NULL         |NULL         |NULL         |NULL       |NULL     |NULL             |NULL          |NULL         |NULL         |NULL         |NULL       |NULL     |NULL             |NULL          |NULL         |NULL         |NULL         |NULL       |NULL       |NULL     |NULL        |NULL          |NULL      |NULL      |NULL         |NULL        |NULL         |NULL       |NULL          |NULL            |NULL        |NULL        |NULL           |NULL        |NULL         |NULL       |NULL          |NULL            |NULL        |NULL        |NULL           |NULL        |NULL         |NULL       |NULL          |NULL            |NULL        |NULL        |NULL           |NULL        |NULL         |NULL       |NULL          |NULL            |NULL        |NULL        |NULL           |NULL        |NULL         |NULL       |NULL          |NULL            |NULL        |NULL        |NULL           |NULL        |NULL         |NULL       |NULL          |NULL            |NULL        |NULL        |NULL           |NULL        |NULL         |NULL       |NULL          |NULL            |NULL        |NULL        |NULL           |NULL        |NULL         |NULL       |NULL          |NULL            |NULL        |NULL        |NULL           |NULL        |NULL         |NULL       |NULL          |NULL            |NULL        |NULL        |NULL           |NULL        |NULL      |NULL              |NULL           |NULL        |NULL           |NULL          |NULL        |NULL      |NULL              |NULL           |NULL          |NULL             |NULL          |NULL        |NULL      |NULL              |NULL           |NULL          |NULL             |NULL          |NULL        |NULL      |NULL              |NULL           |NULL          |NULL             |NULL          |NULL        |NULL      |NULL              |NULL           |NULL          |NULL             |NULL          |NULL        |NULL      |NULL              |NULL           |NULL          |NULL             |NULL          |NULL        |NULL      |NULL              |NULL           |NULL          |NULL             |NULL          |NULL        |NULL      |NULL              |NULL           |NULL          |NULL             |NULL          |NULL        |NULL      |NULL              |NULL           |NULL          |NULL             |NULL          |NULL        |NULL      |NULL              |NULL           |NULL          |NULL             |NULL          |NULL        |NULL          |NULL        |NULL             |NULL           |NULL           |NULL          |NULL            |NULL        |NULL          |NULL        |NULL             |NULL           |NULL           |NULL            |NULL            |NULL        |NULL          |NULL        |NULL             |NULL           |NULL           |NULL            |NULL            |NULL        |NULL          |NULL        |NULL             |NULL           |NULL           |NULL            |NULL            |NULL        |NULL          |NULL        |NULL             |NULL           |NULL           |NULL            |NULL            |NULL        |NULL          |NULL        |NULL             |NULL           |NULL           |NULL            |NULL            |NULL        |NULL          |NULL        |NULL             |NULL           |NULL           |NULL            |NULL            |NULL        |NULL          |NULL        |NULL             |NULL           |NULL           |NULL            |NULL            |NULL        |NULL          |NULL        |NULL             |NULL           |NULL           |NULL            |NULL            |NULL        |NULL          |NULL        |NULL             |NULL           |NULL           |NULL            |NULL            |NULL        |21300055679       |21300036195      |NULL            |NULL           |21300036195 |NULL               |1          |0                   |NULL           |NULL         |NULL          |NULL        |20250101111232|0            |0               |20250101101232|0           |0                |NULL               |NULL|NULL        |NULL         |NULL              |NULL      |2      |10000003      |34495932           |N                   |1      |0           |0       |0        |213                   |159                  |518                   |213                   |159                  |518                   |213                  |159                 |518                  |213                  |159                 |518                  |NULL       |0               |0         |0            |0     |NULL    |0           |0          |0               |0                 |0                |NULL                    |NULL                 |NULL                 |NULL                   |NULL                |NULL                |0            |1                 |20241231230000      |11000000          |0         |326655494           |NULL           |NULL          |NULL           |100000   |0           |NULL         |0                 |NULL          |NULL          |NULL                 |0      |\n",
      "+------------------+----------+--------+----------------+------------------+---------------+----------+------------------+------+---------------+--------------+--------------+--------------+---------------------+-------------------+---------------+-------------------+--------+------------------+------------------+------------------+------------+-------------+----------------+------------------+--------------------------------------------------------------+-----------+-------------+-----+-------+-----+----------------+----------------+------------+----------+-----------------+-----------------+-------------+-----------+------------------+------------+---------------+------------------+--------------------------+-------------------+---------------------------+--------------------------+---------+-------------------------+----------------------------+------------------------+---------------------+---------------------+------------+------------+-----------+-----------+---------+---------+-----------------+--------------+-------------+-------------+-------------+-----------+---------+-----------------+--------------+-------------+-------------+-------------+-----------+---------+-----------------+--------------+-------------+-------------+-------------+-----------+---------+-----------------+--------------+-------------+-------------+-------------+-----------+---------+-----------------+--------------+-------------+-------------+-------------+-----------+---------+-----------------+--------------+-------------+-------------+-------------+-----------+---------+-----------------+--------------+-------------+-------------+-------------+-----------+---------+-----------------+--------------+-------------+-------------+-------------+-----------+---------+-----------------+--------------+-------------+-------------+-------------+-----------+-----------+---------+------------+--------------+----------+----------+-------------+------------+-------------+-----------+--------------+----------------+------------+------------+---------------+------------+-------------+-----------+--------------+----------------+------------+------------+---------------+------------+-------------+-----------+--------------+----------------+------------+------------+---------------+------------+-------------+-----------+--------------+----------------+------------+------------+---------------+------------+-------------+-----------+--------------+----------------+------------+------------+---------------+------------+-------------+-----------+--------------+----------------+------------+------------+---------------+------------+-------------+-----------+--------------+----------------+------------+------------+---------------+------------+-------------+-----------+--------------+----------------+------------+------------+---------------+------------+-------------+-----------+--------------+----------------+------------+------------+---------------+------------+----------+------------------+---------------+------------+---------------+--------------+------------+----------+------------------+---------------+--------------+-----------------+--------------+------------+----------+------------------+---------------+--------------+-----------------+--------------+------------+----------+------------------+---------------+--------------+-----------------+--------------+------------+----------+------------------+---------------+--------------+-----------------+--------------+------------+----------+------------------+---------------+--------------+-----------------+--------------+------------+----------+------------------+---------------+--------------+-----------------+--------------+------------+----------+------------------+---------------+--------------+-----------------+--------------+------------+----------+------------------+---------------+--------------+-----------------+--------------+------------+----------+------------------+---------------+--------------+-----------------+--------------+------------+--------------+------------+-----------------+---------------+---------------+--------------+----------------+------------+--------------+------------+-----------------+---------------+---------------+----------------+----------------+------------+--------------+------------+-----------------+---------------+---------------+----------------+----------------+------------+--------------+------------+-----------------+---------------+---------------+----------------+----------------+------------+--------------+------------+-----------------+---------------+---------------+----------------+----------------+------------+--------------+------------+-----------------+---------------+---------------+----------------+----------------+------------+--------------+------------+-----------------+---------------+---------------+----------------+----------------+------------+--------------+------------+-----------------+---------------+---------------+----------------+----------------+------------+--------------+------------+-----------------+---------------+---------------+----------------+----------------+------------+--------------+------------+-----------------+---------------+---------------+----------------+----------------+------------+------------------+-----------------+----------------+---------------+------------+-------------------+-----------+--------------------+---------------+-------------+--------------+------------+--------------+-------------+----------------+--------------+------------+-----------------+-------------------+----+------------+-------------+------------------+----------+-------+--------------+-------------------+--------------------+-------+------------+--------+---------+----------------------+---------------------+----------------------+----------------------+---------------------+----------------------+---------------------+--------------------+---------------------+---------------------+--------------------+---------------------+-----------+----------------+----------+-------------+------+--------+------------+-----------+----------------+------------------+-----------------+------------------------+---------------------+---------------------+-----------------------+--------------------+--------------------+-------------+------------------+--------------------+------------------+----------+--------------------+---------------+--------------+---------------+---------+------------+-------------+------------------+--------------+--------------+---------------------+-------+\n",
      "only showing top 5 rows\n",
      "\n"
     ]
    }
   ],
   "source": [
    "print(f\"Lignes : {df_raw.count():,}\")\n",
    "print(f\"Colonnes : {len(df_raw.columns)}\")\n",
    "df_raw.printSchema()\n",
    "df_raw.show(5, truncate=False)\n"
   ]
  },
  {
   "cell_type": "markdown",
   "id": "b7902248-7ad4-4ffc-9db6-d5cb626c242b",
   "metadata": {},
   "source": [
    "### 2.2. Statistiques descriptives\n",
    "Calcul des statistiques descriptives sur les principales colonnes numériques (utilisation, revenu, etc.) :"
   ]
  },
  {
   "cell_type": "code",
   "execution_count": 9,
   "id": "34b0322a-13dd-44a9-9fa0-8ec34b24f9b8",
   "metadata": {},
   "outputs": [
    {
     "name": "stderr",
     "output_type": "stream",
     "text": [
      "[Stage 10:========================>                                (7 + 8) / 16]\r"
     ]
    },
    {
     "name": "stdout",
     "output_type": "stream",
     "text": [
      "+-------+------------------+------------------+-----------------+---------------+---------+--------------------+\n",
      "|summary|      ACTUAL_USAGE|        RATE_USAGE|     DEBIT_AMOUNT|UN_DEBIT_AMOUNT|TOTAL_TAX|        ChargingTime|\n",
      "+-------+------------------+------------------+-----------------+---------------+---------+--------------------+\n",
      "|  count|             89911|             89911|            89911|          89911|    89911|               89911|\n",
      "|   mean|161.13353204835894|182.34904516688727|512.7482176819299|            0.0|      0.0|2.024939267698386...|\n",
      "| stddev| 349.9082680814868| 352.1888714094337|1845.069540734217|            0.0|      0.0| 2.404531702226336E9|\n",
      "|    min|               0.0|               0.0|              0.0|            0.0|      0.0|  2.0241231211909E13|\n",
      "|    max|            3604.0|            3660.0|          95899.0|            0.0|      0.0|  2.0250101133522E13|\n",
      "+-------+------------------+------------------+-----------------+---------------+---------+--------------------+\n",
      "\n"
     ]
    },
    {
     "name": "stderr",
     "output_type": "stream",
     "text": [
      "                                                                                \r"
     ]
    }
   ],
   "source": [
    "colonnes_numeriques = [\n",
    "    \"ACTUAL_USAGE\", \"RATE_USAGE\", \"DEBIT_AMOUNT\", \n",
    "    \"UN_DEBIT_AMOUNT\", \"TOTAL_TAX\", \"ChargingTime\"\n",
    "]\n",
    "df_raw.select([F.col(c).cast(\"double\") for c in colonnes_numeriques]).describe().show()\n"
   ]
  },
  {
   "cell_type": "markdown",
   "id": "db315d34-14cb-4461-88a4-e53b2bf1bed7",
   "metadata": {},
   "source": [
    "### On remplace les points par des underscores dans tous les noms de colonnes"
   ]
  },
  {
   "cell_type": "code",
   "execution_count": 12,
   "id": "137df1bf-eb22-4de7-bec1-8e29beb1f5c6",
   "metadata": {},
   "outputs": [],
   "source": [
    "df_raw = df_raw.toDF(*[c.replace('.', '_') for c in df_raw.columns])"
   ]
  },
  {
   "cell_type": "markdown",
   "id": "84a030b3-bca4-4f3d-8543-8d2def3bd8b1",
   "metadata": {},
   "source": [
    "### 2.3. Analyse des valeurs manquantes\n",
    "\n",
    "Certains noms de colonnes contiennent des points (`.`), ce qui peut générer des erreurs lors de l’utilisation de PySpark (car Spark interprète alors ces colonnes comme des structures ou des champs imbriqués).  \r\n",
    "Pour éviter tout problème, on remplace les points par des underscores sur toutes les colonnes du DataFrame :\r\n"
   ]
  },
  {
   "cell_type": "code",
   "execution_count": 13,
   "id": "e8e4b9b9-3244-43ce-a93d-06c8f42a572e",
   "metadata": {},
   "outputs": [
    {
     "name": "stderr",
     "output_type": "stream",
     "text": [
      "                                                                                \r"
     ]
    },
    {
     "data": {
      "text/html": [
       "<div>\n",
       "<style scoped>\n",
       "    .dataframe tbody tr th:only-of-type {\n",
       "        vertical-align: middle;\n",
       "    }\n",
       "\n",
       "    .dataframe tbody tr th {\n",
       "        vertical-align: top;\n",
       "    }\n",
       "\n",
       "    .dataframe thead th {\n",
       "        text-align: right;\n",
       "    }\n",
       "</style>\n",
       "<table border=\"1\" class=\"dataframe\">\n",
       "  <thead>\n",
       "    <tr style=\"text-align: right;\">\n",
       "      <th></th>\n",
       "      <th>Manquantes</th>\n",
       "      <th>%</th>\n",
       "    </tr>\n",
       "  </thead>\n",
       "  <tbody>\n",
       "    <tr>\n",
       "      <th>ACCT_BALANCE_ID_12</th>\n",
       "      <td>89911</td>\n",
       "      <td>100.000000</td>\n",
       "    </tr>\n",
       "    <tr>\n",
       "      <th>OPER_TYPE_27</th>\n",
       "      <td>89911</td>\n",
       "      <td>100.000000</td>\n",
       "    </tr>\n",
       "    <tr>\n",
       "      <th>OPER_TYPE_28</th>\n",
       "      <td>89911</td>\n",
       "      <td>100.000000</td>\n",
       "    </tr>\n",
       "    <tr>\n",
       "      <th>CURRENCY_ID_18</th>\n",
       "      <td>89911</td>\n",
       "      <td>100.000000</td>\n",
       "    </tr>\n",
       "    <tr>\n",
       "      <th>CURRENT_BALANCE_8</th>\n",
       "      <td>89911</td>\n",
       "      <td>100.000000</td>\n",
       "    </tr>\n",
       "    <tr>\n",
       "      <th>...</th>\n",
       "      <td>...</td>\n",
       "      <td>...</td>\n",
       "    </tr>\n",
       "    <tr>\n",
       "      <th>CHG_BALANCE</th>\n",
       "      <td>54749</td>\n",
       "      <td>60.892438</td>\n",
       "    </tr>\n",
       "    <tr>\n",
       "      <th>CUR_BALANCE</th>\n",
       "      <td>54749</td>\n",
       "      <td>60.892438</td>\n",
       "    </tr>\n",
       "    <tr>\n",
       "      <th>BALANCE_TYPE</th>\n",
       "      <td>54749</td>\n",
       "      <td>60.892438</td>\n",
       "    </tr>\n",
       "    <tr>\n",
       "      <th>TFTFlag</th>\n",
       "      <td>760</td>\n",
       "      <td>0.845280</td>\n",
       "    </tr>\n",
       "    <tr>\n",
       "      <th>DialedNumber</th>\n",
       "      <td>440</td>\n",
       "      <td>0.489373</td>\n",
       "    </tr>\n",
       "  </tbody>\n",
       "</table>\n",
       "<p>330 rows × 2 columns</p>\n",
       "</div>"
      ],
      "text/plain": [
       "                    Manquantes           %\n",
       "ACCT_BALANCE_ID_12       89911  100.000000\n",
       "OPER_TYPE_27             89911  100.000000\n",
       "OPER_TYPE_28             89911  100.000000\n",
       "CURRENCY_ID_18           89911  100.000000\n",
       "CURRENT_BALANCE_8        89911  100.000000\n",
       "...                        ...         ...\n",
       "CHG_BALANCE              54749   60.892438\n",
       "CUR_BALANCE              54749   60.892438\n",
       "BALANCE_TYPE             54749   60.892438\n",
       "TFTFlag                    760    0.845280\n",
       "DialedNumber               440    0.489373\n",
       "\n",
       "[330 rows x 2 columns]"
      ]
     },
     "execution_count": 13,
     "metadata": {},
     "output_type": "execute_result"
    }
   ],
   "source": [
    "from pyspark.sql.functions import col, sum as Fsum\n",
    "\n",
    "missing_counts = df_raw.select([\n",
    "    Fsum(col(c).isNull().cast(\"int\")).alias(c) for c in df_raw.columns\n",
    "]).toPandas().T\n",
    "missing_counts.columns = [\"Manquantes\"]\n",
    "missing_counts[\"%\"] = missing_counts[\"Manquantes\"] / df_raw.count() * 100\n",
    "missing_counts = missing_counts[missing_counts[\"Manquantes\"] > 0].sort_values(\"Manquantes\", ascending=False)\n",
    "missing_counts\n"
   ]
  },
  {
   "cell_type": "markdown",
   "id": "bd3d73c5-a9f4-441f-b0ea-63e17927d9f0",
   "metadata": {},
   "source": [
    "(Afficher éventuellement les 10 colonnes les plus concernées)"
   ]
  },
  {
   "cell_type": "markdown",
   "id": "38dde44b-cf2d-4378-a803-3ab64ab0a773",
   "metadata": {},
   "source": [
    "### 2.4. Valeurs uniques et répartition catégorielle"
   ]
  },
  {
   "cell_type": "code",
   "execution_count": 14,
   "id": "e282e11e-b70a-4193-9fea-784aef75b07e",
   "metadata": {},
   "outputs": [
    {
     "name": "stdout",
     "output_type": "stream",
     "text": [
      "\n",
      "Colonne : SERVICE_CATEGORY\n"
     ]
    },
    {
     "name": "stderr",
     "output_type": "stream",
     "text": [
      "                                                                                \r"
     ]
    },
    {
     "name": "stdout",
     "output_type": "stream",
     "text": [
      "+----------------+-----+\n",
      "|SERVICE_CATEGORY|count|\n",
      "+----------------+-----+\n",
      "|               1|89911|\n",
      "+----------------+-----+\n",
      "\n",
      "\n",
      "Colonne : USAGE_SERVICE_TYPE\n",
      "+------------------+-----+\n",
      "|USAGE_SERVICE_TYPE|count|\n",
      "+------------------+-----+\n",
      "|                11|54832|\n",
      "|                10|32941|\n",
      "|                13| 2138|\n",
      "+------------------+-----+\n",
      "\n",
      "\n",
      "Colonne : CallType\n",
      "+--------+-----+\n",
      "|CallType|count|\n",
      "+--------+-----+\n",
      "|       1|47743|\n",
      "|       0|40030|\n",
      "|       3| 2138|\n",
      "+--------+-----+\n",
      "\n",
      "\n",
      "Colonne : RoamState\n",
      "+---------+-----+\n",
      "|RoamState|count|\n",
      "+---------+-----+\n",
      "|        0|89911|\n",
      "+---------+-----+\n",
      "\n",
      "\n",
      "Colonne : BrandID\n",
      "+-------+-----+\n",
      "|BrandID|count|\n",
      "+-------+-----+\n",
      "|      2|70710|\n",
      "|      8|18379|\n",
      "|      3|  822|\n",
      "+-------+-----+\n",
      "\n"
     ]
    }
   ],
   "source": [
    "colonnes_categ = [\n",
    "    \"SERVICE_CATEGORY\", \"USAGE_SERVICE_TYPE\", \"CallType\", \"RoamState\", \"BrandID\"\n",
    "]\n",
    "for c in colonnes_categ:\n",
    "    print(f\"\\nColonne : {c}\")\n",
    "    df_raw.groupBy(c).count().orderBy('count', ascending=False).show(10)\n"
   ]
  },
  {
   "cell_type": "markdown",
   "id": "a3eb0267-bcc8-444a-b888-787b185b19a0",
   "metadata": {},
   "source": [
    "### 2.5. Couverture temporelle\n",
    "Distribution des enregistrements dans le temps pour vérifier la couverture attendue :"
   ]
  },
  {
   "cell_type": "code",
   "execution_count": 15,
   "id": "82c76add-9ee2-4fe2-befa-a0cccc0be327",
   "metadata": {},
   "outputs": [
    {
     "name": "stdout",
     "output_type": "stream",
     "text": [
      "+-----------+-----+\n",
      "|parsed_date|count|\n",
      "+-----------+-----+\n",
      "|2024-12-31 |7181 |\n",
      "|2025-01-01 |82730|\n",
      "+-----------+-----+\n",
      "\n"
     ]
    }
   ],
   "source": [
    "if \"START_DATE\" in df_raw.columns:\n",
    "    df_raw.withColumn(\n",
    "        \"parsed_date\", F.to_date(F.col(\"START_DATE\").substr(1, 8), \"yyyyMMdd\")\n",
    "    ).groupBy(\"parsed_date\").count().orderBy(\"parsed_date\").show(30, False)\n"
   ]
  },
  {
   "cell_type": "markdown",
   "id": "980b2241-4ff2-48af-b16f-1046aa48d19e",
   "metadata": {},
   "source": [
    "(On peut également visualiser la distribution horaire si besoin)"
   ]
  },
  {
   "cell_type": "markdown",
   "id": "212542bf-f047-444d-9b17-e8a6c3669385",
   "metadata": {},
   "source": [
    "### 2.6. Détection des valeurs extrêmes\n",
    "Analyse des distributions pour repérer les outliers :\n",
    "Exemple : ACTUAL_USAGE (durée des appels en secondes)"
   ]
  },
  {
   "cell_type": "code",
   "execution_count": 17,
   "id": "1317df70-3504-44c6-8720-fd8866f5ecfd",
   "metadata": {},
   "outputs": [
    {
     "name": "stdout",
     "output_type": "stream",
     "text": [
      "Tranches ACTUAL_USAGE : [0, 30, 60, 120, 300, 600, 1800, 3600]\n",
      "Effectifs : [27748, 21994, 18478, 10348, 5394, 5031, 876]\n"
     ]
    },
    {
     "name": "stderr",
     "output_type": "stream",
     "text": [
      "                                                                                \r"
     ]
    }
   ],
   "source": [
    "# cast AVANT d’utiliser histogram\n",
    "df_raw = df_raw.withColumn(\"ACTUAL_USAGE\", F.col(\"ACTUAL_USAGE\").cast(\"double\"))\n",
    "\n",
    "usage_hist = df_raw.select(\"ACTUAL_USAGE\").rdd.flatMap(lambda x: x).histogram([0, 30, 60, 120, 300, 600, 1800, 3600])\n",
    "print(\"Tranches ACTUAL_USAGE :\", usage_hist[0])\n",
    "print(\"Effectifs :\", usage_hist[1])\n"
   ]
  },
  {
   "cell_type": "code",
   "execution_count": 19,
   "id": "453896c1-eac5-43f4-afcd-d5b02f915614",
   "metadata": {},
   "outputs": [
    {
     "name": "stdout",
     "output_type": "stream",
     "text": [
      "root\n",
      " |-- CDR_ID: string (nullable = true)\n",
      " |-- CDR_SUB_ID: string (nullable = true)\n",
      " |-- CDR_TYPE: string (nullable = true)\n",
      " |-- SPLIT_CDR_REASON: string (nullable = true)\n",
      " |-- CDR_BATCH_ID: string (nullable = true)\n",
      " |-- SRC_REC_LINE_NO: string (nullable = true)\n",
      " |-- SRC_CDR_ID: string (nullable = true)\n",
      " |-- SRC_CDR_NO: string (nullable = true)\n",
      " |-- STATUS: string (nullable = true)\n",
      " |-- RE_RATING_TIMES: string (nullable = true)\n",
      " |-- CREATE_DATE: string (nullable = true)\n",
      " |-- START_DATE: string (nullable = true)\n",
      " |-- END_DATE: string (nullable = true)\n",
      " |-- CUST_LOCAL_START_DATE: string (nullable = true)\n",
      " |-- CUST_LOCAL_END_DATE: string (nullable = true)\n",
      " |-- STD_EVT_TYPE_ID: string (nullable = true)\n",
      " |-- EVT_SOURCE_CATEGORY: string (nullable = true)\n",
      " |-- OBJ_TYPE: string (nullable = true)\n",
      " |-- OBJ_ID: string (nullable = true)\n",
      " |-- OWNER_CUST_ID: string (nullable = true)\n",
      " |-- DEFAULT_ACCT_ID: string (nullable = true)\n",
      " |-- PRI_IDENTITY: string (nullable = true)\n",
      " |-- BILL_CYCLE_ID: string (nullable = true)\n",
      " |-- SERVICE_CATEGORY: string (nullable = true)\n",
      " |-- USAGE_SERVICE_TYPE: string (nullable = true)\n",
      " |-- SESSION_ID: string (nullable = true)\n",
      " |-- RESULT_CODE: string (nullable = true)\n",
      " |-- RESULT_REASON: string (nullable = true)\n",
      " |-- BE_ID: string (nullable = true)\n",
      " |-- HOT_SEQ: string (nullable = true)\n",
      " |-- CP_ID: string (nullable = true)\n",
      " |-- RECIPIENT_NUMBER: string (nullable = true)\n",
      " |-- USAGE_MEASURE_ID: string (nullable = true)\n",
      " |-- ACTUAL_USAGE: double (nullable = true)\n",
      " |-- RATE_USAGE: string (nullable = true)\n",
      " |-- SERVICE_UNIT_TYPE: string (nullable = true)\n",
      " |-- USAGE_MEASURE_ID2: string (nullable = true)\n",
      " |-- ACTUAL_USAGE2: string (nullable = true)\n",
      " |-- RATE_USAGE2: string (nullable = true)\n",
      " |-- SERVICE_UNIT_TYPE2: string (nullable = true)\n",
      " |-- DEBIT_AMOUNT: string (nullable = true)\n",
      " |-- UN_DEBIT_AMOUNT: string (nullable = true)\n",
      " |-- DEBIT_FROM_PREPAID: string (nullable = true)\n",
      " |-- DEBIT_FROM_ADVANCE_PREPAID: string (nullable = true)\n",
      " |-- DEBIT_FROM_POSTPAID: string (nullable = true)\n",
      " |-- DEBIT_FROM_ADVANCE_POSTPAID: string (nullable = true)\n",
      " |-- DEBIT_FROM_CREDIT_POSTPAID: string (nullable = true)\n",
      " |-- TOTAL_TAX: string (nullable = true)\n",
      " |-- FREE_UNIT_AMOUNT_OF_TIMES: string (nullable = true)\n",
      " |-- FREE_UNIT_AMOUNT_OF_DURATION: string (nullable = true)\n",
      " |-- FREE_UNIT_AMOUNT_OF_FLUX: string (nullable = true)\n",
      " |-- ACCT_ID: string (nullable = true)\n",
      " |-- ACCT_BALANCE_ID: string (nullable = true)\n",
      " |-- BALANCE_TYPE: string (nullable = true)\n",
      " |-- CUR_BALANCE: string (nullable = true)\n",
      " |-- CHG_BALANCE: string (nullable = true)\n",
      " |-- CURRENCY_ID: string (nullable = true)\n",
      " |-- OPER_TYPE: string (nullable = true)\n",
      " |-- ACCT_ID_1: string (nullable = true)\n",
      " |-- ACCT_BALANCE_ID_1: string (nullable = true)\n",
      " |-- BALANCE_TYPE_1: string (nullable = true)\n",
      " |-- CUR_BALANCE_1: string (nullable = true)\n",
      " |-- CHG_BALANCE_1: string (nullable = true)\n",
      " |-- CURRENCY_ID_1: string (nullable = true)\n",
      " |-- OPER_TYPE_1: string (nullable = true)\n",
      " |-- ACCT_ID_2: string (nullable = true)\n",
      " |-- ACCT_BALANCE_ID_2: string (nullable = true)\n",
      " |-- BALANCE_TYPE_2: string (nullable = true)\n",
      " |-- CUR_BALANCE_2: string (nullable = true)\n",
      " |-- CHG_BALANCE_2: string (nullable = true)\n",
      " |-- CURRENCY_ID_2: string (nullable = true)\n",
      " |-- OPER_TYPE_2: string (nullable = true)\n",
      " |-- ACCT_ID_3: string (nullable = true)\n",
      " |-- ACCT_BALANCE_ID_3: string (nullable = true)\n",
      " |-- BALANCE_TYPE_3: string (nullable = true)\n",
      " |-- CUR_BALANCE_3: string (nullable = true)\n",
      " |-- CHG_BALANCE_3: string (nullable = true)\n",
      " |-- CURRENCY_ID_3: string (nullable = true)\n",
      " |-- OPER_TYPE_3: string (nullable = true)\n",
      " |-- ACCT_ID_4: string (nullable = true)\n",
      " |-- ACCT_BALANCE_ID_4: string (nullable = true)\n",
      " |-- BALANCE_TYPE_4: string (nullable = true)\n",
      " |-- CUR_BALANCE_4: string (nullable = true)\n",
      " |-- CHG_BALANCE_4: string (nullable = true)\n",
      " |-- CURRENCY_ID_4: string (nullable = true)\n",
      " |-- OPER_TYPE_4: string (nullable = true)\n",
      " |-- ACCT_ID_5: string (nullable = true)\n",
      " |-- ACCT_BALANCE_ID_5: string (nullable = true)\n",
      " |-- BALANCE_TYPE_5: string (nullable = true)\n",
      " |-- CUR_BALANCE_5: string (nullable = true)\n",
      " |-- CHG_BALANCE_5: string (nullable = true)\n",
      " |-- CURRENCY_ID_5: string (nullable = true)\n",
      " |-- OPER_TYPE_5: string (nullable = true)\n",
      " |-- ACCT_ID_6: string (nullable = true)\n",
      " |-- ACCT_BALANCE_ID_6: string (nullable = true)\n",
      " |-- BALANCE_TYPE_6: string (nullable = true)\n",
      " |-- CUR_BALANCE_6: string (nullable = true)\n",
      " |-- CHG_BALANCE_6: string (nullable = true)\n",
      " |-- CURRENCY_ID_6: string (nullable = true)\n",
      " |-- OPER_TYPE_6: string (nullable = true)\n",
      " |-- ACCT_ID_7: string (nullable = true)\n",
      " |-- ACCT_BALANCE_ID_7: string (nullable = true)\n",
      " |-- BALANCE_TYPE_7: string (nullable = true)\n",
      " |-- CUR_BALANCE_7: string (nullable = true)\n",
      " |-- CHG_BALANCE_7: string (nullable = true)\n",
      " |-- CURRENCY_ID_7: string (nullable = true)\n",
      " |-- OPER_TYPE_7: string (nullable = true)\n",
      " |-- ACCT_ID_8: string (nullable = true)\n",
      " |-- ACCT_BALANCE_ID_8: string (nullable = true)\n",
      " |-- BALANCE_TYPE_8: string (nullable = true)\n",
      " |-- CUR_BALANCE_8: string (nullable = true)\n",
      " |-- CHG_BALANCE_8: string (nullable = true)\n",
      " |-- CURRENCY_ID_8: string (nullable = true)\n",
      " |-- OPER_TYPE_8: string (nullable = true)\n",
      " |-- ACCT_ID_9: string (nullable = true)\n",
      " |-- ACCT_BALANCE_ID_9: string (nullable = true)\n",
      " |-- BALANCE_TYPE_9: string (nullable = true)\n",
      " |-- CUR_BALANCE_9: string (nullable = true)\n",
      " |-- CHG_BALANCE_9: string (nullable = true)\n",
      " |-- CURRENCY_ID_9: string (nullable = true)\n",
      " |-- OPER_TYPE_9: string (nullable = true)\n",
      " |-- FU_OWN_TYPE: string (nullable = true)\n",
      " |-- FU_OWN_ID: string (nullable = true)\n",
      " |-- FREE_UNIT_ID: string (nullable = true)\n",
      " |-- FREE_UNIT_TYPE: string (nullable = true)\n",
      " |-- CUR_AMOUNT: string (nullable = true)\n",
      " |-- CHG_AMOUNT: string (nullable = true)\n",
      " |-- FU_MEASURE_ID: string (nullable = true)\n",
      " |-- OPER_TYPE_10: string (nullable = true)\n",
      " |-- FU_OWN_TYPE_1: string (nullable = true)\n",
      " |-- FU_OWN_ID_1: string (nullable = true)\n",
      " |-- FREE_UNIT_ID_1: string (nullable = true)\n",
      " |-- FREE_UNIT_TYPE_1: string (nullable = true)\n",
      " |-- CUR_AMOUNT_1: string (nullable = true)\n",
      " |-- CHG_AMOUNT_1: string (nullable = true)\n",
      " |-- FU_MEASURE_ID_1: string (nullable = true)\n",
      " |-- OPER_TYPE_11: string (nullable = true)\n",
      " |-- FU_OWN_TYPE_2: string (nullable = true)\n",
      " |-- FU_OWN_ID_2: string (nullable = true)\n",
      " |-- FREE_UNIT_ID_2: string (nullable = true)\n",
      " |-- FREE_UNIT_TYPE_2: string (nullable = true)\n",
      " |-- CUR_AMOUNT_2: string (nullable = true)\n",
      " |-- CHG_AMOUNT_2: string (nullable = true)\n",
      " |-- FU_MEASURE_ID_2: string (nullable = true)\n",
      " |-- OPER_TYPE_12: string (nullable = true)\n",
      " |-- FU_OWN_TYPE_3: string (nullable = true)\n",
      " |-- FU_OWN_ID_3: string (nullable = true)\n",
      " |-- FREE_UNIT_ID_3: string (nullable = true)\n",
      " |-- FREE_UNIT_TYPE_3: string (nullable = true)\n",
      " |-- CUR_AMOUNT_3: string (nullable = true)\n",
      " |-- CHG_AMOUNT_3: string (nullable = true)\n",
      " |-- FU_MEASURE_ID_3: string (nullable = true)\n",
      " |-- OPER_TYPE_13: string (nullable = true)\n",
      " |-- FU_OWN_TYPE_4: string (nullable = true)\n",
      " |-- FU_OWN_ID_4: string (nullable = true)\n",
      " |-- FREE_UNIT_ID_4: string (nullable = true)\n",
      " |-- FREE_UNIT_TYPE_4: string (nullable = true)\n",
      " |-- CUR_AMOUNT_4: string (nullable = true)\n",
      " |-- CHG_AMOUNT_4: string (nullable = true)\n",
      " |-- FU_MEASURE_ID_4: string (nullable = true)\n",
      " |-- OPER_TYPE_14: string (nullable = true)\n",
      " |-- FU_OWN_TYPE_5: string (nullable = true)\n",
      " |-- FU_OWN_ID_5: string (nullable = true)\n",
      " |-- FREE_UNIT_ID_5: string (nullable = true)\n",
      " |-- FREE_UNIT_TYPE_5: string (nullable = true)\n",
      " |-- CUR_AMOUNT_5: string (nullable = true)\n",
      " |-- CHG_AMOUNT_5: string (nullable = true)\n",
      " |-- FU_MEASURE_ID_5: string (nullable = true)\n",
      " |-- OPER_TYPE_15: string (nullable = true)\n",
      " |-- FU_OWN_TYPE_6: string (nullable = true)\n",
      " |-- FU_OWN_ID_6: string (nullable = true)\n",
      " |-- FREE_UNIT_ID_6: string (nullable = true)\n",
      " |-- FREE_UNIT_TYPE_6: string (nullable = true)\n",
      " |-- CUR_AMOUNT_6: string (nullable = true)\n",
      " |-- CHG_AMOUNT_6: string (nullable = true)\n",
      " |-- FU_MEASURE_ID_6: string (nullable = true)\n",
      " |-- OPER_TYPE_16: string (nullable = true)\n",
      " |-- FU_OWN_TYPE_7: string (nullable = true)\n",
      " |-- FU_OWN_ID_7: string (nullable = true)\n",
      " |-- FREE_UNIT_ID_7: string (nullable = true)\n",
      " |-- FREE_UNIT_TYPE_7: string (nullable = true)\n",
      " |-- CUR_AMOUNT_7: string (nullable = true)\n",
      " |-- CHG_AMOUNT_7: string (nullable = true)\n",
      " |-- FU_MEASURE_ID_7: string (nullable = true)\n",
      " |-- OPER_TYPE_17: string (nullable = true)\n",
      " |-- FU_OWN_TYPE_8: string (nullable = true)\n",
      " |-- FU_OWN_ID_8: string (nullable = true)\n",
      " |-- FREE_UNIT_ID_8: string (nullable = true)\n",
      " |-- FREE_UNIT_TYPE_8: string (nullable = true)\n",
      " |-- CUR_AMOUNT_8: string (nullable = true)\n",
      " |-- CHG_AMOUNT_8: string (nullable = true)\n",
      " |-- FU_MEASURE_ID_8: string (nullable = true)\n",
      " |-- OPER_TYPE_18: string (nullable = true)\n",
      " |-- FU_OWN_TYPE_9: string (nullable = true)\n",
      " |-- FU_OWN_ID_9: string (nullable = true)\n",
      " |-- FREE_UNIT_ID_9: string (nullable = true)\n",
      " |-- FREE_UNIT_TYPE_9: string (nullable = true)\n",
      " |-- CUR_AMOUNT_9: string (nullable = true)\n",
      " |-- CHG_AMOUNT_9: string (nullable = true)\n",
      " |-- FU_MEASURE_ID_9: string (nullable = true)\n",
      " |-- OPER_TYPE_19: string (nullable = true)\n",
      " |-- ACCT_ID_10: string (nullable = true)\n",
      " |-- ACCT_BALANCE_ID_10: string (nullable = true)\n",
      " |-- BALANCE_TYPE_10: string (nullable = true)\n",
      " |-- BONUS_AMOUNT: string (nullable = true)\n",
      " |-- CURRENT_BALANCE: string (nullable = true)\n",
      " |-- CURRENCY_ID_10: string (nullable = true)\n",
      " |-- OPER_TYPE_20: string (nullable = true)\n",
      " |-- ACCT_ID_11: string (nullable = true)\n",
      " |-- ACCT_BALANCE_ID_11: string (nullable = true)\n",
      " |-- BALANCE_TYPE_11: string (nullable = true)\n",
      " |-- BONUS_AMOUNT_1: string (nullable = true)\n",
      " |-- CURRENT_BALANCE_1: string (nullable = true)\n",
      " |-- CURRENCY_ID_11: string (nullable = true)\n",
      " |-- OPER_TYPE_21: string (nullable = true)\n",
      " |-- ACCT_ID_12: string (nullable = true)\n",
      " |-- ACCT_BALANCE_ID_12: string (nullable = true)\n",
      " |-- BALANCE_TYPE_12: string (nullable = true)\n",
      " |-- BONUS_AMOUNT_2: string (nullable = true)\n",
      " |-- CURRENT_BALANCE_2: string (nullable = true)\n",
      " |-- CURRENCY_ID_12: string (nullable = true)\n",
      " |-- OPER_TYPE_22: string (nullable = true)\n",
      " |-- ACCT_ID_13: string (nullable = true)\n",
      " |-- ACCT_BALANCE_ID_13: string (nullable = true)\n",
      " |-- BALANCE_TYPE_13: string (nullable = true)\n",
      " |-- BONUS_AMOUNT_3: string (nullable = true)\n",
      " |-- CURRENT_BALANCE_3: string (nullable = true)\n",
      " |-- CURRENCY_ID_13: string (nullable = true)\n",
      " |-- OPER_TYPE_23: string (nullable = true)\n",
      " |-- ACCT_ID_14: string (nullable = true)\n",
      " |-- ACCT_BALANCE_ID_14: string (nullable = true)\n",
      " |-- BALANCE_TYPE_14: string (nullable = true)\n",
      " |-- BONUS_AMOUNT_4: string (nullable = true)\n",
      " |-- CURRENT_BALANCE_4: string (nullable = true)\n",
      " |-- CURRENCY_ID_14: string (nullable = true)\n",
      " |-- OPER_TYPE_24: string (nullable = true)\n",
      " |-- ACCT_ID_15: string (nullable = true)\n",
      " |-- ACCT_BALANCE_ID_15: string (nullable = true)\n",
      " |-- BALANCE_TYPE_15: string (nullable = true)\n",
      " |-- BONUS_AMOUNT_5: string (nullable = true)\n",
      " |-- CURRENT_BALANCE_5: string (nullable = true)\n",
      " |-- CURRENCY_ID_15: string (nullable = true)\n",
      " |-- OPER_TYPE_25: string (nullable = true)\n",
      " |-- ACCT_ID_16: string (nullable = true)\n",
      " |-- ACCT_BALANCE_ID_16: string (nullable = true)\n",
      " |-- BALANCE_TYPE_16: string (nullable = true)\n",
      " |-- BONUS_AMOUNT_6: string (nullable = true)\n",
      " |-- CURRENT_BALANCE_6: string (nullable = true)\n",
      " |-- CURRENCY_ID_16: string (nullable = true)\n",
      " |-- OPER_TYPE_26: string (nullable = true)\n",
      " |-- ACCT_ID_17: string (nullable = true)\n",
      " |-- ACCT_BALANCE_ID_17: string (nullable = true)\n",
      " |-- BALANCE_TYPE_17: string (nullable = true)\n",
      " |-- BONUS_AMOUNT_7: string (nullable = true)\n",
      " |-- CURRENT_BALANCE_7: string (nullable = true)\n",
      " |-- CURRENCY_ID_17: string (nullable = true)\n",
      " |-- OPER_TYPE_27: string (nullable = true)\n",
      " |-- ACCT_ID_18: string (nullable = true)\n",
      " |-- ACCT_BALANCE_ID_18: string (nullable = true)\n",
      " |-- BALANCE_TYPE_18: string (nullable = true)\n",
      " |-- BONUS_AMOUNT_8: string (nullable = true)\n",
      " |-- CURRENT_BALANCE_8: string (nullable = true)\n",
      " |-- CURRENCY_ID_18: string (nullable = true)\n",
      " |-- OPER_TYPE_28: string (nullable = true)\n",
      " |-- ACCT_ID_19: string (nullable = true)\n",
      " |-- ACCT_BALANCE_ID_19: string (nullable = true)\n",
      " |-- BALANCE_TYPE_19: string (nullable = true)\n",
      " |-- BONUS_AMOUNT_9: string (nullable = true)\n",
      " |-- CURRENT_BALANCE_9: string (nullable = true)\n",
      " |-- CURRENCY_ID_19: string (nullable = true)\n",
      " |-- OPER_TYPE_29: string (nullable = true)\n",
      " |-- FU_OWN_TYPE_10: string (nullable = true)\n",
      " |-- FU_OWN_ID_10: string (nullable = true)\n",
      " |-- FREE_UNIT_TYPE_10: string (nullable = true)\n",
      " |-- FREE_UNIT_ID_10: string (nullable = true)\n",
      " |-- BONUS_AMOUNT_10: string (nullable = true)\n",
      " |-- CURRENT_AMOUNT: string (nullable = true)\n",
      " |-- FU_MEASURE_ID_10: string (nullable = true)\n",
      " |-- OPER_TYPE_30: string (nullable = true)\n",
      " |-- FU_OWN_TYPE_11: string (nullable = true)\n",
      " |-- FU_OWN_ID_11: string (nullable = true)\n",
      " |-- FREE_UNIT_TYPE_11: string (nullable = true)\n",
      " |-- FREE_UNIT_ID_11: string (nullable = true)\n",
      " |-- BONUS_AMOUNT_11: string (nullable = true)\n",
      " |-- CURRENT_AMOUNT_1: string (nullable = true)\n",
      " |-- FU_MEASURE_ID_11: string (nullable = true)\n",
      " |-- OPER_TYPE_31: string (nullable = true)\n",
      " |-- FU_OWN_TYPE_12: string (nullable = true)\n",
      " |-- FU_OWN_ID_12: string (nullable = true)\n",
      " |-- FREE_UNIT_TYPE_12: string (nullable = true)\n",
      " |-- FREE_UNIT_ID_12: string (nullable = true)\n",
      " |-- BONUS_AMOUNT_12: string (nullable = true)\n",
      " |-- CURRENT_AMOUNT_2: string (nullable = true)\n",
      " |-- FU_MEASURE_ID_12: string (nullable = true)\n",
      " |-- OPER_TYPE_32: string (nullable = true)\n",
      " |-- FU_OWN_TYPE_13: string (nullable = true)\n",
      " |-- FU_OWN_ID_13: string (nullable = true)\n",
      " |-- FREE_UNIT_TYPE_13: string (nullable = true)\n",
      " |-- FREE_UNIT_ID_13: string (nullable = true)\n",
      " |-- BONUS_AMOUNT_13: string (nullable = true)\n",
      " |-- CURRENT_AMOUNT_3: string (nullable = true)\n",
      " |-- FU_MEASURE_ID_13: string (nullable = true)\n",
      " |-- OPER_TYPE_33: string (nullable = true)\n",
      " |-- FU_OWN_TYPE_14: string (nullable = true)\n",
      " |-- FU_OWN_ID_14: string (nullable = true)\n",
      " |-- FREE_UNIT_TYPE_14: string (nullable = true)\n",
      " |-- FREE_UNIT_ID_14: string (nullable = true)\n",
      " |-- BONUS_AMOUNT_14: string (nullable = true)\n",
      " |-- CURRENT_AMOUNT_4: string (nullable = true)\n",
      " |-- FU_MEASURE_ID_14: string (nullable = true)\n",
      " |-- OPER_TYPE_34: string (nullable = true)\n",
      " |-- FU_OWN_TYPE_15: string (nullable = true)\n",
      " |-- FU_OWN_ID_15: string (nullable = true)\n",
      " |-- FREE_UNIT_TYPE_15: string (nullable = true)\n",
      " |-- FREE_UNIT_ID_15: string (nullable = true)\n",
      " |-- BONUS_AMOUNT_15: string (nullable = true)\n",
      " |-- CURRENT_AMOUNT_5: string (nullable = true)\n",
      " |-- FU_MEASURE_ID_15: string (nullable = true)\n",
      " |-- OPER_TYPE_35: string (nullable = true)\n",
      " |-- FU_OWN_TYPE_16: string (nullable = true)\n",
      " |-- FU_OWN_ID_16: string (nullable = true)\n",
      " |-- FREE_UNIT_TYPE_16: string (nullable = true)\n",
      " |-- FREE_UNIT_ID_16: string (nullable = true)\n",
      " |-- BONUS_AMOUNT_16: string (nullable = true)\n",
      " |-- CURRENT_AMOUNT_6: string (nullable = true)\n",
      " |-- FU_MEASURE_ID_16: string (nullable = true)\n",
      " |-- OPER_TYPE_36: string (nullable = true)\n",
      " |-- FU_OWN_TYPE_17: string (nullable = true)\n",
      " |-- FU_OWN_ID_17: string (nullable = true)\n",
      " |-- FREE_UNIT_TYPE_17: string (nullable = true)\n",
      " |-- FREE_UNIT_ID_17: string (nullable = true)\n",
      " |-- BONUS_AMOUNT_17: string (nullable = true)\n",
      " |-- CURRENT_AMOUNT_7: string (nullable = true)\n",
      " |-- FU_MEASURE_ID_17: string (nullable = true)\n",
      " |-- OPER_TYPE_37: string (nullable = true)\n",
      " |-- FU_OWN_TYPE_18: string (nullable = true)\n",
      " |-- FU_OWN_ID_18: string (nullable = true)\n",
      " |-- FREE_UNIT_TYPE_18: string (nullable = true)\n",
      " |-- FREE_UNIT_ID_18: string (nullable = true)\n",
      " |-- BONUS_AMOUNT_18: string (nullable = true)\n",
      " |-- CURRENT_AMOUNT_8: string (nullable = true)\n",
      " |-- FU_MEASURE_ID_18: string (nullable = true)\n",
      " |-- OPER_TYPE_38: string (nullable = true)\n",
      " |-- FU_OWN_TYPE_19: string (nullable = true)\n",
      " |-- FU_OWN_ID_19: string (nullable = true)\n",
      " |-- FREE_UNIT_TYPE_19: string (nullable = true)\n",
      " |-- FREE_UNIT_ID_19: string (nullable = true)\n",
      " |-- BONUS_AMOUNT_19: string (nullable = true)\n",
      " |-- CURRENT_AMOUNT_9: string (nullable = true)\n",
      " |-- FU_MEASURE_ID_19: string (nullable = true)\n",
      " |-- OPER_TYPE_39: string (nullable = true)\n",
      " |-- CallingPartyNumber: string (nullable = true)\n",
      " |-- CalledPartyNumber: string (nullable = true)\n",
      " |-- CallingPartyIMSI: string (nullable = true)\n",
      " |-- CalledPartyIMSI: string (nullable = true)\n",
      " |-- DialedNumber: string (nullable = true)\n",
      " |-- OriginalCalledParty: string (nullable = true)\n",
      " |-- ServiceFlow: string (nullable = true)\n",
      " |-- CallForwardIndicator: string (nullable = true)\n",
      " |-- CallingRoamInfo: string (nullable = true)\n",
      " |-- CallingCellID: string (nullable = true)\n",
      " |-- CalledRoamInfo: string (nullable = true)\n",
      " |-- CalledCellID: string (nullable = true)\n",
      " |-- TimeStampOfSSP: string (nullable = true)\n",
      " |-- TimeZoneOfSSP: string (nullable = true)\n",
      " |-- BearerCapability: string (nullable = true)\n",
      " |-- ChargingTime: string (nullable = true)\n",
      " |-- WaitDuration: string (nullable = true)\n",
      " |-- TerminationReason: string (nullable = true)\n",
      " |-- CallReferenceNumber: string (nullable = true)\n",
      " |-- IMEI: string (nullable = true)\n",
      " |-- AccessPrefix: string (nullable = true)\n",
      " |-- RoutingPrefix: string (nullable = true)\n",
      " |-- RedirectingPartyID: string (nullable = true)\n",
      " |-- MSCAddress: string (nullable = true)\n",
      " |-- BrandID: string (nullable = true)\n",
      " |-- MainOfferingID: string (nullable = true)\n",
      " |-- ChargingPartyNumber: string (nullable = true)\n",
      " |-- ChargePartyIndicator: string (nullable = true)\n",
      " |-- PayType: string (nullable = true)\n",
      " |-- ChargingType: string (nullable = true)\n",
      " |-- CallType: string (nullable = true)\n",
      " |-- RoamState: string (nullable = true)\n",
      " |-- CallingHomeCountryCode: string (nullable = true)\n",
      " |-- CallingHomeAreaNumber: string (nullable = true)\n",
      " |-- CallingHomeNetworkCode: string (nullable = true)\n",
      " |-- CallingRoamCountryCode: string (nullable = true)\n",
      " |-- CallingRoamAreaNumber: string (nullable = true)\n",
      " |-- CallingRoamNetworkCode: string (nullable = true)\n",
      " |-- CalledHomeCountryCode: string (nullable = true)\n",
      " |-- CalledHomeAreaNumber: string (nullable = true)\n",
      " |-- CalledHomeNetworkCode: string (nullable = true)\n",
      " |-- CalledRoamCountryCode: string (nullable = true)\n",
      " |-- CalledRoamAreaNumber: string (nullable = true)\n",
      " |-- CalledRoamNetworkCode: string (nullable = true)\n",
      " |-- ServiceType: string (nullable = true)\n",
      " |-- HotLineIndicator: string (nullable = true)\n",
      " |-- HomeZoneID: string (nullable = true)\n",
      " |-- SpecialZoneID: string (nullable = true)\n",
      " |-- NPFlag: string (nullable = true)\n",
      " |-- NPPrefix: string (nullable = true)\n",
      " |-- CallingCUGNo: string (nullable = true)\n",
      " |-- CalledCUGNo: string (nullable = true)\n",
      " |-- OpposeNumberType: string (nullable = true)\n",
      " |-- CallingNetworkType: string (nullable = true)\n",
      " |-- CalledNetworkType: string (nullable = true)\n",
      " |-- CallingVPNTopGroupNumber: string (nullable = true)\n",
      " |-- CallingVPNGroupNumber: string (nullable = true)\n",
      " |-- CallingVPNShortNumber: string (nullable = true)\n",
      " |-- CalledVPNTopGroupNumber: string (nullable = true)\n",
      " |-- CalledVPNGroupNumber: string (nullable = true)\n",
      " |-- CalledVPNShortNumber: string (nullable = true)\n",
      " |-- GroupCallType: string (nullable = true)\n",
      " |-- OnlineChargingFlag: string (nullable = true)\n",
      " |-- StartTimeOfBillCycle: string (nullable = true)\n",
      " |-- LastEffectOffering: string (nullable = true)\n",
      " |-- DTDiscount: string (nullable = true)\n",
      " |-- OpposeMainOfferingID: string (nullable = true)\n",
      " |-- MainBalanceInfo: string (nullable = true)\n",
      " |-- ChgBalanceInfo: string (nullable = true)\n",
      " |-- ChgFreeUnitInfo: string (nullable = true)\n",
      " |-- UserState: string (nullable = true)\n",
      " |-- GroupPayFlag: string (nullable = true)\n",
      " |-- RoamingZoneID: string (nullable = true)\n",
      " |-- PrimaryOfferChgAmt: string (nullable = true)\n",
      " |-- OriginatingIOI: string (nullable = true)\n",
      " |-- TerminatingIOI: string (nullable = true)\n",
      " |-- IMSChargingIdentifier: string (nullable = true)\n",
      " |-- TFTFlag: string (nullable = true)\n",
      "\n"
     ]
    }
   ],
   "source": [
    "df_raw.printSchema()\n"
   ]
  },
  {
   "cell_type": "markdown",
   "id": "58e1d008-c50d-436b-896d-03d852244e3d",
   "metadata": {},
   "source": [
    "### 2.7. Vérification des doublons\n",
    "Recherche de doublons sur les identifiants de CDR et sur l’ensemble de la ligne :"
   ]
  },
  {
   "cell_type": "code",
   "execution_count": 20,
   "id": "12712fda-151d-4400-b24f-291e11b0a00a",
   "metadata": {},
   "outputs": [
    {
     "name": "stdout",
     "output_type": "stream",
     "text": [
      "Doublons sur CDR_ID : 86371\n"
     ]
    },
    {
     "name": "stderr",
     "output_type": "stream",
     "text": [
      "[Stage 51:====================================================>   (15 + 1) / 16]\r"
     ]
    },
    {
     "name": "stdout",
     "output_type": "stream",
     "text": [
      "Doublons complets : 0\n"
     ]
    },
    {
     "name": "stderr",
     "output_type": "stream",
     "text": [
      "                                                                                \r"
     ]
    }
   ],
   "source": [
    "doublons_id = df_raw.count() - df_raw.dropDuplicates([\"CDR_ID\"]).count()\n",
    "print(f\"Doublons sur CDR_ID : {doublons_id}\")\n",
    "\n",
    "doublons_lignes = df_raw.count() - df_raw.dropDuplicates().count()\n",
    "print(f\"Doublons complets : {doublons_lignes}\")\n"
   ]
  },
  {
   "cell_type": "markdown",
   "id": "7c846b20-086d-4778-9d11-779d362406b6",
   "metadata": {},
   "source": [
    "### 2.8. Corrélations entre variables (optionnel/avancé)\n",
    "Calcul des corrélations entre variables numériques (sur un échantillon, pour performance) :"
   ]
  },
  {
   "cell_type": "code",
   "execution_count": 21,
   "id": "26f50e8e-85b5-4f50-84bf-6fb382d458e2",
   "metadata": {},
   "outputs": [
    {
     "name": "stdout",
     "output_type": "stream",
     "text": [
      "                 ACTUAL_USAGE  RATE_USAGE  DEBIT_AMOUNT  UN_DEBIT_AMOUNT  \\\n",
      "ACTUAL_USAGE         1.000000    0.998297      0.149358              NaN   \n",
      "RATE_USAGE           0.998297    1.000000      0.155050              NaN   \n",
      "DEBIT_AMOUNT         0.149358    0.155050      1.000000              NaN   \n",
      "UN_DEBIT_AMOUNT           NaN         NaN           NaN              NaN   \n",
      "TOTAL_TAX                 NaN         NaN           NaN              NaN   \n",
      "ChargingTime         0.064312    0.069741     -0.001013              NaN   \n",
      "\n",
      "                 TOTAL_TAX  ChargingTime  \n",
      "ACTUAL_USAGE           NaN      0.064312  \n",
      "RATE_USAGE             NaN      0.069741  \n",
      "DEBIT_AMOUNT           NaN     -0.001013  \n",
      "UN_DEBIT_AMOUNT        NaN           NaN  \n",
      "TOTAL_TAX              NaN           NaN  \n",
      "ChargingTime           NaN      1.000000  \n"
     ]
    }
   ],
   "source": [
    "echantillon = df_raw.select(colonnes_numeriques).sample(fraction=0.05).toPandas()\n",
    "print(echantillon.corr())\n"
   ]
  },
  {
   "cell_type": "markdown",
   "id": "c78029e7-2687-4434-9c58-bc05a43f207e",
   "metadata": {},
   "source": [
    "### 2.9 Visualisations avancées des données CDR\n",
    "\n",
    "Dans cette partie, nous présentons plusieurs visualisations permettant de mieux appréhender la structure et les caractéristiques du jeu de données CDR. Ces graphiques aident à détecter les tendances générales, à repérer d’éventuelles valeurs extrêmes ou anomalies, et à mieux comprendre la diversité des usages.\r\n"
   ]
  },
  {
   "cell_type": "markdown",
   "id": "051538f4-7ff1-4abc-a4de-488dd664d33e",
   "metadata": {},
   "source": [
    "#### 2.9.1. Histogramme de la durée des usages\r\n",
    "\r\n",
    "L’histogramme ci-dessous montre la distribution de la variable `ACTUAL_USAGE` sur un échantillon de 5% du dataset.  \r\n",
    "On constate que la majorité des événements sont de courte durée, avec quelques cas extrêmes (valeurs aberrantes possibles).\r\n",
    "\r\n",
    "*Figure : Distribution de la durée des usages (ACTUAL_USAGE) — Histogramme sur 5% des données*"
   ]
  },
  {
   "cell_type": "code",
   "execution_count": 23,
   "id": "943022aa-2936-462a-825d-689e9881fc25",
   "metadata": {},
   "outputs": [
    {
     "data": {
      "image/png": "[encoded data removed]",
      "text/plain": [
       "<Figure size 800x400 with 1 Axes>"
      ]
     },
     "metadata": {},
     "output_type": "display_data"
    }
   ],
   "source": [
    "import matplotlib.pyplot as plt\n",
    "\n",
    "plt.figure(figsize=(8,4))\n",
    "echantillon[\"ACTUAL_USAGE\"].hist(bins=40)\n",
    "plt.title(\"Distribution de la durée des usages (ACTUAL_USAGE)\")\n",
    "plt.xlabel(\"Durée (secondes)\")\n",
    "plt.ylabel(\"Nombre d’appels\")\n",
    "plt.show()\n"
   ]
  },
  {
   "cell_type": "markdown",
   "id": "caf2ddfc-fe57-4958-8bfb-64176de1a281",
   "metadata": {},
   "source": [
    "### 2.9.2. Boxplot des montants débités\n",
    "\n",
    "Le boxplot suivant représente la distribution des montants débités (`DEBIT_AMOUNT`) pour chaque événement CDR.  \n",
    "Cette visualisation est utile pour repérer rapidement la présence de valeurs extrêmes, la dispersion des valeurs et le niveau médian des transactions.\n"
   ]
  },
  {
   "cell_type": "code",
   "execution_count": 25,
   "id": "6a5d9e18-2343-43d3-bae5-c447cee22405",
   "metadata": {},
   "outputs": [
    {
     "data": {
      "image/png": "[encoded data removed]",
      "text/plain": [
       "<Figure size 800x400 with 1 Axes>"
      ]
     },
     "metadata": {},
     "output_type": "display_data"
    }
   ],
   "source": [
    "import seaborn as sns\n",
    "import matplotlib.pyplot as plt\n",
    "\n",
    "plt.figure(figsize=(8,4))\n",
    "sns.boxplot(x=echantillon[\"DEBIT_AMOUNT\"])\n",
    "plt.title(\"Distribution des montants débités (DEBIT_AMOUNT)\")\n",
    "plt.xlabel(\"Montant débité\")\n",
    "plt.show()\n"
   ]
  },
  {
   "cell_type": "markdown",
   "id": "dcf5ca56-21c2-40cf-a8de-dc1b671bd844",
   "metadata": {},
   "source": [
    "### 2.9.3. Heatmap du volume horaire d’appels par jour\n",
    "\n",
    "La heatmap ci-dessous synthétise le volume total d’appels (ou de sessions) pour chaque heure de chaque journée couverte par le jeu de données.  \n",
    "Cette représentation visuelle permet de :\n",
    "\n",
    "- Détecter les périodes de pic d’activité (ex. : événements, pannes, ou surcharge du réseau)\n",
    "- Repérer les creux (ex. : nuit, heures creuses)\n",
    "- Visualiser d’éventuels schémas saisonniers ou ponctuels"
   ]
  },
  {
   "cell_type": "code",
   "execution_count": 37,
   "id": "43f671ef-2073-4375-8e27-bd38a682adc4",
   "metadata": {},
   "outputs": [],
   "source": [
    "# We add: START_DATE to List \n",
    "colonnes_viz = colonnes_numeriques + [\"START_DATE\"]\n",
    "echantillon = df_raw.select(colonnes_viz).sample(fraction=0.05).toPandas()\n"
   ]
  },
  {
   "cell_type": "code",
   "execution_count": 38,
   "id": "0f23274a-e0bd-4604-937b-95d236cd12e0",
   "metadata": {},
   "outputs": [],
   "source": [
    "echantillon = echantillon[echantillon[\"START_DATE\"].notnull()]\n",
    "echantillon[\"CDR_DAY\"] = echantillon[\"START_DATE\"].str[:8]\n",
    "echantillon[\"HOUR\"] = echantillon[\"START_DATE\"].str[8:10].astype(int)\n"
   ]
  },
  {
   "cell_type": "code",
   "execution_count": 39,
   "id": "e076a5cc-0d1b-4a55-95ca-9a280c9ffb65",
   "metadata": {},
   "outputs": [],
   "source": [
    "agg = echantillon.groupby([\"CDR_DAY\", \"HOUR\"]).size().reset_index(name=\"total_calls\")\n"
   ]
  },
  {
   "cell_type": "code",
   "execution_count": 40,
   "id": "3822d06e-1c71-4922-939e-71085cf05f7a",
   "metadata": {
    "scrolled": true
   },
   "outputs": [
    {
     "data": {
      "application/vnd.plotly.v1+json": {
       "config": {
        "plotlyServerURL": "https://plot.ly"
       },
       "data": [
        {
         "coloraxis": "coloraxis",
         "histfunc": "sum",
         "hovertemplate": "HOUR=%{x}<br>CDR_DAY=%{y}<br>sum of total_calls=%{z}<extra></extra>",
         "name": "",
         "type": "histogram2d",
         "x": {
          "_inputArray": {
           "0": 22,
           "1": 23,
           "10": 8,
           "11": 9,
           "12": 10,
           "13": 11,
           "14": 12,
           "15": 13,
           "2": 0,
           "3": 1,
           "4": 2,
           "5": 3,
           "6": 4,
           "7": 5,
           "8": 6,
           "9": 7,
           "bdata": "FhcAAQIDBAUGBwgJCgsMDQ==",
           "dtype": "i1",
           "shape": "16"
          },
          "bdata": "FhcAAQIDBAUGBwgJCgsMDQ==",
          "dtype": "i1"
         },
         "xaxis": "x",
         "xbingroup": "x",
         "y": [
          "20241231",
          "20241231",
          "20250101",
          "20250101",
          "20250101",
          "20250101",
          "20250101",
          "20250101",
          "20250101",
          "20250101",
          "20250101",
          "20250101",
          "20250101",
          "20250101",
          "20250101",
          "20250101"
         ],
         "yaxis": "y",
         "ybingroup": "y",
         "z": {
          "_inputArray": {
           "0": 81,
           "1": 268,
           "10": 534,
           "11": 808,
           "12": 934,
           "13": 765,
           "14": 405,
           "15": 39,
           "2": 97,
           "3": 38,
           "4": 27,
           "5": 25,
           "6": 20,
           "7": 45,
           "8": 96,
           "9": 281,
           "bdata": "UQAMAWEAJgAbABkAFAAtAGAAGQEWAigDpgP9ApUBJwA=",
           "dtype": "i2",
           "shape": "16"
          },
          "bdata": "UQAMAWEAJgAbABkAFAAtAGAAGQEWAigDpgP9ApUBJwA=",
          "dtype": "i2"
         }
        }
       ],
       "layout": {
        "autosize": true,
        "coloraxis": {
         "colorbar": {
          "title": {
           "text": "sum of total_calls"
          }
         },
         "colorscale": [
          [
           0,
           "rgb(247,251,255)"
          ],
          [
           0.125,
           "rgb(222,235,247)"
          ],
          [
           0.25,
           "rgb(198,219,239)"
          ],
          [
           0.375,
           "rgb(158,202,225)"
          ],
          [
           0.5,
           "rgb(107,174,214)"
          ],
          [
           0.625,
           "rgb(66,146,198)"
          ],
          [
           0.75,
           "rgb(33,113,181)"
          ],
          [
           0.875,
           "rgb(8,81,156)"
          ],
          [
           1,
           "rgb(8,48,107)"
          ]
         ]
        },
        "legend": {
         "tracegroupgap": 0
        },
        "margin": {
         "t": 60
        },
        "template": {
         "data": {
          "bar": [
           {
            "error_x": {
             "color": "#2a3f5f"
            },
            "error_y": {
             "color": "#2a3f5f"
            },
            "marker": {
             "line": {
              "color": "#E5ECF6",
              "width": 0.5
             },
             "pattern": {
              "fillmode": "overlay",
              "size": 10,
              "solidity": 0.2
             }
            },
            "type": "bar"
           }
          ],
          "barpolar": [
           {
            "marker": {
             "line": {
              "color": "#E5ECF6",
              "width": 0.5
             },
             "pattern": {
              "fillmode": "overlay",
              "size": 10,
              "solidity": 0.2
             }
            },
            "type": "barpolar"
           }
          ],
          "carpet": [
           {
            "aaxis": {
             "endlinecolor": "#2a3f5f",
             "gridcolor": "white",
             "linecolor": "white",
             "minorgridcolor": "white",
             "startlinecolor": "#2a3f5f"
            },
            "baxis": {
             "endlinecolor": "#2a3f5f",
             "gridcolor": "white",
             "linecolor": "white",
             "minorgridcolor": "white",
             "startlinecolor": "#2a3f5f"
            },
            "type": "carpet"
           }
          ],
          "choropleth": [
           {
            "colorbar": {
             "outlinewidth": 0,
             "ticks": ""
            },
            "type": "choropleth"
           }
          ],
          "contour": [
           {
            "colorbar": {
             "outlinewidth": 0,
             "ticks": ""
            },
            "colorscale": [
             [
              0,
              "#0d0887"
             ],
             [
              0.1111111111111111,
              "#46039f"
             ],
             [
              0.2222222222222222,
              "#7201a8"
             ],
             [
              0.3333333333333333,
              "#9c179e"
             ],
             [
              0.4444444444444444,
              "#bd3786"
             ],
             [
              0.5555555555555556,
              "#d8576b"
             ],
             [
              0.6666666666666666,
              "#ed7953"
             ],
             [
              0.7777777777777778,
              "#fb9f3a"
             ],
             [
              0.8888888888888888,
              "#fdca26"
             ],
             [
              1,
              "#f0f921"
             ]
            ],
            "type": "contour"
           }
          ],
          "contourcarpet": [
           {
            "colorbar": {
             "outlinewidth": 0,
             "ticks": ""
            },
            "type": "contourcarpet"
           }
          ],
          "heatmap": [
           {
            "colorbar": {
             "outlinewidth": 0,
             "ticks": ""
            },
            "colorscale": [
             [
              0,
              "#0d0887"
             ],
             [
              0.1111111111111111,
              "#46039f"
             ],
             [
              0.2222222222222222,
              "#7201a8"
             ],
             [
              0.3333333333333333,
              "#9c179e"
             ],
             [
              0.4444444444444444,
              "#bd3786"
             ],
             [
              0.5555555555555556,
              "#d8576b"
             ],
             [
              0.6666666666666666,
              "#ed7953"
             ],
             [
              0.7777777777777778,
              "#fb9f3a"
             ],
             [
              0.8888888888888888,
              "#fdca26"
             ],
             [
              1,
              "#f0f921"
             ]
            ],
            "type": "heatmap"
           }
          ],
          "histogram": [
           {
            "marker": {
             "pattern": {
              "fillmode": "overlay",
              "size": 10,
              "solidity": 0.2
             }
            },
            "type": "histogram"
           }
          ],
          "histogram2d": [
           {
            "colorbar": {
             "outlinewidth": 0,
             "ticks": ""
            },
            "colorscale": [
             [
              0,
              "#0d0887"
             ],
             [
              0.1111111111111111,
              "#46039f"
             ],
             [
              0.2222222222222222,
              "#7201a8"
             ],
             [
              0.3333333333333333,
              "#9c179e"
             ],
             [
              0.4444444444444444,
              "#bd3786"
             ],
             [
              0.5555555555555556,
              "#d8576b"
             ],
             [
              0.6666666666666666,
              "#ed7953"
             ],
             [
              0.7777777777777778,
              "#fb9f3a"
             ],
             [
              0.8888888888888888,
              "#fdca26"
             ],
             [
              1,
              "#f0f921"
             ]
            ],
            "type": "histogram2d"
           }
          ],
          "histogram2dcontour": [
           {
            "colorbar": {
             "outlinewidth": 0,
             "ticks": ""
            },
            "colorscale": [
             [
              0,
              "#0d0887"
             ],
             [
              0.1111111111111111,
              "#46039f"
             ],
             [
              0.2222222222222222,
              "#7201a8"
             ],
             [
              0.3333333333333333,
              "#9c179e"
             ],
             [
              0.4444444444444444,
              "#bd3786"
             ],
             [
              0.5555555555555556,
              "#d8576b"
             ],
             [
              0.6666666666666666,
              "#ed7953"
             ],
             [
              0.7777777777777778,
              "#fb9f3a"
             ],
             [
              0.8888888888888888,
              "#fdca26"
             ],
             [
              1,
              "#f0f921"
             ]
            ],
            "type": "histogram2dcontour"
           }
          ],
          "mesh3d": [
           {
            "colorbar": {
             "outlinewidth": 0,
             "ticks": ""
            },
            "type": "mesh3d"
           }
          ],
          "parcoords": [
           {
            "line": {
             "colorbar": {
              "outlinewidth": 0,
              "ticks": ""
             }
            },
            "type": "parcoords"
           }
          ],
          "pie": [
           {
            "automargin": true,
            "type": "pie"
           }
          ],
          "scatter": [
           {
            "fillpattern": {
             "fillmode": "overlay",
             "size": 10,
             "solidity": 0.2
            },
            "type": "scatter"
           }
          ],
          "scatter3d": [
           {
            "line": {
             "colorbar": {
              "outlinewidth": 0,
              "ticks": ""
             }
            },
            "marker": {
             "colorbar": {
              "outlinewidth": 0,
              "ticks": ""
             }
            },
            "type": "scatter3d"
           }
          ],
          "scattercarpet": [
           {
            "marker": {
             "colorbar": {
              "outlinewidth": 0,
              "ticks": ""
             }
            },
            "type": "scattercarpet"
           }
          ],
          "scattergeo": [
           {
            "marker": {
             "colorbar": {
              "outlinewidth": 0,
              "ticks": ""
             }
            },
            "type": "scattergeo"
           }
          ],
          "scattergl": [
           {
            "marker": {
             "colorbar": {
              "outlinewidth": 0,
              "ticks": ""
             }
            },
            "type": "scattergl"
           }
          ],
          "scattermap": [
           {
            "marker": {
             "colorbar": {
              "outlinewidth": 0,
              "ticks": ""
             }
            },
            "type": "scattermap"
           }
          ],
          "scattermapbox": [
           {
            "marker": {
             "colorbar": {
              "outlinewidth": 0,
              "ticks": ""
             }
            },
            "type": "scattermapbox"
           }
          ],
          "scatterpolar": [
           {
            "marker": {
             "colorbar": {
              "outlinewidth": 0,
              "ticks": ""
             }
            },
            "type": "scatterpolar"
           }
          ],
          "scatterpolargl": [
           {
            "marker": {
             "colorbar": {
              "outlinewidth": 0,
              "ticks": ""
             }
            },
            "type": "scatterpolargl"
           }
          ],
          "scatterternary": [
           {
            "marker": {
             "colorbar": {
              "outlinewidth": 0,
              "ticks": ""
             }
            },
            "type": "scatterternary"
           }
          ],
          "surface": [
           {
            "colorbar": {
             "outlinewidth": 0,
             "ticks": ""
            },
            "colorscale": [
             [
              0,
              "#0d0887"
             ],
             [
              0.1111111111111111,
              "#46039f"
             ],
             [
              0.2222222222222222,
              "#7201a8"
             ],
             [
              0.3333333333333333,
              "#9c179e"
             ],
             [
              0.4444444444444444,
              "#bd3786"
             ],
             [
              0.5555555555555556,
              "#d8576b"
             ],
             [
              0.6666666666666666,
              "#ed7953"
             ],
             [
              0.7777777777777778,
              "#fb9f3a"
             ],
             [
              0.8888888888888888,
              "#fdca26"
             ],
             [
              1,
              "#f0f921"
             ]
            ],
            "type": "surface"
           }
          ],
          "table": [
           {
            "cells": {
             "fill": {
              "color": "#EBF0F8"
             },
             "line": {
              "color": "white"
             }
            },
            "header": {
             "fill": {
              "color": "#C8D4E3"
             },
             "line": {
              "color": "white"
             }
            },
            "type": "table"
           }
          ]
         },
         "layout": {
          "annotationdefaults": {
           "arrowcolor": "#2a3f5f",
           "arrowhead": 0,
           "arrowwidth": 1
          },
          "autotypenumbers": "strict",
          "coloraxis": {
           "colorbar": {
            "outlinewidth": 0,
            "ticks": ""
           }
          },
          "colorscale": {
           "diverging": [
            [
             0,
             "#8e0152"
            ],
            [
             0.1,
             "#c51b7d"
            ],
            [
             0.2,
             "#de77ae"
            ],
            [
             0.3,
             "#f1b6da"
            ],
            [
             0.4,
             "#fde0ef"
            ],
            [
             0.5,
             "#f7f7f7"
            ],
            [
             0.6,
             "#e6f5d0"
            ],
            [
             0.7,
             "#b8e186"
            ],
            [
             0.8,
             "#7fbc41"
            ],
            [
             0.9,
             "#4d9221"
            ],
            [
             1,
             "#276419"
            ]
           ],
           "sequential": [
            [
             0,
             "#0d0887"
            ],
            [
             0.1111111111111111,
             "#46039f"
            ],
            [
             0.2222222222222222,
             "#7201a8"
            ],
            [
             0.3333333333333333,
             "#9c179e"
            ],
            [
             0.4444444444444444,
             "#bd3786"
            ],
            [
             0.5555555555555556,
             "#d8576b"
            ],
            [
             0.6666666666666666,
             "#ed7953"
            ],
            [
             0.7777777777777778,
             "#fb9f3a"
            ],
            [
             0.8888888888888888,
             "#fdca26"
            ],
            [
             1,
             "#f0f921"
            ]
           ],
           "sequentialminus": [
            [
             0,
             "#0d0887"
            ],
            [
             0.1111111111111111,
             "#46039f"
            ],
            [
             0.2222222222222222,
             "#7201a8"
            ],
            [
             0.3333333333333333,
             "#9c179e"
            ],
            [
             0.4444444444444444,
             "#bd3786"
            ],
            [
             0.5555555555555556,
             "#d8576b"
            ],
            [
             0.6666666666666666,
             "#ed7953"
            ],
            [
             0.7777777777777778,
             "#fb9f3a"
            ],
            [
             0.8888888888888888,
             "#fdca26"
            ],
            [
             1,
             "#f0f921"
            ]
           ]
          },
          "colorway": [
           "#636efa",
           "#EF553B",
           "#00cc96",
           "#ab63fa",
           "#FFA15A",
           "#19d3f3",
           "#FF6692",
           "#B6E880",
           "#FF97FF",
           "#FECB52"
          ],
          "font": {
           "color": "#2a3f5f"
          },
          "geo": {
           "bgcolor": "white",
           "lakecolor": "white",
           "landcolor": "#E5ECF6",
           "showlakes": true,
           "showland": true,
           "subunitcolor": "white"
          },
          "hoverlabel": {
           "align": "left"
          },
          "hovermode": "closest",
          "mapbox": {
           "style": "light"
          },
          "paper_bgcolor": "white",
          "plot_bgcolor": "#E5ECF6",
          "polar": {
           "angularaxis": {
            "gridcolor": "white",
            "linecolor": "white",
            "ticks": ""
           },
           "bgcolor": "#E5ECF6",
           "radialaxis": {
            "gridcolor": "white",
            "linecolor": "white",
            "ticks": ""
           }
          },
          "scene": {
           "xaxis": {
            "backgroundcolor": "#E5ECF6",
            "gridcolor": "white",
            "gridwidth": 2,
            "linecolor": "white",
            "showbackground": true,
            "ticks": "",
            "zerolinecolor": "white"
           },
           "yaxis": {
            "backgroundcolor": "#E5ECF6",
            "gridcolor": "white",
            "gridwidth": 2,
            "linecolor": "white",
            "showbackground": true,
            "ticks": "",
            "zerolinecolor": "white"
           },
           "zaxis": {
            "backgroundcolor": "#E5ECF6",
            "gridcolor": "white",
            "gridwidth": 2,
            "linecolor": "white",
            "showbackground": true,
            "ticks": "",
            "zerolinecolor": "white"
           }
          },
          "shapedefaults": {
           "line": {
            "color": "#2a3f5f"
           }
          },
          "ternary": {
           "aaxis": {
            "gridcolor": "white",
            "linecolor": "white",
            "ticks": ""
           },
           "baxis": {
            "gridcolor": "white",
            "linecolor": "white",
            "ticks": ""
           },
           "bgcolor": "#E5ECF6",
           "caxis": {
            "gridcolor": "white",
            "linecolor": "white",
            "ticks": ""
           }
          },
          "title": {
           "x": 0.05
          },
          "xaxis": {
           "automargin": true,
           "gridcolor": "white",
           "linecolor": "white",
           "ticks": "",
           "title": {
            "standoff": 15
           },
           "zerolinecolor": "white",
           "zerolinewidth": 2
          },
          "yaxis": {
           "automargin": true,
           "gridcolor": "white",
           "linecolor": "white",
           "ticks": "",
           "title": {
            "standoff": 15
           },
           "zerolinecolor": "white",
           "zerolinewidth": 2
          }
         }
        },
        "title": {
         "text": "Volume horaire d’appels par jour"
        },
        "xaxis": {
         "anchor": "y",
         "autorange": true,
         "domain": [
          0,
          1
         ],
         "range": [
          -0.5,
          29.5
         ],
         "title": {
          "text": "Heure"
         },
         "type": "linear"
        },
        "yaxis": {
         "anchor": "x",
         "autorange": true,
         "domain": [
          0,
          1
         ],
         "range": [
          1.5,
          -0.5
         ],
         "title": {
          "text": "Jour"
         },
         "type": "category"
        }
       }
      },
      "image/png": "[encoded data removed]"
     },
     "metadata": {},
     "output_type": "display_data"
    }
   ],
   "source": [
    "        import plotly.express as px\n",
    "        \n",
    "        fig = px.density_heatmap(\n",
    "            agg, x=\"HOUR\", y=\"CDR_DAY\", z=\"total_calls\",\n",
    "            color_continuous_scale=\"Blues\"\n",
    "        )\n",
    "        fig.update_layout(\n",
    "            title=\"Volume horaire d’appels par jour\",\n",
    "            xaxis_title=\"Heure\", yaxis_title=\"Jour\"\n",
    "        )\n",
    "        fig.update_yaxes(autorange=\"reversed\")\n",
    "        fig.show()\n"
   ]
  },
  {
   "cell_type": "code",
   "execution_count": 45,
   "id": "47ab389d-e2b3-4562-88b8-c1efcc9405bf",
   "metadata": {},
   "outputs": [
    {
     "name": "stdout",
     "output_type": "stream",
     "text": [
      "+----------------+\n",
      "|SERVICE_CATEGORY|\n",
      "+----------------+\n",
      "|               1|\n",
      "+----------------+\n",
      "\n"
     ]
    },
    {
     "name": "stderr",
     "output_type": "stream",
     "text": [
      "                                                                                \r"
     ]
    }
   ],
   "source": [
    "df_raw.select(\"SERVICE_CATEGORY\").distinct().show()\n"
   ]
  },
  {
   "cell_type": "markdown",
   "id": "63200ec2-23bd-4d54-a100-22d6c6e6020f",
   "metadata": {},
   "source": [
    "### 2.9.4. Analyse complémentaire (optionnelle)\n",
    "\n",
    "D’autres visualisations peuvent être réalisées selon les besoins du métier, comme :\n",
    "\n",
    "- Distribution du type de service (`SERVICE_CATEGORY`)\n",
    "- Répartition géographique si la donnée est présente (cellules, MSC, etc.)\n",
    "- Taux de réussite/échec des appels par créneau horaire\n",
    "- Corrélation entre durée d’appel et montant débité\n",
    "\n",
    "Chaque visualisation apporte un éclairage différent et guide les décisions d’anonymisation, de nettoyage ou de modélisation pour la suite du pipeline.\n"
   ]
  },
  {
   "cell_type": "markdown",
   "id": "cb96e09f-3393-410e-8ccd-f569fdf19f53",
   "metadata": {},
   "source": [
    "### 2.9.4.1 Nuage de points : Relation entre durée d’usage et montant débité\n",
    "Ce graphique étudie la relation entre la durée d’utilisation (ACTUAL_USAGE) et le montant facturé (DEBIT_AMOUNT) sur un échantillon des CDR.\n",
    "Chaque point représente un événement individuel :\n",
    "\n",
    "- L’axe X correspond à la durée de l’appel ou de la session\n",
    "\n",
    "- L’axe Y correspond au montant débité associé"
   ]
  },
  {
   "cell_type": "code",
   "execution_count": 43,
   "id": "c7e6b7ba-dab3-4421-89eb-3aa0178279da",
   "metadata": {},
   "outputs": [
    {
     "data": {
      "image/png": "[encoded data removed]",
      "text/plain": [
       "<Figure size 800x500 with 1 Axes>"
      ]
     },
     "metadata": {},
     "output_type": "display_data"
    }
   ],
   "source": [
    "# 1. Sélection des colonnes utiles et extraction d’un échantillon\n",
    "colonnes_viz = [\n",
    "    \"ACTUAL_USAGE\", \"RATE_USAGE\", \"DEBIT_AMOUNT\", \n",
    "    \"UN_DEBIT_AMOUNT\", \"TOTAL_TAX\", \"ChargingTime\",\n",
    "    \"START_DATE\", \"SERVICE_CATEGORY\"\n",
    "]\n",
    "echantillon = df_raw.select(colonnes_viz).sample(fraction=0.05).toPandas()\n",
    "\n",
    "# 2. Nettoyage des types et filtrage des valeurs aberrantes\n",
    "import pandas as pd\n",
    "import numpy as np\n",
    "\n",
    "# Conversion en numérique, valeurs aberrantes supprimées\n",
    "echantillon[\"ACTUAL_USAGE\"] = pd.to_numeric(echantillon[\"ACTUAL_USAGE\"], errors=\"coerce\")\n",
    "echantillon[\"DEBIT_AMOUNT\"] = pd.to_numeric(echantillon[\"DEBIT_AMOUNT\"], errors=\"coerce\")\n",
    "echantillon = echantillon[\n",
    "    (echantillon[\"ACTUAL_USAGE\"] >= 0) & \n",
    "    (echantillon[\"DEBIT_AMOUNT\"] >= 0) & \n",
    "    (echantillon[\"DEBIT_AMOUNT\"] < 50000)  # Adapter ce seuil au métier\n",
    "].dropna(subset=[\"ACTUAL_USAGE\", \"DEBIT_AMOUNT\", \"SERVICE_CATEGORY\"])\n",
    "\n",
    "# 3. Scatterplot Durée d’usage vs Montant débité (log-scale)\n",
    "import matplotlib.pyplot as plt\n",
    "\n",
    "plt.figure(figsize=(8,5))\n",
    "plt.scatter(echantillon[\"ACTUAL_USAGE\"], echantillon[\"DEBIT_AMOUNT\"], alpha=0.3)\n",
    "plt.yscale(\"log\")  # Pour lisibilité si valeurs extrêmes\n",
    "plt.title(\"Relation entre durée d’usage et montant débité (échelle log)\")\n",
    "plt.xlabel(\"Durée de l’usage (secondes)\")\n",
    "plt.ylabel(\"Montant débité\")\n",
    "plt.grid(True)\n",
    "plt.show()"
   ]
  },
  {
   "cell_type": "markdown",
   "id": "712083e9-480f-4e96-8022-4c40c197d323",
   "metadata": {},
   "source": [
    "La visualisation montre une corrélation positive : les événements de longue durée sont généralement associés à des montants débités plus élevés.\n",
    "L’utilisation de l’échelle logarithmique facilite la lecture malgré la forte dispersion et la présence de quelques valeurs extrêmes (outliers)."
   ]
  },
  {
   "cell_type": "markdown",
   "id": "2676f186-3500-4e39-8b26-74c7643eec62",
   "metadata": {},
   "source": [
    "### 2.9.4.2 Répartition des événements par catégorie de service\n",
    "Ce graphique en barres permet de visualiser la répartition des CDR selon la catégorie de service (SERVICE_CATEGORY), mettant en avant les services majoritaires et minoritaires dans le dataset."
   ]
  },
  {
   "cell_type": "code",
   "execution_count": 44,
   "id": "6d92b05e-5768-4e5f-a307-e5e4a250cf67",
   "metadata": {},
   "outputs": [
    {
     "data": {
      "image/png": "[encoded data removed]",
      "text/plain": [
       "<Figure size 800x400 with 1 Axes>"
      ]
     },
     "metadata": {},
     "output_type": "display_data"
    }
   ],
   "source": [
    "# 4. Répartition par catégorie de service (SERVICE_CATEGORY)\n",
    "import seaborn as sns\n",
    "\n",
    "plt.figure(figsize=(8,4))\n",
    "sns.countplot(\n",
    "    y=echantillon[\"SERVICE_CATEGORY\"].astype(str),\n",
    "    order=echantillon[\"SERVICE_CATEGORY\"].astype(str).value_counts().index\n",
    ")\n",
    "plt.title(\"Répartition des CDR par catégorie de service\")\n",
    "plt.xlabel(\"Nombre d’événements\")\n",
    "plt.ylabel(\"Catégorie de service\")\n",
    "plt.tight_layout()\n",
    "plt.show()"
   ]
  },
  {
   "cell_type": "markdown",
   "id": "463b18aa-d1f7-4d44-af6b-1c1f6b236e94",
   "metadata": {},
   "source": [
    "L’échantillon analysé ici correspond à la journée du 01/01/2025 uniquement (la veille, 31/12/2024, n’étant que partiellement couverte). De plus, seule la catégorie “VOICE” est présente dans ce batch, ce qui limite l’analyse de la diversité des usages mais permet une étude approfondie du comportement des appels vocaux."
   ]
  },
  {
   "cell_type": "markdown",
   "id": "f02cc4a4-5b1b-4ad4-8651-9d0e3fc9ca13",
   "metadata": {},
   "source": [
    "### 2.10. Principaux enseignements de l’EDA\n",
    "Le dataset contient {X} lignes et {Y} colonnes couvrant {N} jours uniques.\n",
    "\n",
    "La majorité des enregistrements sont complets sur les champs analytiques clés.\n",
    "\n",
    "Les variables catégorielles montrent des répartitions cohérentes avec la réalité métier.\n",
    "\n",
    "Certaines colonnes présentent une forte cardinalité ou des valeurs manquantes (voir détails ci-dessus).\n",
    "\n",
    "Des outliers ont été détectés sur l’utilisation ou le revenu et seront traités lors du nettoyage.\n",
    "\n",
    "Aucun problème majeur de qualité n’a été détecté : les données sont exploitables pour la suite du pipeline."
   ]
  },
  {
   "cell_type": "markdown",
   "id": "578afb4d-77cc-46a6-a1f0-2cca470a48b6",
   "metadata": {},
   "source": [
    "**Conclusion :**  \n",
    "L’exploration visuelle des données est un préalable indispensable à toute démarche d’ingénierie ou de science des données. Elle permet d’objectiver la qualité et la richesse de l’information, d’anticiper les problématiques de nettoyage, et d’orienter efficacement les étapes de transformation ultérieures."
   ]
  },
  {
   "cell_type": "markdown",
   "id": "7f6f3ee9-4040-400c-bdef-cbba5fcb13a8",
   "metadata": {},
   "source": [
    "### 2. Verify Date Range BEFORE Anonymization"
   ]
  },
  {
   "cell_type": "code",
   "execution_count": 3,
   "id": "e9346d89-5c4a-4aa9-9edb-1912b5cb0b49",
   "metadata": {},
   "outputs": [
    {
     "name": "stderr",
     "output_type": "stream",
     "text": [
      "Setting default log level to \"WARN\".\n",
      "To adjust logging level use sc.setLogLevel(newLevel). For SparkR, use setLogLevel(newLevel).\n",
      "25/06/21 16:38:09 WARN NativeCodeLoader: Unable to load native-hadoop library for your platform... using builtin-java classes where applicable\n",
      "25/06/21 16:38:09 WARN Utils: Service 'SparkUI' could not bind on port 4040. Attempting port 4041.\n"
     ]
    },
    {
     "name": "stdout",
     "output_type": "stream",
     "text": [
      "✅ SparkSession initialized (App: CDR Anonymization - Complete Pipeline, Spark: 3.5.1)\n",
      "✅ Hive Warehouse: hdfs://namenode:9000/user/hive/warehouse\n",
      "✅ Hive Metastore URI: thrift://hive-metastore:9083\n",
      "✅ SparkSession initialized\n"
     ]
    },
    {
     "name": "stderr",
     "output_type": "stream",
     "text": [
      "25/06/21 16:38:26 WARN TaskSchedulerImpl: Initial job has not accepted any resources; check your cluster UI to ensure that workers are registered and have sufficient resources\n",
      "                                                                                \r"
     ]
    },
    {
     "name": "stdout",
     "output_type": "stream",
     "text": [
      "\n",
      "📊 RAW DATA STATISTICS:\n",
      "   Total rows loaded: 89,911\n",
      "   Total columns: 429\n",
      "\n",
      "   Available columns:\n",
      "     1. CDR_ID\n",
      "     2. CDR_SUB_ID\n",
      "     3. CDR_TYPE\n",
      "     4. SPLIT_CDR_REASON\n",
      "     5. CDR_BATCH_ID\n",
      "     6. SRC_REC_LINE_NO\n",
      "     7. SRC_CDR_ID\n",
      "     8. SRC_CDR_NO\n",
      "     9. STATUS\n",
      "    10. RE_RATING_TIMES\n",
      "    11. CREATE_DATE\n",
      "    12. START_DATE\n",
      "    13. END_DATE\n",
      "    14. CUST_LOCAL_START_DATE\n",
      "    15. CUST_LOCAL_END_DATE\n",
      "    16. STD_EVT_TYPE_ID\n",
      "    17. EVT_SOURCE_CATEGORY\n",
      "    18. OBJ_TYPE\n",
      "    19. OBJ_ID\n",
      "    20. OWNER_CUST_ID\n",
      "    21. DEFAULT_ACCT_ID\n",
      "    22. PRI_IDENTITY\n",
      "    23. BILL_CYCLE_ID\n",
      "    24. SERVICE_CATEGORY\n",
      "    25. USAGE_SERVICE_TYPE\n",
      "    26. SESSION_ID\n",
      "    27. RESULT_CODE\n",
      "    28. RESULT_REASON\n",
      "    29. BE_ID\n",
      "    30. HOT_SEQ\n",
      "    31. CP_ID\n",
      "    32. RECIPIENT_NUMBER\n",
      "    33. USAGE_MEASURE_ID\n",
      "    34. ACTUAL_USAGE\n",
      "    35. RATE_USAGE\n",
      "    36. SERVICE_UNIT_TYPE\n",
      "    37. USAGE_MEASURE_ID2\n",
      "    38. ACTUAL_USAGE2\n",
      "    39. RATE_USAGE2\n",
      "    40. SERVICE_UNIT_TYPE2\n",
      "    41. DEBIT_AMOUNT\n",
      "    42. UN_DEBIT_AMOUNT\n",
      "    43. DEBIT_FROM_PREPAID\n",
      "    44. DEBIT_FROM_ADVANCE_PREPAID\n",
      "    45. DEBIT_FROM_POSTPAID\n",
      "    46. DEBIT_FROM_ADVANCE_POSTPAID\n",
      "    47. DEBIT_FROM_CREDIT_POSTPAID\n",
      "    48. TOTAL_TAX\n",
      "    49. FREE_UNIT_AMOUNT_OF_TIMES\n",
      "    50. FREE_UNIT_AMOUNT_OF_DURATION\n",
      "    51. FREE_UNIT_AMOUNT_OF_FLUX\n",
      "    52. ACCT_ID\n",
      "    53. ACCT_BALANCE_ID\n",
      "    54. BALANCE_TYPE\n",
      "    55. CUR_BALANCE\n",
      "    56. CHG_BALANCE\n",
      "    57. CURRENCY_ID\n",
      "    58. OPER_TYPE\n",
      "    59. ACCT_ID.1\n",
      "    60. ACCT_BALANCE_ID.1\n",
      "    61. BALANCE_TYPE.1\n",
      "    62. CUR_BALANCE.1\n",
      "    63. CHG_BALANCE.1\n",
      "    64. CURRENCY_ID.1\n",
      "    65. OPER_TYPE.1\n",
      "    66. ACCT_ID.2\n",
      "    67. ACCT_BALANCE_ID.2\n",
      "    68. BALANCE_TYPE.2\n",
      "    69. CUR_BALANCE.2\n",
      "    70. CHG_BALANCE.2\n",
      "    71. CURRENCY_ID.2\n",
      "    72. OPER_TYPE.2\n",
      "    73. ACCT_ID.3\n",
      "    74. ACCT_BALANCE_ID.3\n",
      "    75. BALANCE_TYPE.3\n",
      "    76. CUR_BALANCE.3\n",
      "    77. CHG_BALANCE.3\n",
      "    78. CURRENCY_ID.3\n",
      "    79. OPER_TYPE.3\n",
      "    80. ACCT_ID.4\n",
      "    81. ACCT_BALANCE_ID.4\n",
      "    82. BALANCE_TYPE.4\n",
      "    83. CUR_BALANCE.4\n",
      "    84. CHG_BALANCE.4\n",
      "    85. CURRENCY_ID.4\n",
      "    86. OPER_TYPE.4\n",
      "    87. ACCT_ID.5\n",
      "    88. ACCT_BALANCE_ID.5\n",
      "    89. BALANCE_TYPE.5\n",
      "    90. CUR_BALANCE.5\n",
      "    91. CHG_BALANCE.5\n",
      "    92. CURRENCY_ID.5\n",
      "    93. OPER_TYPE.5\n",
      "    94. ACCT_ID.6\n",
      "    95. ACCT_BALANCE_ID.6\n",
      "    96. BALANCE_TYPE.6\n",
      "    97. CUR_BALANCE.6\n",
      "    98. CHG_BALANCE.6\n",
      "    99. CURRENCY_ID.6\n",
      "   100. OPER_TYPE.6\n",
      "   101. ACCT_ID.7\n",
      "   102. ACCT_BALANCE_ID.7\n",
      "   103. BALANCE_TYPE.7\n",
      "   104. CUR_BALANCE.7\n",
      "   105. CHG_BALANCE.7\n",
      "   106. CURRENCY_ID.7\n",
      "   107. OPER_TYPE.7\n",
      "   108. ACCT_ID.8\n",
      "   109. ACCT_BALANCE_ID.8\n",
      "   110. BALANCE_TYPE.8\n",
      "   111. CUR_BALANCE.8\n",
      "   112. CHG_BALANCE.8\n",
      "   113. CURRENCY_ID.8\n",
      "   114. OPER_TYPE.8\n",
      "   115. ACCT_ID.9\n",
      "   116. ACCT_BALANCE_ID.9\n",
      "   117. BALANCE_TYPE.9\n",
      "   118. CUR_BALANCE.9\n",
      "   119. CHG_BALANCE.9\n",
      "   120. CURRENCY_ID.9\n",
      "   121. OPER_TYPE.9\n",
      "   122. FU_OWN_TYPE\n",
      "   123. FU_OWN_ID\n",
      "   124. FREE_UNIT_ID\n",
      "   125. FREE_UNIT_TYPE\n",
      "   126. CUR_AMOUNT\n",
      "   127. CHG_AMOUNT\n",
      "   128. FU_MEASURE_ID\n",
      "   129. OPER_TYPE.10\n",
      "   130. FU_OWN_TYPE.1\n",
      "   131. FU_OWN_ID.1\n",
      "   132. FREE_UNIT_ID.1\n",
      "   133. FREE_UNIT_TYPE.1\n",
      "   134. CUR_AMOUNT.1\n",
      "   135. CHG_AMOUNT.1\n",
      "   136. FU_MEASURE_ID.1\n",
      "   137. OPER_TYPE.11\n",
      "   138. FU_OWN_TYPE.2\n",
      "   139. FU_OWN_ID.2\n",
      "   140. FREE_UNIT_ID.2\n",
      "   141. FREE_UNIT_TYPE.2\n",
      "   142. CUR_AMOUNT.2\n",
      "   143. CHG_AMOUNT.2\n",
      "   144. FU_MEASURE_ID.2\n",
      "   145. OPER_TYPE.12\n",
      "   146. FU_OWN_TYPE.3\n",
      "   147. FU_OWN_ID.3\n",
      "   148. FREE_UNIT_ID.3\n",
      "   149. FREE_UNIT_TYPE.3\n",
      "   150. CUR_AMOUNT.3\n",
      "   151. CHG_AMOUNT.3\n",
      "   152. FU_MEASURE_ID.3\n",
      "   153. OPER_TYPE.13\n",
      "   154. FU_OWN_TYPE.4\n",
      "   155. FU_OWN_ID.4\n",
      "   156. FREE_UNIT_ID.4\n",
      "   157. FREE_UNIT_TYPE.4\n",
      "   158. CUR_AMOUNT.4\n",
      "   159. CHG_AMOUNT.4\n",
      "   160. FU_MEASURE_ID.4\n",
      "   161. OPER_TYPE.14\n",
      "   162. FU_OWN_TYPE.5\n",
      "   163. FU_OWN_ID.5\n",
      "   164. FREE_UNIT_ID.5\n",
      "   165. FREE_UNIT_TYPE.5\n",
      "   166. CUR_AMOUNT.5\n",
      "   167. CHG_AMOUNT.5\n",
      "   168. FU_MEASURE_ID.5\n",
      "   169. OPER_TYPE.15\n",
      "   170. FU_OWN_TYPE.6\n",
      "   171. FU_OWN_ID.6\n",
      "   172. FREE_UNIT_ID.6\n",
      "   173. FREE_UNIT_TYPE.6\n",
      "   174. CUR_AMOUNT.6\n",
      "   175. CHG_AMOUNT.6\n",
      "   176. FU_MEASURE_ID.6\n",
      "   177. OPER_TYPE.16\n",
      "   178. FU_OWN_TYPE.7\n",
      "   179. FU_OWN_ID.7\n",
      "   180. FREE_UNIT_ID.7\n",
      "   181. FREE_UNIT_TYPE.7\n",
      "   182. CUR_AMOUNT.7\n",
      "   183. CHG_AMOUNT.7\n",
      "   184. FU_MEASURE_ID.7\n",
      "   185. OPER_TYPE.17\n",
      "   186. FU_OWN_TYPE.8\n",
      "   187. FU_OWN_ID.8\n",
      "   188. FREE_UNIT_ID.8\n",
      "   189. FREE_UNIT_TYPE.8\n",
      "   190. CUR_AMOUNT.8\n",
      "   191. CHG_AMOUNT.8\n",
      "   192. FU_MEASURE_ID.8\n",
      "   193. OPER_TYPE.18\n",
      "   194. FU_OWN_TYPE.9\n",
      "   195. FU_OWN_ID.9\n",
      "   196. FREE_UNIT_ID.9\n",
      "   197. FREE_UNIT_TYPE.9\n",
      "   198. CUR_AMOUNT.9\n",
      "   199. CHG_AMOUNT.9\n",
      "   200. FU_MEASURE_ID.9\n",
      "   201. OPER_TYPE.19\n",
      "   202. ACCT_ID.10\n",
      "   203. ACCT_BALANCE_ID.10\n",
      "   204. BALANCE_TYPE.10\n",
      "   205. BONUS_AMOUNT\n",
      "   206. CURRENT_BALANCE\n",
      "   207. CURRENCY_ID.10\n",
      "   208. OPER_TYPE.20\n",
      "   209. ACCT_ID.11\n",
      "   210. ACCT_BALANCE_ID.11\n",
      "   211. BALANCE_TYPE.11\n",
      "   212. BONUS_AMOUNT.1\n",
      "   213. CURRENT_BALANCE.1\n",
      "   214. CURRENCY_ID.11\n",
      "   215. OPER_TYPE.21\n",
      "   216. ACCT_ID.12\n",
      "   217. ACCT_BALANCE_ID.12\n",
      "   218. BALANCE_TYPE.12\n",
      "   219. BONUS_AMOUNT.2\n",
      "   220. CURRENT_BALANCE.2\n",
      "   221. CURRENCY_ID.12\n",
      "   222. OPER_TYPE.22\n",
      "   223. ACCT_ID.13\n",
      "   224. ACCT_BALANCE_ID.13\n",
      "   225. BALANCE_TYPE.13\n",
      "   226. BONUS_AMOUNT.3\n",
      "   227. CURRENT_BALANCE.3\n",
      "   228. CURRENCY_ID.13\n",
      "   229. OPER_TYPE.23\n",
      "   230. ACCT_ID.14\n",
      "   231. ACCT_BALANCE_ID.14\n",
      "   232. BALANCE_TYPE.14\n",
      "   233. BONUS_AMOUNT.4\n",
      "   234. CURRENT_BALANCE.4\n",
      "   235. CURRENCY_ID.14\n",
      "   236. OPER_TYPE.24\n",
      "   237. ACCT_ID.15\n",
      "   238. ACCT_BALANCE_ID.15\n",
      "   239. BALANCE_TYPE.15\n",
      "   240. BONUS_AMOUNT.5\n",
      "   241. CURRENT_BALANCE.5\n",
      "   242. CURRENCY_ID.15\n",
      "   243. OPER_TYPE.25\n",
      "   244. ACCT_ID.16\n",
      "   245. ACCT_BALANCE_ID.16\n",
      "   246. BALANCE_TYPE.16\n",
      "   247. BONUS_AMOUNT.6\n",
      "   248. CURRENT_BALANCE.6\n",
      "   249. CURRENCY_ID.16\n",
      "   250. OPER_TYPE.26\n",
      "   251. ACCT_ID.17\n",
      "   252. ACCT_BALANCE_ID.17\n",
      "   253. BALANCE_TYPE.17\n",
      "   254. BONUS_AMOUNT.7\n",
      "   255. CURRENT_BALANCE.7\n",
      "   256. CURRENCY_ID.17\n",
      "   257. OPER_TYPE.27\n",
      "   258. ACCT_ID.18\n",
      "   259. ACCT_BALANCE_ID.18\n",
      "   260. BALANCE_TYPE.18\n",
      "   261. BONUS_AMOUNT.8\n",
      "   262. CURRENT_BALANCE.8\n",
      "   263. CURRENCY_ID.18\n",
      "   264. OPER_TYPE.28\n",
      "   265. ACCT_ID.19\n",
      "   266. ACCT_BALANCE_ID.19\n",
      "   267. BALANCE_TYPE.19\n",
      "   268. BONUS_AMOUNT.9\n",
      "   269. CURRENT_BALANCE.9\n",
      "   270. CURRENCY_ID.19\n",
      "   271. OPER_TYPE.29\n",
      "   272. FU_OWN_TYPE.10\n",
      "   273. FU_OWN_ID.10\n",
      "   274. FREE_UNIT_TYPE.10\n",
      "   275. FREE_UNIT_ID.10\n",
      "   276. BONUS_AMOUNT.10\n",
      "   277. CURRENT_AMOUNT\n",
      "   278. FU_MEASURE_ID.10\n",
      "   279. OPER_TYPE.30\n",
      "   280. FU_OWN_TYPE.11\n",
      "   281. FU_OWN_ID.11\n",
      "   282. FREE_UNIT_TYPE.11\n",
      "   283. FREE_UNIT_ID.11\n",
      "   284. BONUS_AMOUNT.11\n",
      "   285. CURRENT_AMOUNT.1\n",
      "   286. FU_MEASURE_ID.11\n",
      "   287. OPER_TYPE.31\n",
      "   288. FU_OWN_TYPE.12\n",
      "   289. FU_OWN_ID.12\n",
      "   290. FREE_UNIT_TYPE.12\n",
      "   291. FREE_UNIT_ID.12\n",
      "   292. BONUS_AMOUNT.12\n",
      "   293. CURRENT_AMOUNT.2\n",
      "   294. FU_MEASURE_ID.12\n",
      "   295. OPER_TYPE.32\n",
      "   296. FU_OWN_TYPE.13\n",
      "   297. FU_OWN_ID.13\n",
      "   298. FREE_UNIT_TYPE.13\n",
      "   299. FREE_UNIT_ID.13\n",
      "   300. BONUS_AMOUNT.13\n",
      "   301. CURRENT_AMOUNT.3\n",
      "   302. FU_MEASURE_ID.13\n",
      "   303. OPER_TYPE.33\n",
      "   304. FU_OWN_TYPE.14\n",
      "   305. FU_OWN_ID.14\n",
      "   306. FREE_UNIT_TYPE.14\n",
      "   307. FREE_UNIT_ID.14\n",
      "   308. BONUS_AMOUNT.14\n",
      "   309. CURRENT_AMOUNT.4\n",
      "   310. FU_MEASURE_ID.14\n",
      "   311. OPER_TYPE.34\n",
      "   312. FU_OWN_TYPE.15\n",
      "   313. FU_OWN_ID.15\n",
      "   314. FREE_UNIT_TYPE.15\n",
      "   315. FREE_UNIT_ID.15\n",
      "   316. BONUS_AMOUNT.15\n",
      "   317. CURRENT_AMOUNT.5\n",
      "   318. FU_MEASURE_ID.15\n",
      "   319. OPER_TYPE.35\n",
      "   320. FU_OWN_TYPE.16\n",
      "   321. FU_OWN_ID.16\n",
      "   322. FREE_UNIT_TYPE.16\n",
      "   323. FREE_UNIT_ID.16\n",
      "   324. BONUS_AMOUNT.16\n",
      "   325. CURRENT_AMOUNT.6\n",
      "   326. FU_MEASURE_ID.16\n",
      "   327. OPER_TYPE.36\n",
      "   328. FU_OWN_TYPE.17\n",
      "   329. FU_OWN_ID.17\n",
      "   330. FREE_UNIT_TYPE.17\n",
      "   331. FREE_UNIT_ID.17\n",
      "   332. BONUS_AMOUNT.17\n",
      "   333. CURRENT_AMOUNT.7\n",
      "   334. FU_MEASURE_ID.17\n",
      "   335. OPER_TYPE.37\n",
      "   336. FU_OWN_TYPE.18\n",
      "   337. FU_OWN_ID.18\n",
      "   338. FREE_UNIT_TYPE.18\n",
      "   339. FREE_UNIT_ID.18\n",
      "   340. BONUS_AMOUNT.18\n",
      "   341. CURRENT_AMOUNT.8\n",
      "   342. FU_MEASURE_ID.18\n",
      "   343. OPER_TYPE.38\n",
      "   344. FU_OWN_TYPE.19\n",
      "   345. FU_OWN_ID.19\n",
      "   346. FREE_UNIT_TYPE.19\n",
      "   347. FREE_UNIT_ID.19\n",
      "   348. BONUS_AMOUNT.19\n",
      "   349. CURRENT_AMOUNT.9\n",
      "   350. FU_MEASURE_ID.19\n",
      "   351. OPER_TYPE.39\n",
      "   352. CallingPartyNumber\n",
      "   353. CalledPartyNumber\n",
      "   354. CallingPartyIMSI\n",
      "   355. CalledPartyIMSI\n",
      "   356. DialedNumber\n",
      "   357. OriginalCalledParty\n",
      "   358. ServiceFlow\n",
      "   359. CallForwardIndicator\n",
      "   360. CallingRoamInfo\n",
      "   361. CallingCellID\n",
      "   362. CalledRoamInfo\n",
      "   363. CalledCellID\n",
      "   364. TimeStampOfSSP\n",
      "   365. TimeZoneOfSSP\n",
      "   366. BearerCapability\n",
      "   367. ChargingTime\n",
      "   368. WaitDuration\n",
      "   369. TerminationReason\n",
      "   370. CallReferenceNumber\n",
      "   371. IMEI\n",
      "   372. AccessPrefix\n",
      "   373. RoutingPrefix\n",
      "   374. RedirectingPartyID\n",
      "   375. MSCAddress\n",
      "   376. BrandID\n",
      "   377. MainOfferingID\n",
      "   378. ChargingPartyNumber\n",
      "   379. ChargePartyIndicator\n",
      "   380. PayType\n",
      "   381. ChargingType\n",
      "   382. CallType\n",
      "   383. RoamState\n",
      "   384. CallingHomeCountryCode\n",
      "   385. CallingHomeAreaNumber\n",
      "   386. CallingHomeNetworkCode\n",
      "   387. CallingRoamCountryCode\n",
      "   388. CallingRoamAreaNumber\n",
      "   389. CallingRoamNetworkCode\n",
      "   390. CalledHomeCountryCode\n",
      "   391. CalledHomeAreaNumber\n",
      "   392. CalledHomeNetworkCode\n",
      "   393. CalledRoamCountryCode\n",
      "   394. CalledRoamAreaNumber\n",
      "   395. CalledRoamNetworkCode\n",
      "   396. ServiceType\n",
      "   397. HotLineIndicator\n",
      "   398. HomeZoneID\n",
      "   399. SpecialZoneID\n",
      "   400. NPFlag\n",
      "   401. NPPrefix\n",
      "   402. CallingCUGNo\n",
      "   403. CalledCUGNo\n",
      "   404. OpposeNumberType\n",
      "   405. CallingNetworkType\n",
      "   406. CalledNetworkType\n",
      "   407. CallingVPNTopGroupNumber\n",
      "   408. CallingVPNGroupNumber\n",
      "   409. CallingVPNShortNumber\n",
      "   410. CalledVPNTopGroupNumber\n",
      "   411. CalledVPNGroupNumber\n",
      "   412. CalledVPNShortNumber\n",
      "   413. GroupCallType\n",
      "   414. OnlineChargingFlag\n",
      "   415. StartTimeOfBillCycle\n",
      "   416. LastEffectOffering\n",
      "   417. DTDiscount\n",
      "   418. OpposeMainOfferingID\n",
      "   419. MainBalanceInfo\n",
      "   420. ChgBalanceInfo\n",
      "   421. ChgFreeUnitInfo\n",
      "   422. UserState\n",
      "   423. GroupPayFlag\n",
      "   424. RoamingZoneID\n",
      "   425. PrimaryOfferChgAmt\n",
      "   426. OriginatingIOI\n",
      "   427. TerminatingIOI\n",
      "   428. IMSChargingIdentifier\n",
      "   429. TFTFlag\n",
      "\n",
      "🗓️  VERIFYING DATE RANGE IN RAW DATA:\n",
      "\n",
      "Sample START_DATE values:\n"
     ]
    },
    {
     "name": "stderr",
     "output_type": "stream",
     "text": [
      "                                                                                \r"
     ]
    },
    {
     "name": "stdout",
     "output_type": "stream",
     "text": [
      "+--------------+\n",
      "|START_DATE    |\n",
      "+--------------+\n",
      "|20241231211909|\n",
      "|20241231212031|\n",
      "|20241231212142|\n",
      "|20241231212243|\n",
      "|20241231212713|\n",
      "|20241231212927|\n",
      "|20241231213229|\n",
      "|20241231213306|\n",
      "|20241231213647|\n",
      "|20241231213722|\n",
      "+--------------+\n",
      "only showing top 10 rows\n",
      "\n"
     ]
    },
    {
     "name": "stderr",
     "output_type": "stream",
     "text": [
      "                                                                                \r"
     ]
    },
    {
     "name": "stdout",
     "output_type": "stream",
     "text": [
      "\n",
      "📅 Date Range in Raw Data:\n",
      "   Earliest Date: 2024-12-31\n",
      "   Latest Date: 2025-01-01\n",
      "   Total Days: 2\n",
      "   Total Records: 89,911\n",
      "\n",
      "📊 Records per Day:\n",
      "+-----------+-----+\n",
      "|parsed_date|count|\n",
      "+-----------+-----+\n",
      "|2024-12-31 |7181 |\n",
      "|2025-01-01 |82730|\n",
      "+-----------+-----+\n",
      "\n",
      "✅ Date range verified: Data is within expected range (2024-12-31 to 2025-01-15)\n",
      "\n",
      "🔧 COLUMN SELECTION:\n",
      "   Selected columns: 38/38\n",
      "✅ DataFrame reduced to 38 columns\n",
      "\n",
      "🔐 ANONYMIZING PII DATA:\n",
      "   ✅ Anonymized: PRI_IDENTITY → PRI_IDENTITY_HASH\n",
      "   ✅ Anonymized: CallingPartyNumber → CallingPartyNumber_HASH\n",
      "   ✅ Anonymized: CalledPartyNumber → CalledPartyNumber_HASH\n",
      "   ✅ Anonymized: CallingPartyIMSI → CallingPartyIMSI_HASH\n",
      "   ✅ Anonymized: CalledPartyIMSI → CalledPartyIMSI_HASH\n",
      "   ✅ Anonymized: IMEI → IMEI_HASH\n",
      "\n",
      "🔄 DATA TRANSFORMATION:\n",
      "   ✅ Created CDR_DAY partition column\n",
      "   ✅ Cast ACTUAL_USAGE to double\n",
      "   ✅ Cast RATE_USAGE to double\n",
      "   ✅ Cast DEBIT_AMOUNT to double\n",
      "   ✅ Cast UN_DEBIT_AMOUNT to double\n",
      "   ✅ Cast TOTAL_TAX to double\n",
      "   ✅ Cast ChargingTime to double\n",
      "\n",
      "🗓️  VERIFYING DATE RANGE AFTER ANONYMIZATION:\n"
     ]
    },
    {
     "name": "stderr",
     "output_type": "stream",
     "text": [
      "                                                                                \r"
     ]
    },
    {
     "name": "stdout",
     "output_type": "stream",
     "text": [
      "\n",
      "📅 Date Range After Anonymization:\n",
      "   Earliest Date: 2024-12-31\n",
      "   Latest Date: 2025-01-01\n",
      "   Total Days: 2\n",
      "   Total Records: 89,911\n",
      "\n",
      "📊 Records per Day (After Anonymization):\n",
      "+----------+-----+\n",
      "|CDR_DAY   |count|\n",
      "+----------+-----+\n",
      "|2024-12-31|7181 |\n",
      "|2025-01-01|82730|\n",
      "+----------+-----+\n",
      "\n",
      "\n",
      "📋 SAMPLE OF ANONYMIZED DATA:\n"
     ]
    },
    {
     "name": "stderr",
     "output_type": "stream",
     "text": [
      "25/06/21 16:38:47 WARN SparkStringUtils: Truncated the string representation of a plan since it was too large. This behavior can be adjusted by setting 'spark.sql.debug.maxToStringFields'.\n"
     ]
    },
    {
     "name": "stdout",
     "output_type": "stream",
     "text": [
      "+------------------+----------+--------+------------------+----------+--------------+--------------+--------------+---------------------+-------------------+------------------+------------+----------+-----------------+----------------+------------------+---------------+--------------------------------------------------------------+------------+---------------+---------+-----------+--------------------+------------------+--------+---------+---------------+--------------+-------------+------------+----------+-------+----------------------------------------------------------------+----------------------------------------------------------------+----------------------------------------------------------------+---------------------+--------------------+---------+----------+\n",
      "|CDR_ID            |CDR_SUB_ID|CDR_TYPE|CDR_BATCH_ID      |SRC_CDR_ID|START_DATE    |END_DATE      |CREATE_DATE   |CUST_LOCAL_START_DATE|CUST_LOCAL_END_DATE|OBJ_ID            |ACTUAL_USAGE|RATE_USAGE|SERVICE_UNIT_TYPE|SERVICE_CATEGORY|USAGE_SERVICE_TYPE|STD_EVT_TYPE_ID|SESSION_ID                                                    |DEBIT_AMOUNT|UN_DEBIT_AMOUNT|TOTAL_TAX|ServiceFlow|CallForwardIndicator|ChargingTime      |CallType|RoamState|CallingRoamInfo|CalledRoamInfo|CallingCellID|CalledCellID|MSCAddress|BrandID|PRI_IDENTITY_HASH                                               |CallingPartyNumber_HASH                                         |CalledPartyNumber_HASH                                          |CallingPartyIMSI_HASH|CalledPartyIMSI_HASH|IMEI_HASH|CDR_DAY   |\n",
      "+------------------+----------+--------+------------------+----------+--------------+--------------+--------------+---------------------+-------------------+------------------+------------+----------+-----------------+----------------+------------------+---------------+--------------------------------------------------------------+------------+---------------+---------+-----------+--------------------+------------------+--------+---------+---------------+--------------+-------------+------------+----------+-------+----------------------------------------------------------------+----------------------------------------------------------------+----------------------------------------------------------------+---------------------+--------------------+---------+----------+\n",
      "|184600000351493312|0         |N       |186200000000170208|0         |20250101100952|20250101101202|20250101110054|20250101110952       |20250101111202     |141049000008415808|130.0       |180.0     |1                |1               |10                |11001          |00186200000000170255;00001735729254199124;00184600000004601487|0.0         |0.0            |0.0      |1          |0                   |2.0250101100952E13|0       |0        |NULL           |NULL          |NULL         |NULL        |NULL      |2      |b5cc89696600b5d6f50fb0f9bb85e2ac16eb8507f810dffb91683be85e4eebf6|f2076ca9d2a337fc5824277f290d1f48dec30eb46f7e7328db2ec2a71302a24f|d61b594f283aed4e9d2bb77f39141d60e7380feb11cf7c2ba628ebdb9ac1a521|NULL                 |NULL                |NULL     |2025-01-01|\n",
      "|184600000351493312|0         |N       |186200000000170208|0         |20250101095539|20250101100230|20250101110054|20250101105539       |20250101110230     |132169000005506000|411.0       |420.0     |1                |1               |11                |11001          |00186200000000170255;00001735729254477897;00184600000004601488|6300.0      |0.0            |0.0      |1          |0                   |2.0250101095539E13|1       |0        |NULL           |NULL          |NULL         |NULL        |NULL      |2      |4a579d234c5ce7bd8422ca8475bbc171a996f48ae6ca3fbbd11eec83643eb83e|242783462e3b4d5ead05b34d0114d34327a92930f2c78ca10294269830a58f2a|a9244995d8279af53472526b1beb3e2574b0a318f518ae4a2a52cf8232744af8|NULL                 |NULL                |NULL     |2025-01-01|\n",
      "|184600000351493312|0         |N       |186200000000170208|0         |20250101102227|20250101102347|20250101110054|20250101112227       |20250101112347     |142969000008388096|80.0        |80.0      |1                |1               |11                |11001          |00186200000000170255;00001735729254697805;00184600000004601489|0.0         |0.0            |0.0      |1          |0                   |2.0250101102227E13|1       |0        |NULL           |NULL          |NULL         |NULL        |NULL      |2      |a57791c19de2ccd1b1b0a603c6ed76bb7b3ba9434d9f8d8b6381c986bca4a58b|49fd3818bd73a2ceb2239e286681e5608fa934313f67079ae97e40132ebc54ca|20fd76ee231f76873c02d836080f3f5e4aade7d4b08f479a901499e3681c17a5|NULL                 |NULL                |NULL     |2025-01-01|\n",
      "|184600000351493312|0         |N       |186200000000170208|0         |20250101102731|20250101102811|20250101110054|20250101112731       |20250101112811     |139969000007288992|40.0        |60.0      |1                |1               |10                |11001          |00186200000000170255;00001735729254708605;00184600000004601490|0.0         |0.0            |0.0      |1          |0                   |2.0250101102731E13|0       |0        |NULL           |NULL          |NULL         |NULL        |NULL      |2      |aea1ab942d00de76161786c2d63557adc1689379e546da53bb6fc8e3c647b103|9f1647d679b1d4bbd8dd80abae6b1fa2773552d2e8480c31d68c0641eb478d03|7d9276bff3e3b9016c14ca7350b6d46285087f5ee4a2810d7cb9a34a39331341|NULL                 |NULL                |NULL     |2025-01-01|\n",
      "|184600000351493312|0         |N       |186200000000170208|0         |20250101101232|20250101101553|20250101110054|20250101111232       |20250101111553     |136849000003058896|201.0       |240.0     |1                |1               |10                |11001          |00186200000000170255;00001735729254799291;00184600000004601491|0.0         |0.0            |0.0      |1          |0                   |2.0250101101232E13|0       |0        |NULL           |NULL          |NULL         |NULL        |NULL      |2      |24d6db444774fb9f2ac64bc3d0e2dae05c8898c939aff4d588f8b3d98f9bdbb4|c9002fdc6085281119fb50009b28ceca24b6525fd7213cf7d9d96f53d7a3e4ed|8a84118dc12a52f15251b49f6d497c1ff187931ef4bc34ae8215d06776ef08ca|NULL                 |NULL                |NULL     |2025-01-01|\n",
      "+------------------+----------+--------+------------------+----------+--------------+--------------+--------------+---------------------+-------------------+------------------+------------+----------+-----------------+----------------+------------------+---------------+--------------------------------------------------------------+------------+---------------+---------+-----------+--------------------+------------------+--------+---------+---------------+--------------+-------------+------------+----------+-------+----------------------------------------------------------------+----------------------------------------------------------------+----------------------------------------------------------------+---------------------+--------------------+---------+----------+\n",
      "only showing top 5 rows\n",
      "\n",
      "\n",
      "📋 FINAL SCHEMA:\n",
      "root\n",
      " |-- CDR_ID: string (nullable = true)\n",
      " |-- CDR_SUB_ID: string (nullable = true)\n",
      " |-- CDR_TYPE: string (nullable = true)\n",
      " |-- CDR_BATCH_ID: string (nullable = true)\n",
      " |-- SRC_CDR_ID: string (nullable = true)\n",
      " |-- START_DATE: string (nullable = true)\n",
      " |-- END_DATE: string (nullable = true)\n",
      " |-- CREATE_DATE: string (nullable = true)\n",
      " |-- CUST_LOCAL_START_DATE: string (nullable = true)\n",
      " |-- CUST_LOCAL_END_DATE: string (nullable = true)\n",
      " |-- OBJ_ID: string (nullable = true)\n",
      " |-- ACTUAL_USAGE: double (nullable = true)\n",
      " |-- RATE_USAGE: double (nullable = true)\n",
      " |-- SERVICE_UNIT_TYPE: string (nullable = true)\n",
      " |-- SERVICE_CATEGORY: string (nullable = true)\n",
      " |-- USAGE_SERVICE_TYPE: string (nullable = true)\n",
      " |-- STD_EVT_TYPE_ID: string (nullable = true)\n",
      " |-- SESSION_ID: string (nullable = true)\n",
      " |-- DEBIT_AMOUNT: double (nullable = true)\n",
      " |-- UN_DEBIT_AMOUNT: double (nullable = true)\n",
      " |-- TOTAL_TAX: double (nullable = true)\n",
      " |-- ServiceFlow: string (nullable = true)\n",
      " |-- CallForwardIndicator: string (nullable = true)\n",
      " |-- ChargingTime: double (nullable = true)\n",
      " |-- CallType: string (nullable = true)\n",
      " |-- RoamState: string (nullable = true)\n",
      " |-- CallingRoamInfo: string (nullable = true)\n",
      " |-- CalledRoamInfo: string (nullable = true)\n",
      " |-- CallingCellID: string (nullable = true)\n",
      " |-- CalledCellID: string (nullable = true)\n",
      " |-- MSCAddress: string (nullable = true)\n",
      " |-- BrandID: string (nullable = true)\n",
      " |-- PRI_IDENTITY_HASH: string (nullable = true)\n",
      " |-- CallingPartyNumber_HASH: string (nullable = true)\n",
      " |-- CalledPartyNumber_HASH: string (nullable = true)\n",
      " |-- CallingPartyIMSI_HASH: string (nullable = true)\n",
      " |-- CalledPartyIMSI_HASH: string (nullable = true)\n",
      " |-- IMEI_HASH: string (nullable = true)\n",
      " |-- CDR_DAY: date (nullable = true)\n",
      "\n",
      "\n",
      "💾 WRITING ANONYMIZED DATA TO: /user/hive/warehouse/cdr_anonymized/\n"
     ]
    },
    {
     "name": "stderr",
     "output_type": "stream",
     "text": [
      "                                                                                \r"
     ]
    },
    {
     "name": "stdout",
     "output_type": "stream",
     "text": [
      "   ✅ Data written with CDR_DAY partitioning\n",
      "\n",
      "🔍 VERIFYING WRITTEN DATA:\n",
      "   Records written: 89,911\n",
      "   Records verified: 89,911\n",
      "   ✅ All records successfully written and verified!\n",
      "\n",
      "📊 FINAL ANONYMIZED DATA SUMMARY:\n",
      "   Date Range: 2024-12-31 to 2025-01-01\n",
      "   Total Days: 2\n",
      "   Total Records: 89,911\n",
      "   Average Records/Day: 44,956\n",
      "\n",
      "✅ Anonymization pipeline completed successfully!\n",
      "✅ Spark session closed.\n"
     ]
    }
   ],
   "source": [
    "print(\"\\n🗓️  VERIFYING DATE RANGE IN RAW DATA:\")\n",
    "\n",
    "# Check if START_DATE exists and show sample\n",
    "if \"START_DATE\" in df_raw.columns:\n",
    "    # Show sample of dates\n",
    "    print(\"\\nSample START_DATE values:\")\n",
    "    df_raw.select(\"START_DATE\").distinct().orderBy(\"START_DATE\").show(10, False)\n",
    "    \n",
    "    # Parse dates properly (format: yyyymmddHHMMSS)\n",
    "    df_with_dates = df_raw.withColumn(\n",
    "        \"parsed_date\", \n",
    "        F.to_date(F.col(\"START_DATE\").substr(1, 8), \"yyyyMMdd\")\n",
    "    )\n",
    "    \n",
    "    # Get min and max dates\n",
    "    date_stats = df_with_dates.agg(\n",
    "        F.min(\"parsed_date\").alias(\"min_date\"),\n",
    "        F.max(\"parsed_date\").alias(\"max_date\"),\n",
    "        F.count(\"START_DATE\").alias(\"total_records\"),\n",
    "        F.countDistinct(\"parsed_date\").alias(\"distinct_days\")\n",
    "    ).collect()[0]\n",
    "    \n",
    "    print(f\"\\n📅 Date Range in Raw Data:\")\n",
    "    print(f\"   Earliest Date: {date_stats['min_date']}\")\n",
    "    print(f\"   Latest Date: {date_stats['max_date']}\")\n",
    "    print(f\"   Total Days: {date_stats['distinct_days']}\")\n",
    "    print(f\"   Total Records: {date_stats['total_records']:,}\")\n",
    "    \n",
    "    # Show daily distribution\n",
    "    print(\"\\n📊 Records per Day:\")\n",
    "    daily_counts = df_with_dates.groupBy(\"parsed_date\").count().orderBy(\"parsed_date\")\n",
    "    daily_counts.show(20, False)\n",
    "    \n",
    "    # Verify expected date range (31/12/2024 to 15/01/2025)\n",
    "    expected_start = datetime(2024, 12, 31).date()\n",
    "    expected_end = datetime(2025, 1, 15).date()\n",
    "    \n",
    "    if date_stats['min_date'] >= expected_start and date_stats['max_date'] <= expected_end:\n",
    "        print(f\"✅ Date range verified: Data is within expected range ({expected_start} to {expected_end})\")\n",
    "    else:\n",
    "        print(f\"⚠️  WARNING: Date range mismatch!\")\n",
    "        print(f\"   Expected: {expected_start} to {expected_end}\")\n",
    "        print(f\"   Found: {date_stats['min_date']} to {date_stats['max_date']}\")\n",
    "\n",
    "# ----------------------------------------------------------------------------------\n",
    "# 3. Select Essential Columns\n",
    "# ----------------------------------------------------------------------------------\n",
    "print(\"\\n🔧 COLUMN SELECTION:\")\n",
    "\n",
    "# Define columns to keep (based on your project needs)\n",
    "essential_columns = [\n",
    "    # Identifiers\n",
    "    \"CDR_ID\", \"CDR_SUB_ID\", \"CDR_TYPE\", \"CDR_BATCH_ID\", \"SRC_CDR_ID\",\n",
    "    \n",
    "    # Timestamps\n",
    "    \"START_DATE\", \"END_DATE\", \"CREATE_DATE\", \n",
    "    \"CUST_LOCAL_START_DATE\", \"CUST_LOCAL_END_DATE\",\n",
    "    \n",
    "    # Subscriber info (to be anonymized)\n",
    "    \"OBJ_ID\", \"PRI_IDENTITY\", \"CallingPartyNumber\", \"CalledPartyNumber\",\n",
    "    \"CallingPartyIMSI\", \"CalledPartyIMSI\", \"IMEI\",\n",
    "    \n",
    "    # Usage metrics\n",
    "    \"ACTUAL_USAGE\", \"RATE_USAGE\", \"SERVICE_UNIT_TYPE\",\n",
    "    \"SERVICE_CATEGORY\", \"USAGE_SERVICE_TYPE\", \"STD_EVT_TYPE_ID\", \"SESSION_ID\",\n",
    "    \n",
    "    # Financial\n",
    "    \"DEBIT_AMOUNT\", \"UN_DEBIT_AMOUNT\", \"TOTAL_TAX\",\n",
    "    \n",
    "    # Network/Technical\n",
    "    \"ServiceFlow\", \"CallForwardIndicator\", \"ChargingTime\", \"CallType\", \n",
    "    \"RoamState\", \"CallingRoamInfo\", \"CalledRoamInfo\", \n",
    "    \"CallingCellID\", \"CalledCellID\", \"MSCAddress\", \"BrandID\"\n",
    "]\n",
    "\n",
    "# Keep only columns that exist in the data\n",
    "available_columns = [col for col in essential_columns if col in df_raw.columns]\n",
    "missing_columns = [col for col in essential_columns if col not in df_raw.columns]\n",
    "\n",
    "print(f\"   Selected columns: {len(available_columns)}/{len(essential_columns)}\")\n",
    "if missing_columns:\n",
    "    print(f\"   Missing columns: {missing_columns}\")\n",
    "\n",
    "df = df_raw.select(*available_columns)\n",
    "print(f\"✅ DataFrame reduced to {len(df.columns)} columns\")\n",
    "\n",
    "# ----------------------------------------------------------------------------------\n",
    "# 4. Anonymize PII Columns\n",
    "# ----------------------------------------------------------------------------------\n",
    "print(\"\\n🔐 ANONYMIZING PII DATA:\")\n",
    "\n",
    "# Define SHA-256 hashing function\n",
    "def sha256_hash(value):\n",
    "    \"\"\"Hash a string value using SHA-256\"\"\"\n",
    "    if value:\n",
    "        return hashlib.sha256(value.encode('utf-8')).hexdigest()\n",
    "    return None\n",
    "\n",
    "# Register as UDF\n",
    "hash_udf = F.udf(sha256_hash, T.StringType())\n",
    "\n",
    "# Define PII columns to anonymize\n",
    "pii_columns = [\n",
    "    \"PRI_IDENTITY\", \n",
    "    \"CallingPartyNumber\", \n",
    "    \"CalledPartyNumber\",\n",
    "    \"CallingPartyIMSI\", \n",
    "    \"CalledPartyIMSI\", \n",
    "    \"IMEI\"\n",
    "]\n",
    "\n",
    "# Apply hashing and drop original columns\n",
    "for col_name in pii_columns:\n",
    "    if col_name in df.columns:\n",
    "        new_col_name = col_name + \"_HASH\"\n",
    "        df = df.withColumn(new_col_name, hash_udf(F.col(col_name)))\n",
    "        df = df.drop(col_name)\n",
    "        print(f\"   ✅ Anonymized: {col_name} → {new_col_name}\")\n",
    "\n",
    "# ----------------------------------------------------------------------------------\n",
    "# 5. Add Partition Column and Cast Numeric Types\n",
    "# ----------------------------------------------------------------------------------\n",
    "print(\"\\n🔄 DATA TRANSFORMATION:\")\n",
    "\n",
    "# Create CDR_DAY partition column from START_DATE\n",
    "if \"START_DATE\" in df.columns:\n",
    "    df = df.withColumn(\"CDR_DAY\", F.to_date(F.col(\"START_DATE\").substr(1, 8), \"yyyyMMdd\"))\n",
    "    print(\"   ✅ Created CDR_DAY partition column\")\n",
    "\n",
    "# Cast numeric columns to proper types\n",
    "numeric_columns = [\n",
    "    \"ACTUAL_USAGE\", \"RATE_USAGE\", \"DEBIT_AMOUNT\", \n",
    "    \"UN_DEBIT_AMOUNT\", \"TOTAL_TAX\", \"ChargingTime\"\n",
    "]\n",
    "\n",
    "for col_name in numeric_columns:\n",
    "    if col_name in df.columns:\n",
    "        df = df.withColumn(col_name, F.col(col_name).cast(\"double\"))\n",
    "        print(f\"   ✅ Cast {col_name} to double\")\n",
    "\n",
    "# ----------------------------------------------------------------------------------\n",
    "# 6. Verify Date Range AFTER Anonymization\n",
    "# ----------------------------------------------------------------------------------\n",
    "print(\"\\n🗓️  VERIFYING DATE RANGE AFTER ANONYMIZATION:\")\n",
    "\n",
    "if \"CDR_DAY\" in df.columns:\n",
    "    # Get date statistics after anonymization\n",
    "    date_stats_after = df.agg(\n",
    "        F.min(\"CDR_DAY\").alias(\"min_date\"),\n",
    "        F.max(\"CDR_DAY\").alias(\"max_date\"),\n",
    "        F.count(\"CDR_DAY\").alias(\"total_records\"),\n",
    "        F.countDistinct(\"CDR_DAY\").alias(\"distinct_days\")\n",
    "    ).collect()[0]\n",
    "    \n",
    "    print(f\"\\n📅 Date Range After Anonymization:\")\n",
    "    print(f\"   Earliest Date: {date_stats_after['min_date']}\")\n",
    "    print(f\"   Latest Date: {date_stats_after['max_date']}\")\n",
    "    print(f\"   Total Days: {date_stats_after['distinct_days']}\")\n",
    "    print(f\"   Total Records: {date_stats_after['total_records']:,}\")\n",
    "    \n",
    "    # Show daily distribution after anonymization\n",
    "    print(\"\\n📊 Records per Day (After Anonymization):\")\n",
    "    daily_counts_after = df.groupBy(\"CDR_DAY\").count().orderBy(\"CDR_DAY\")\n",
    "    daily_counts_after.show(20, False)\n",
    "\n",
    "# ----------------------------------------------------------------------------------\n",
    "# 7. Show Sample of Anonymized Data\n",
    "# ----------------------------------------------------------------------------------\n",
    "print(\"\\n📋 SAMPLE OF ANONYMIZED DATA:\")\n",
    "df.show(5, truncate=False)\n",
    "\n",
    "# Show schema\n",
    "print(\"\\n📋 FINAL SCHEMA:\")\n",
    "df.printSchema()\n",
    "\n",
    "# ----------------------------------------------------------------------------------\n",
    "# 8. Write Anonymized Data (Overwrite Existing)\n",
    "# ----------------------------------------------------------------------------------\n",
    "print(f\"\\n💾 WRITING ANONYMIZED DATA TO: {ANONYMIZED_PATH}\")\n",
    "\n",
    "# Write as partitioned Parquet, overwriting any existing data\n",
    "if \"CDR_DAY\" in df.columns:\n",
    "    df.write \\\n",
    "        .mode(\"overwrite\") \\\n",
    "        .partitionBy(\"CDR_DAY\") \\\n",
    "        .parquet(ANONYMIZED_PATH)\n",
    "    print(\"   ✅ Data written with CDR_DAY partitioning\")\n",
    "else:\n",
    "    df.write \\\n",
    "        .mode(\"overwrite\") \\\n",
    "        .parquet(ANONYMIZED_PATH)\n",
    "    print(\"   ✅ Data written without partitioning\")\n",
    "\n",
    "# ----------------------------------------------------------------------------------\n",
    "# 9. Verify Written Data\n",
    "# ----------------------------------------------------------------------------------\n",
    "print(\"\\n🔍 VERIFYING WRITTEN DATA:\")\n",
    "\n",
    "# Read back the anonymized data\n",
    "df_verify = spark.read.parquet(ANONYMIZED_PATH)\n",
    "verify_count = df_verify.count()\n",
    "\n",
    "print(f\"   Records written: {df.count():,}\")\n",
    "print(f\"   Records verified: {verify_count:,}\")\n",
    "\n",
    "if df.count() == verify_count:\n",
    "    print(\"   ✅ All records successfully written and verified!\")\n",
    "else:\n",
    "    print(\"   ⚠️  WARNING: Record count mismatch!\")\n",
    "\n",
    "# Show final statistics\n",
    "if \"CDR_DAY\" in df_verify.columns:\n",
    "    final_stats = df_verify.agg(\n",
    "        F.min(\"CDR_DAY\").alias(\"min_date\"),\n",
    "        F.max(\"CDR_DAY\").alias(\"max_date\"),\n",
    "        F.countDistinct(\"CDR_DAY\").alias(\"days\")\n",
    "    ).collect()[0]\n",
    "    \n",
    "    print(f\"\\n📊 FINAL ANONYMIZED DATA SUMMARY:\")\n",
    "    print(f\"   Date Range: {final_stats['min_date']} to {final_stats['max_date']}\")\n",
    "    print(f\"   Total Days: {final_stats['days']}\")\n",
    "    print(f\"   Total Records: {verify_count:,}\")\n",
    "    print(f\"   Average Records/Day: {verify_count / final_stats['days']:,.0f}\")\n",
    "\n",
    "# ----------------------------------------------------------------------------------\n",
    "# 10. Cleanup\n",
    "# ----------------------------------------------------------------------------------\n",
    "spark.stop()\n",
    "print(\"\\n✅ Anonymization pipeline completed successfully!\")\n",
    "print(\"✅ Spark session closed.\")\n",
    "\n",
    "\n"
   ]
  },
  {
   "cell_type": "markdown",
   "id": "3a6391d0-6fef-41a6-a2dd-352c671825d1",
   "metadata": {},
   "source": [
    "## Key Improvements Made:\n",
    "\n",
    "### 1. **Date Range Verification**\n",
    "- Added comprehensive date range checking before AND after anonymization\n",
    "- Shows daily record distribution to identify any gaps\n",
    "- Verifies data is within expected range (31/12/2024 to 15/01/2025)\n",
    "\n",
    "### 2. **Proper Date Parsing**\n",
    "- Correctly parses START_DATE format (yyyymmddHHMMSS)\n",
    "- Creates CDR_DAY partition column for efficient querying\n",
    "\n",
    "### 3. **Complete Column Management**\n",
    "- Lists all available columns at start\n",
    "- Shows which requested columns are missing\n",
    "- Preserves all essential columns for your analysis\n",
    "\n",
    "### 4. **Robust Anonymization**\n",
    "- Uses SHA-256 hashing for all PII fields\n",
    "- Drops original PII columns after hashing\n",
    "- Clear tracking of what was anonymized\n",
    "\n",
    "### 5. **Data Validation**\n",
    "- Shows record counts at each step\n",
    "- Verifies data integrity after writing\n",
    "- Provides comprehensive statistics\n",
    "\n",
    "### 6. **Overwrite Protection**\n",
    "- Uses `mode(\"overwrite\")` to replace previous anonymized data\n",
    "- Ensures clean slate for subsequent notebooks\n",
    "\n",
    "### 7. **Better Error Handling**\n",
    "- Checks for column existence before operations\n",
    "- Provides warnings for any issues\n",
    "- Clear success/failure indicators\n",
    "\n",
    "This notebook will ensure your anonymized data contains the full date range and is properly prepared for your subsequent analysis notebooks."
   ]
  },
  {
   "cell_type": "markdown",
   "id": "47bacefe-0cc4-49b1-bb78-5c0e52145298",
   "metadata": {},
   "source": [
    "# CDR MOBILE OPERATORS DATA "
   ]
  },
  {
   "cell_type": "code",
   "execution_count": 2,
   "id": "2f6812a3-c9c2-4f27-9a3c-237c9cb87c7b",
   "metadata": {},
   "outputs": [
    {
     "name": "stdout",
     "output_type": "stream",
     "text": [
      "✅ SparkSession initialized (App: CDR Anonymization - Complete Pipeline, Spark: 3.5.1)\n",
      "✅ Hive Warehouse: hdfs://namenode:9000/user/hive/warehouse\n",
      "✅ Hive Metastore URI: thrift://hive-metastore:9083\n",
      "✅ SparkSession initialized\n",
      "✅ SparkSession initialized (App: CDR Data Quality, Spark: 3.5.1)\n",
      "✅ Hive Warehouse: hdfs://namenode:9000/user/hive/warehouse\n",
      "✅ Hive Metastore URI: thrift://hive-metastore:9083\n",
      "✅ SparkSession initialized\n",
      "================================================================================\n",
      "🔍 CDR DATA EXPLORATION & QUALITY PROFILING\n",
      "================================================================================\n"
     ]
    },
    {
     "name": "stderr",
     "output_type": "stream",
     "text": [
      "25/06/22 07:19:28 WARN SparkSession: Using an existing Spark session; only runtime SQL configurations will take effect.\n",
      "                                                                                \r"
     ]
    },
    {
     "name": "stdout",
     "output_type": "stream",
     "text": [
      "✅ Loaded raw CDR data from: /user/hive/warehouse/generated_raw_cdr/*.parquet\n"
     ]
    },
    {
     "name": "stderr",
     "output_type": "stream",
     "text": [
      "25/06/22 07:19:32 WARN SparkStringUtils: Truncated the string representation of a plan since it was too large. This behavior can be adjusted by setting 'spark.sql.debug.maxToStringFields'.\n"
     ]
    },
    {
     "name": "stdout",
     "output_type": "stream",
     "text": [
      "Total records: 146,876,149\n",
      "Total columns: 50\n",
      "root\n",
      " |-- cdr_id: string (nullable = true)\n",
      " |-- subscriber_id: string (nullable = true)\n",
      " |-- msisdn: string (nullable = true)\n",
      " |-- imsi: string (nullable = true)\n",
      " |-- imei: string (nullable = true)\n",
      " |-- service_type: string (nullable = true)\n",
      " |-- service_subtype: string (nullable = true)\n",
      " |-- session_id: string (nullable = true)\n",
      " |-- calling_party: string (nullable = true)\n",
      " |-- called_party: string (nullable = true)\n",
      " |-- start_time: string (nullable = true)\n",
      " |-- end_time: string (nullable = true)\n",
      " |-- duration: long (nullable = true)\n",
      " |-- data_volume_mb: double (nullable = true)\n",
      " |-- upload_mb: double (nullable = true)\n",
      " |-- download_mb: double (nullable = true)\n",
      " |-- cell_id: string (nullable = true)\n",
      " |-- lac: string (nullable = true)\n",
      " |-- location_area: string (nullable = true)\n",
      " |-- serving_cell_tower: string (nullable = true)\n",
      " |-- network_type: string (nullable = true)\n",
      " |-- charging_amount: double (nullable = true)\n",
      " |-- currency: string (nullable = true)\n",
      " |-- payment_type: string (nullable = true)\n",
      " |-- tax_amount: double (nullable = true)\n",
      " |-- call_result: string (nullable = true)\n",
      " |-- quality_score: double (nullable = true)\n",
      " |-- signal_strength: long (nullable = true)\n",
      " |-- dropped_call_flag: boolean (nullable = true)\n",
      " |-- customer_segment: string (nullable = true)\n",
      " |-- tariff_plan: string (nullable = true)\n",
      " |-- operator: string (nullable = true)\n",
      " |-- age_group: string (nullable = true)\n",
      " |-- gender: string (nullable = true)\n",
      " |-- roaming_flag: boolean (nullable = true)\n",
      " |-- roaming_country: string (nullable = true)\n",
      " |-- roaming_type: string (nullable = true)\n",
      " |-- special_offer_applied: string (nullable = true)\n",
      " |-- promotional_discount: double (nullable = true)\n",
      " |-- network_congestion_level: string (nullable = true)\n",
      " |-- fraud_indicator: boolean (nullable = true)\n",
      " |-- unusual_pattern_flag: boolean (nullable = true)\n",
      " |-- time_of_day_category: string (nullable = true)\n",
      " |-- day_of_week: string (nullable = true)\n",
      " |-- is_weekend: boolean (nullable = true)\n",
      " |-- is_holiday: boolean (nullable = true)\n",
      " |-- application_used: string (nullable = true)\n",
      " |-- content_category: string (nullable = true)\n",
      " |-- revenue_per_mb: double (nullable = true)\n",
      " |-- customer_lifetime_value_category: string (nullable = true)\n",
      "\n",
      "\n",
      "📋 SAMPLE RECORDS:\n",
      "+------------------------------------+-------------+----------------+----------------+----------------+------------+----------------+--------------+----------------+----------------+-------------------+-------------------+--------+--------------+---------+-----------+-----------+-------+--------------+------------------+------------+---------------+--------+------------+----------+-----------+-------------+---------------+-----------------+----------------+-------------+--------+---------+------+------------+---------------+------------+---------------------+--------------------+------------------------+---------------+--------------------+--------------------+-----------+----------+----------+----------------+----------------+--------------+--------------------------------+\n",
      "|cdr_id                              |subscriber_id|msisdn          |imsi            |imei            |service_type|service_subtype |session_id    |calling_party   |called_party    |start_time         |end_time           |duration|data_volume_mb|upload_mb|download_mb|cell_id    |lac    |location_area |serving_cell_tower|network_type|charging_amount|currency|payment_type|tax_amount|call_result|quality_score|signal_strength|dropped_call_flag|customer_segment|tariff_plan  |operator|age_group|gender|roaming_flag|roaming_country|roaming_type|special_offer_applied|promotional_discount|network_congestion_level|fraud_indicator|unusual_pattern_flag|time_of_day_category|day_of_week|is_weekend|is_holiday|application_used|content_category|revenue_per_mb|customer_lifetime_value_category|\n",
      "+------------------------------------+-------------+----------------+----------------+----------------+------------+----------------+--------------+----------------+----------------+-------------------+-------------------+--------+--------------+---------+-----------+-----------+-------+--------------+------------------+------------+---------------+--------+------------+----------+-----------+-------------+---------------+-----------------+----------------+-------------+--------+---------+------+------------+---------------+------------+---------------------+--------------------+------------------------+---------------+--------------------+--------------------+-----------+----------+----------+----------------+----------------+--------------+--------------------------------+\n",
      "|1ed3fa8c-02fa-4ac4-8522-044ea493e948|AT00019248   |89d7b44045d23836|02ba595c4881d2fe|912205004a7a302f|VOICE       |OUTGOING_CALL   |VOICE_8e71ccd8|89d7b44045d23836|e2c78d4fcc154bfd|2025-01-04 09:49:17|2025-01-04 09:50:32|75      |0.0           |0.0      |0.0        |60302954013|LAC5401|Khenchela     |Tower_954013      |4G          |5.95           |DZD     |PREPAID     |0.95      |SUCCESS    |0.95         |80             |false            |youth           |Mobilis Smart|Djezzy  |26-35    |F     |false       |               |NONE        |Weekend_Family       |20.0                |LOW                     |false          |false               |MORNING             |Saturday   |true      |false     |                |                |0.0           |High                            |\n",
      "|c1325ba8-a8c1-40b9-a3e7-2b0f3048ae5a|AT00019678   |907aa3f59e83148e|f736555d07010481|d73fadb95eaaf7a1|DATA        |INTERNET_SESSION|DATA_48b59838 |907aa3f59e83148e|                |2025-01-04 08:50:13|2025-01-04 13:05:49|15336   |128.12        |12.81    |115.31     |60302268065|LAC6806|Chlef         |Tower_268065      |4G          |304.93         |DZD     |PREPAID     |48.69     |SUCCESS    |0.95         |71             |false            |business        |Jeune Connect|Djezzy  |18-25    |F     |false       |               |NONE        |Weekend_Family       |20.0                |LOW                     |false          |false               |MORNING             |Saturday   |true      |false     |Spotify         |music           |2.38          |Very High                       |\n",
      "|2c8d0480-35f1-4ac1-b5ce-b0cdda731746|AT00094835   |ad763ea4e289697f|930135f977112d90|c3cd9637b7e6d26b|DATA        |INTERNET_SESSION|DATA_266f7f67 |ad763ea4e289697f|                |2025-01-03 01:34:48|2025-01-03 06:38:48|18240   |287.98        |28.8     |259.18     |60301887051|LAC8705|Tiaret        |Tower_887051      |4G          |642.56         |DZD     |POSTPAID    |102.59    |SUCCESS    |0.95         |63             |false            |premium         |Jeune Connect|Mobilis |50+      |M     |false       |               |NONE        |Nouvel_An_2025       |25.0                |LOW                     |false          |false               |NIGHT               |Friday     |false     |false     |TikTok          |video           |2.23          |Very High                       |\n",
      "|f1c7c0ce-faa3-4920-b3b3-e3b8810214dc|AT00008349   |0029aca7fb1bc6e3|ad6efbabe9beb432|50c7f6f42dcb9b0e|DATA        |INTERNET_SESSION|DATA_2c6915b3 |0029aca7fb1bc6e3|                |2025-01-02 16:17:51|2025-01-03 01:02:51|31500   |160.44        |16.04    |144.4      |60301934022|LAC3402|Oum El Bouaghi|Tower_934022      |3G          |357.98         |DZD     |PREPAID     |57.16     |SUCCESS    |0.95         |99             |false            |business        |Mobilis Smart|Mobilis |26-35    |M     |false       |               |NONE        |Nouvel_An_2025       |25.0                |LOW                     |false          |false               |AFTERNOON           |Thursday   |false     |false     |Spotify         |music           |2.23          |Medium                          |\n",
      "|2333279d-5ef3-4bb0-8327-ab7b044949b4|AT00020140   |cceaa5199f3038a8|8d252bcea9f5dd6f|1e64848b154abb3f|DATA        |INTERNET_SESSION|DATA_ea6b8cf9 |cceaa5199f3038a8|                |2025-01-02 21:37:32|2025-01-03 02:25:02|17250   |414.45        |41.45    |373.0      |60301346015|LAC4601|Mostaganem    |Tower_346015      |3G          |924.74         |DZD     |PREPAID     |147.65    |SUCCESS    |0.95         |90             |false            |business        |Mobilis Smart|Mobilis |26-35    |M     |false       |               |NONE        |Nouvel_An_2025       |25.0                |LOW                     |false          |false               |EVENING             |Thursday   |false     |false     |TikTok          |video           |2.23          |Very High                       |\n",
      "+------------------------------------+-------------+----------------+----------------+----------------+------------+----------------+--------------+----------------+----------------+-------------------+-------------------+--------+--------------+---------+-----------+-----------+-------+--------------+------------------+------------+---------------+--------+------------+----------+-----------+-------------+---------------+-----------------+----------------+-------------+--------+---------+------+------------+---------------+------------+---------------------+--------------------+------------------------+---------------+--------------------+--------------------+-----------+----------+----------+----------------+----------------+--------------+--------------------------------+\n",
      "only showing top 5 rows\n",
      "\n",
      "\n",
      "🔬 SCHEMA & TYPE CHECKS:\n",
      "   cdr_id: StringType() (nullable=True)\n",
      "   subscriber_id: StringType() (nullable=True)\n",
      "   msisdn: StringType() (nullable=True)\n",
      "   imsi: StringType() (nullable=True)\n",
      "   imei: StringType() (nullable=True)\n",
      "   service_type: StringType() (nullable=True)\n",
      "   service_subtype: StringType() (nullable=True)\n",
      "   session_id: StringType() (nullable=True)\n",
      "   calling_party: StringType() (nullable=True)\n",
      "   called_party: StringType() (nullable=True)\n",
      "   start_time: StringType() (nullable=True)\n",
      "   end_time: StringType() (nullable=True)\n",
      "   duration: LongType() (nullable=True)\n",
      "   data_volume_mb: DoubleType() (nullable=True)\n",
      "   upload_mb: DoubleType() (nullable=True)\n",
      "   download_mb: DoubleType() (nullable=True)\n",
      "   cell_id: StringType() (nullable=True)\n",
      "   lac: StringType() (nullable=True)\n",
      "   location_area: StringType() (nullable=True)\n",
      "   serving_cell_tower: StringType() (nullable=True)\n",
      "   network_type: StringType() (nullable=True)\n",
      "   charging_amount: DoubleType() (nullable=True)\n",
      "   currency: StringType() (nullable=True)\n",
      "   payment_type: StringType() (nullable=True)\n",
      "   tax_amount: DoubleType() (nullable=True)\n",
      "   call_result: StringType() (nullable=True)\n",
      "   quality_score: DoubleType() (nullable=True)\n",
      "   signal_strength: LongType() (nullable=True)\n",
      "   dropped_call_flag: BooleanType() (nullable=True)\n",
      "   customer_segment: StringType() (nullable=True)\n",
      "   tariff_plan: StringType() (nullable=True)\n",
      "   operator: StringType() (nullable=True)\n",
      "   age_group: StringType() (nullable=True)\n",
      "   gender: StringType() (nullable=True)\n",
      "   roaming_flag: BooleanType() (nullable=True)\n",
      "   roaming_country: StringType() (nullable=True)\n",
      "   roaming_type: StringType() (nullable=True)\n",
      "   special_offer_applied: StringType() (nullable=True)\n",
      "   promotional_discount: DoubleType() (nullable=True)\n",
      "   network_congestion_level: StringType() (nullable=True)\n",
      "   fraud_indicator: BooleanType() (nullable=True)\n",
      "   unusual_pattern_flag: BooleanType() (nullable=True)\n",
      "   time_of_day_category: StringType() (nullable=True)\n",
      "   day_of_week: StringType() (nullable=True)\n",
      "   is_weekend: BooleanType() (nullable=True)\n",
      "   is_holiday: BooleanType() (nullable=True)\n",
      "   application_used: StringType() (nullable=True)\n",
      "   content_category: StringType() (nullable=True)\n",
      "   revenue_per_mb: DoubleType() (nullable=True)\n",
      "   customer_lifetime_value_category: StringType() (nullable=True)\n"
     ]
    },
    {
     "name": "stderr",
     "output_type": "stream",
     "text": [
      "                                                                                \r"
     ]
    },
    {
     "name": "stdout",
     "output_type": "stream",
     "text": [
      "   msisdn: 96,871 unique values. Sample: 89d7b44045d23836\n"
     ]
    },
    {
     "name": "stderr",
     "output_type": "stream",
     "text": [
      "                                                                                \r"
     ]
    },
    {
     "name": "stdout",
     "output_type": "stream",
     "text": [
      "   imsi: 96,953 unique values. Sample: 02ba595c4881d2fe\n"
     ]
    },
    {
     "name": "stderr",
     "output_type": "stream",
     "text": [
      "                                                                                \r"
     ]
    },
    {
     "name": "stdout",
     "output_type": "stream",
     "text": [
      "   cdr_id: 146,145,440 unique values. Sample: 1ed3fa8c-02fa-4ac4-8522-044ea493e948\n"
     ]
    },
    {
     "name": "stderr",
     "output_type": "stream",
     "text": [
      "                                                                                \r"
     ]
    },
    {
     "name": "stdout",
     "output_type": "stream",
     "text": [
      "   subscriber_id: 96,954 unique values. Sample: AT00019248\n",
      "\n",
      "🔎 NULL & DATA QUALITY ANALYSIS:\n"
     ]
    },
    {
     "name": "stderr",
     "output_type": "stream",
     "text": [
      "                                                                                \r"
     ]
    },
    {
     "name": "stdout",
     "output_type": "stream",
     "text": [
      "\n",
      "🧹 Duplicate CDR_ID records: 730,709\n",
      "\n",
      "📆 DATE RANGE CHECK:\n"
     ]
    },
    {
     "name": "stderr",
     "output_type": "stream",
     "text": [
      "                                                                                \r"
     ]
    },
    {
     "name": "stdout",
     "output_type": "stream",
     "text": [
      "   CDR date range: 2025-01-01 → 2025-06-30\n"
     ]
    },
    {
     "name": "stderr",
     "output_type": "stream",
     "text": [
      "                                                                                \r"
     ]
    },
    {
     "name": "stdout",
     "output_type": "stream",
     "text": [
      "   📈 Daily record count plot saved.\n"
     ]
    },
    {
     "name": "stderr",
     "output_type": "stream",
     "text": [
      "                                                                                \r"
     ]
    },
    {
     "name": "stdout",
     "output_type": "stream",
     "text": [
      "   duration: mean=5962.70, stddev=9664.59\n",
      "   data_volume_mb: mean=215.80, stddev=398.27\n",
      "   charging_amount: mean=560.26, stddev=1060.89\n",
      "   quality_score: mean=0.86, stddev=0.15\n"
     ]
    },
    {
     "name": "stderr",
     "output_type": "stream",
     "text": [
      "                                                                                \r"
     ]
    },
    {
     "name": "stdout",
     "output_type": "stream",
     "text": [
      "   duration quantiles: [0.0, 2268.0, 161280.0]\n"
     ]
    },
    {
     "name": "stderr",
     "output_type": "stream",
     "text": [
      "                                                                                \r"
     ]
    },
    {
     "name": "stdout",
     "output_type": "stream",
     "text": [
      "   data_volume_mb quantiles: [0.0, 66.01, 2600.0]\n"
     ]
    },
    {
     "name": "stderr",
     "output_type": "stream",
     "text": [
      "                                                                                \r"
     ]
    },
    {
     "name": "stdout",
     "output_type": "stream",
     "text": [
      "   charging_amount quantiles: [1.35, 186.11, 23203.75]\n"
     ]
    },
    {
     "name": "stderr",
     "output_type": "stream",
     "text": [
      "                                                                                \r"
     ]
    },
    {
     "name": "stdout",
     "output_type": "stream",
     "text": [
      "   quality_score quantiles: [0.53, 0.95, 0.95]\n"
     ]
    },
    {
     "name": "stderr",
     "output_type": "stream",
     "text": [
      "                                                                                \r"
     ]
    },
    {
     "name": "stdout",
     "output_type": "stream",
     "text": [
      "\n",
      "Distribution for service_type:\n",
      "  service_type     count\n",
      "0         DATA  77298010\n",
      "1          SMS  38651508\n",
      "2        VOICE  30926631\n"
     ]
    },
    {
     "name": "stderr",
     "output_type": "stream",
     "text": [
      "                                                                                \r"
     ]
    },
    {
     "name": "stdout",
     "output_type": "stream",
     "text": [
      "\n",
      "Distribution for operator:\n",
      "  operator     count\n",
      "0  Mobilis  65718870\n",
      "1   Djezzy  51842911\n",
      "2  Ooredoo  29314368\n"
     ]
    },
    {
     "name": "stderr",
     "output_type": "stream",
     "text": [
      "                                                                                \r"
     ]
    },
    {
     "name": "stdout",
     "output_type": "stream",
     "text": [
      "\n",
      "Distribution for network_type:\n",
      "  network_type     count\n",
      "0           4G  94808942\n",
      "1           3G  34464826\n",
      "2           5G  10152708\n",
      "3           2G   7449673\n"
     ]
    },
    {
     "name": "stderr",
     "output_type": "stream",
     "text": [
      "                                                                                \r"
     ]
    },
    {
     "name": "stdout",
     "output_type": "stream",
     "text": [
      "\n",
      "Distribution for customer_segment:\n",
      "  customer_segment     count\n",
      "0            youth  58677136\n",
      "1         business  41030782\n",
      "2         standard  29432242\n",
      "3          premium  17735989\n"
     ]
    },
    {
     "name": "stderr",
     "output_type": "stream",
     "text": [
      "                                                                                \r"
     ]
    },
    {
     "name": "stdout",
     "output_type": "stream",
     "text": [
      "   📊 Service type distribution plot saved.\n",
      "\n",
      "🔒 Anonymization check (msisdn): ✅ Passed\n"
     ]
    },
    {
     "name": "stderr",
     "output_type": "stream",
     "text": [
      "                                                                                \r"
     ]
    },
    {
     "name": "stdout",
     "output_type": "stream",
     "text": [
      "   VOICE records with non-positive duration: 0\n",
      "   ✅ Sample head exported for audit.\n",
      "\n",
      "📊 Data exploration and profiling complete.\n",
      "\n",
      "🔚 Spark session closed.\n"
     ]
    },
    {
     "data": {
      "image/png": "[encoded data removed]",
      "text/plain": [
       "<Figure size 1200x400 with 1 Axes>"
      ]
     },
     "metadata": {},
     "output_type": "display_data"
    },
    {
     "data": {
      "image/png": "[encoded data removed]",
      "text/plain": [
       "<Figure size 600x400 with 1 Axes>"
      ]
     },
     "metadata": {},
     "output_type": "display_data"
    }
   ],
   "source": [
    "# =====================================================\n",
    "# NOTEBOOK 01: DATA EXPLORATION & QUALITY PROFILING\n",
    "# Algerie Telecom CDR Big Data Project for the generated Mobile CDRs\n",
    "# =====================================================\n",
    "\n",
    "import sys\n",
    "sys.path.append('/home/jovyan/work/work/scripts')\n",
    "from pyspark.sql import functions as F, types as T\n",
    "from pyspark.sql.types import *\n",
    "import pandas as pd\n",
    "import matplotlib.pyplot as plt\n",
    "import seaborn as sns\n",
    "from datetime import datetime\n",
    "# Initialize Spark\n",
    "from spark_init import init_spark\n",
    "\n",
    "# Initialize Spark with proper configuration\n",
    "spark = init_spark(\"CDR Anonymization - Complete Pipeline\")\n",
    "print(\"✅ SparkSession initialized\")\n",
    "\n",
    "\n",
    "print(\"=\" * 80)\n",
    "print(\"🔍 CDR DATA EXPLORATION & QUALITY PROFILING\")\n",
    "print(\"=\" * 80)\n",
    "\n",
    "# -----------------------------------------------------\n",
    "# 1. LOAD RAW DATA FROM HDFS/PARQUET\n",
    "# -----------------------------------------------------\n",
    "cdr_path = \"/user/hive/warehouse/generated_raw_cdr/*.parquet\"\n",
    "df = spark.read.parquet(cdr_path)\n",
    "print(f\"✅ Loaded raw CDR data from: {cdr_path}\")\n",
    "\n",
    "print(f\"Total records: {df.count():,}\")\n",
    "print(f\"Total columns: {len(df.columns)}\")\n",
    "df.printSchema()\n",
    "\n",
    "# -----------------------------------------------------\n",
    "# 2. SAMPLE DATA VISUALIZATION\n",
    "# -----------------------------------------------------\n",
    "print(\"\\n📋 SAMPLE RECORDS:\")\n",
    "df.show(5, truncate=False)\n",
    "\n",
    "# -----------------------------------------------------\n",
    "# 3. SCHEMA & TYPE CHECKS\n",
    "# -----------------------------------------------------\n",
    "print(\"\\n🔬 SCHEMA & TYPE CHECKS:\")\n",
    "for field in df.schema.fields:\n",
    "    print(f\"   {field.name}: {field.dataType} (nullable={field.nullable})\")\n",
    "\n",
    "# -----------------------------------------------------\n",
    "# 4. UNIQUE VALUE COUNTS & SAMPLE VALUES\n",
    "# -----------------------------------------------------\n",
    "cols_to_check = ['msisdn', 'imsi', 'cdr_id', 'subscriber_id']\n",
    "for col in cols_to_check:\n",
    "    n_unique = df.select(col).distinct().count()\n",
    "    print(f\"   {col}: {n_unique:,} unique values. Sample: {df.select(col).first()[0]}\")\n",
    "\n",
    "# -----------------------------------------------------\n",
    "# 5. NULL & QUALITY ANALYSIS\n",
    "# -----------------------------------------------------\n",
    "print(\"\\n🔎 NULL & DATA QUALITY ANALYSIS:\")\n",
    "nulls = [(c, df.filter(F.col(c).isNull()).count()) for c in df.columns]\n",
    "for c, n in nulls:\n",
    "    if n > 0:\n",
    "        print(f\"   {c}: {n:,} null values\")\n",
    "\n",
    "# -----------------------------------------------------\n",
    "# 6. DUPLICATE CHECKS\n",
    "# -----------------------------------------------------\n",
    "n_dup_cdr = df.count() - df.dropDuplicates(['cdr_id']).count()\n",
    "print(f\"\\n🧹 Duplicate CDR_ID records: {n_dup_cdr:,}\")\n",
    "\n",
    "# -----------------------------------------------------\n",
    "# 7. DATE RANGE & TEMPORAL DISTRIBUTION\n",
    "# -----------------------------------------------------\n",
    "print(\"\\n📆 DATE RANGE CHECK:\")\n",
    "df = df.withColumn('start_dt', F.to_date('start_time'))\n",
    "min_date = df.agg(F.min('start_dt')).collect()[0][0]\n",
    "max_date = df.agg(F.max('start_dt')).collect()[0][0]\n",
    "print(f\"   CDR date range: {min_date} → {max_date}\")\n",
    "\n",
    "daily_counts = df.groupBy('start_dt').count().orderBy('start_dt').toPandas()\n",
    "plt.figure(figsize=(12, 4))\n",
    "sns.lineplot(data=daily_counts, x='start_dt', y='count')\n",
    "plt.title('Records per Day')\n",
    "plt.xlabel('Date')\n",
    "plt.ylabel('CDR Count')\n",
    "plt.tight_layout()\n",
    "plt.savefig('/tmp/cdr_records_per_day.png')\n",
    "print(\"   📈 Daily record count plot saved.\")\n",
    "\n",
    "# -----------------------------------------------------\n",
    "# 8. DATA DISTRIBUTIONS & OUTLIER CHECKS\n",
    "# -----------------------------------------------------\n",
    "num_cols = ['duration', 'data_volume_mb', 'charging_amount', 'quality_score']\n",
    "stats = df.select([F.mean(c).alias(f'{c}_mean') for c in num_cols] +\n",
    "                  [F.stddev(c).alias(f'{c}_stddev') for c in num_cols]).collect()[0]\n",
    "for c in num_cols:\n",
    "    print(f\"   {c}: mean={stats[f'{c}_mean']:.2f}, stddev={stats[f'{c}_stddev']:.2f}\")\n",
    "\n",
    "for c in num_cols:\n",
    "    quantiles = df.approxQuantile(c, [0.01, 0.5, 0.99], 0.01)\n",
    "    print(f\"   {c} quantiles: {quantiles}\")\n",
    "\n",
    "# -----------------------------------------------------\n",
    "# 9. CATEGORY DISTRIBUTIONS\n",
    "# -----------------------------------------------------\n",
    "cat_cols = ['service_type', 'operator', 'network_type', 'customer_segment']\n",
    "for col in cat_cols:\n",
    "    dist = df.groupBy(col).count().orderBy(F.desc('count')).toPandas()\n",
    "    print(f\"\\nDistribution for {col}:\")\n",
    "    print(dist)\n",
    "\n",
    "# Optional: plot service_type distribution\n",
    "service_dist = df.groupBy('service_type').count().toPandas()\n",
    "plt.figure(figsize=(6,4))\n",
    "sns.barplot(data=service_dist, x='service_type', y='count')\n",
    "plt.title('Service Type Distribution')\n",
    "plt.tight_layout()\n",
    "plt.savefig('/tmp/service_type_distribution.png')\n",
    "print(\"   📊 Service type distribution plot saved.\")\n",
    "\n",
    "# -----------------------------------------------------\n",
    "# 10. ADVANCED QUALITY CHECKS (e.g., PII, anonymization, business rules)\n",
    "# -----------------------------------------------------\n",
    "sample_msisdn = df.select('msisdn').first()[0]\n",
    "is_anon = len(str(sample_msisdn)) == 16 and all(c in '0123456789abcdef' for c in str(sample_msisdn))\n",
    "print(f\"\\n🔒 Anonymization check (msisdn): {'✅ Passed' if is_anon else '❌ Failed'}\")\n",
    "\n",
    "# Business rule: duration > 0 for voice\n",
    "bad_voice = df.filter((F.col('service_type') == 'VOICE') & (F.col('duration') <= 0)).count()\n",
    "print(f\"   VOICE records with non-positive duration: {bad_voice:,}\")\n",
    "\n",
    "# Save head, stats, and plots for audit/documentation\n",
    "df.limit(100).toPandas().to_csv('/tmp/cdr_head_sample.csv', index=False)\n",
    "print(\"   ✅ Sample head exported for audit.\")\n",
    "\n",
    "print(\"\\n📊 Data exploration and profiling complete.\")\n",
    "\n",
    "spark.stop()\n",
    "print(\"\\n🔚 Spark session closed.\")\n"
   ]
  },
  {
   "cell_type": "code",
   "execution_count": null,
   "id": "ddb2f8c4-7529-41fe-8e71-e9c7f3cfcd02",
   "metadata": {},
   "outputs": [],
   "source": []
  }
 ],
 "metadata": {
  "kernelspec": {
   "display_name": "Python 3 (ipykernel)",
   "language": "python",
   "name": "python3"
  },
  "language_info": {
   "codemirror_mode": {
    "name": "ipython",
    "version": 3
   },
   "file_extension": ".py",
   "mimetype": "text/x-python",
   "name": "python",
   "nbconvert_exporter": "python",
   "pygments_lexer": "ipython3",
   "version": "3.11.6"
  }
 },
 "nbformat": 4,
 "nbformat_minor": 5
}
